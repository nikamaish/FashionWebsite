{
 "cells": [
  {
   "cell_type": "code",
   "execution_count": 2,
   "id": "ab0aea66",
   "metadata": {},
   "outputs": [],
   "source": [
    "import pandas as pd\n",
    "import requests\n",
    "import bs4"
   ]
  },
  {
   "cell_type": "raw",
   "id": "d952ffdd",
   "metadata": {},
   "source": []
  },
  {
   "cell_type": "code",
   "execution_count": 3,
   "id": "040ac2ab",
   "metadata": {},
   "outputs": [],
   "source": [
    "re=requests.get('https://www.flipkart.com/lenovo-p2-grey-graphite-grey-32-gb/p/itmeq5ygebzgqgfb?pid=MOBEZFHHVD8KXE7G&lid=LSTMOBEZFHHVD8KXE7GB0OS6I&marketplace=FLIPKART&q=leonovo+p2&store=tyy%2F4io&srno=s_1_2&otracker=search&otracker1=search&fm=search-autosuggest&iid=34482a46-44ec-47bb-9c45-ab0f1baf04f8.MOBEZFHHVD8KXE7G.SEARCH&ppt=hp&ppn=homepage&ssid=61j5a7w3i5vr4pa81652813949888&qH=1eb8ff93866677e7')"
   ]
  },
  {
   "cell_type": "code",
   "execution_count": 4,
   "id": "586d8d64",
   "metadata": {},
   "outputs": [
    {
     "data": {
      "text/plain": [
       "<Response [200]>"
      ]
     },
     "execution_count": 4,
     "metadata": {},
     "output_type": "execute_result"
    }
   ],
   "source": [
    "re"
   ]
  },
  {
   "cell_type": "code",
   "execution_count": 5,
   "id": "c9a5edcb",
   "metadata": {},
   "outputs": [],
   "source": [
    "soup=bs4.BeautifulSoup(re.text)"
   ]
  },
  {
   "cell_type": "code",
   "execution_count": 6,
   "id": "18a0555b",
   "metadata": {},
   "outputs": [
    {
     "data": {
      "text/plain": [
       "<!DOCTYPE html>\n",
       "<html lang=\"en\"><head><link href=\"https://rukminim1.flixcart.com\" rel=\"preconnect\"/><link href=\"//static-assets-web.flixcart.com/fk-p-linchpin-web/fk-cp-zion/css/app_modules.chunk.905c37.css\" rel=\"stylesheet\"/><link href=\"//static-assets-web.flixcart.com/fk-p-linchpin-web/fk-cp-zion/css/app.chunk.914d0a.css\" rel=\"stylesheet\"/><meta content=\"text/html; charset=utf-8\" http-equiv=\"Content-type\"/><meta content=\"IE=Edge\" http-equiv=\"X-UA-Compatible\"/><meta content=\"102988293558\" property=\"fb:page_id\"/><meta content=\"658873552,624500995,100000233612389\" property=\"fb:admins\"/><meta content=\"noodp\" name=\"robots\"/><link href=\"https:///www/promos/new/20150528-140547-favicon-retina.ico\" rel=\"shortcut icon\"/><link href=\"/osdd.xml?v=2\" rel=\"search\" type=\"application/opensearchdescription+xml\"/><meta content=\"website\" property=\"og:type\"/><meta content=\"Flipkart.com\" name=\"og_site_name\" property=\"og:site_name\"/><link href=\"/apple-touch-icon-57x57.png\" rel=\"apple-touch-icon\" sizes=\"57x57\"/><link href=\"/apple-touch-icon-72x72.png\" rel=\"apple-touch-icon\" sizes=\"72x72\"/><link href=\"/apple-touch-icon-114x114.png\" rel=\"apple-touch-icon\" sizes=\"114x114\"/><link href=\"/apple-touch-icon-144x144.png\" rel=\"apple-touch-icon\" sizes=\"144x144\"/><link href=\"/apple-touch-icon-57x57.png\" rel=\"apple-touch-icon\"/><meta content=\"app\" name=\"twitter:card\"/><meta content=\"@flipkart\" name=\"twitter:site\"/><meta content=\"@flipkart\" name=\"twitter:creator\"/><meta content=\"Lenovo P2 -Buy Lenovo P2 (Gold, 32 GB) Mobile Only at India's Best Online Shopping Store | Flipkart.com\" name=\"twitter:title\"/><meta content=\"Shop for electronics, apparels &amp; more using our Flipkart app Free shipping &amp; COD.\" name=\"twitter:description\"/><meta content=\"http://rukmini1.flixcart.com/image/300/300/mobile/e/7/g/lenovo-p2-p2a42-original-imaepw3wmzkyxvdq.jpeg\" property=\"twitter:image\"/><meta content=\"in\" name=\"twitter:app:country\"/><meta content=\"Flipkart\" name=\"al:ios:app_name\"/><meta content=\"742044692\" name=\"al:ios:app_store_id\"/><meta content=\"Flipkart\" name=\"twitter:app:name:iphone\"/><meta content=\"742044692\" name=\"twitter:app:id:iphone\"/><meta content=\"http://dl.flipkart.com/dl/home?\" name=\"twitter:app:url:iphone\"/><meta content=\"Flipkart\" name=\"twitter:app:name:ipad\"/><meta content=\"742044692\" name=\"twitter:app:id:ipad\"/><meta content=\"http://dl.flipkart.com/dl/home?\" name=\"twitter:app:url:ipad\"/><meta content=\"Flipkart\" name=\"twitter:app:name:googleplay\"/><meta content=\"com.flipkart.android\" name=\"twitter:app:id:googleplay\"/><meta content=\"http://dl.flipkart.com/dl/home?\" name=\"twitter:app:url:googleplay\"/><style>#container {\n",
       "\t\t\theight: 100%;\n",
       "\t\t}</style> <link href=\"///fk-cp-zion/css/Product.chunk.328172.css\" rel=\"stylesheet\"/><title>Lenovo P2 -Buy Lenovo P2 (Gold, 32 GB) Mobile Only at India's Best Online Shopping Store | Flipkart.com</title><meta content=\"Lenovo P2 -Buy Lenovo P2 (Gold, 32 GB) Mobile Only at India's Best Online Shopping Store | Flipkart.com\" name=\"og_title\" property=\"og:title\"/> <meta content=\"Lenovo P2 Smartphone |  Include 4G VOLTE, 3G, 2G, Qualcomm Snapdragon 625 MSM8953, 5100 mAh. Offer Price Rs. 13999! COD!\" name=\"Description\"/><meta content=\"Lenovo P2 Smartphone |  Include 4G VOLTE, 3G, 2G, Qualcomm Snapdragon 625 MSM8953, 5100 mAh. Offer Price Rs. 13999! COD!\" property=\"og:description\"/> <link href=\"http://www.flipkart.com/lenovo-p2-grey-graphite-grey-32-gb/p/itmeq5ygebzgqgfb\" rel=\"canonical\"/> <link href=\"android-app://com.flipkart.android/flipkart/de_pp_seg_--_ITMEQ5YGEBZGQGFB\" rel=\"alternate\"/> <meta content=\"http://rukmini1.flixcart.com/image/300/300/mobile/e/7/g/lenovo-p2-p2a42-original-imaepw3wmzkyxvdq.jpeg\" name=\"og_image\" property=\"og:image\"/> <meta content=\"http://www.flipkart.com/lenovo-p2-grey-graphite-grey-32-gb/p/itmeq5ygebzgqgfb\" name=\"og_url\" property=\"og:url\"/><meta content=\"F4EEB3A0AFFDD385992A06E6920C0AC3\" name=\"msvalidate.01\"/> <!--[if IE 9 ]>\n",
       "\t<script nonce=\"6969653920319942636\">\n",
       "\t\twindow.browserVersion = 'IE9';\n",
       "\t\tdocument.documentElement.className += ' ie9';\n",
       "\t</script>\n",
       "\t<![endif]--><!--[if !IE]><!--><script nonce=\"6969653920319942636\">if (/*@cc_on!@*/false) {\n",
       "\t\t\twindow.browserVersion = 'IE10';\n",
       "\t\t\tdocument.documentElement.className += ' ie10';\n",
       "\t\t}</script><!--<![endif]--> <script nonce=\"6969653920319942636\">!function(){if(\"PerformancePaintTiming\" in window){var e=window.__perf={e:[]};e.o=new PerformanceObserver(function(n){e.e=e.e.concat(n.getEntries())});try{e.o.observe({entryTypes:[\"paint\"]})}catch(e){}}}();\n",
       "\n",
       "\t\tif (requestAnimationFrame && performance && performance.mark) {\n",
       "\t\t\trequestAnimationFrame(function () {\n",
       "\t\t\t\twindow.first_paint = performance.now();\n",
       "\t\t\t\tperformance.mark(\"first_paint\");\n",
       "\t\t\t});\n",
       "\t\t}\n",
       "\n",
       "        // web-vitals polyfill for FID\n",
       "        !function(n,e){var t,o,i,c=[],f={passive:!0,capture:!0},r=new Date,a=\"pointerup\",u=\"pointercancel\";function p(n,c){t||(t=c,o=n,i=new Date,w(e),s())}function s(){o>=0&&o<i-r&&(c.forEach(function(n){n(o,t)}),c=[])}function l(t){if(t.cancelable){var o=(t.timeStamp>1e12?new Date:performance.now())-t.timeStamp;\"pointerdown\"==t.type?function(t,o){function i(){p(t,o),r()}function c(){r()}function r(){e(a,i,f),e(u,c,f)}n(a,i,f),n(u,c,f)}(o,t):p(o,t)}}function w(n){[\"click\",\"mousedown\",\"keydown\",\"touchstart\",\"pointerdown\"].forEach(function(e){n(e,l,f)})}w(n),self.perfMetrics=self.perfMetrics||{},self.perfMetrics.onFirstInputDelay=function(n){c.push(n),s()}}(addEventListener,removeEventListener);</script><script async=\"\" src=\"https://www.googletagmanager.com/gtag/js?id=AW-594691041\"></script><script nonce=\"6969653920319942636\">window.dataLayer = window.dataLayer || [];\n",
       "\t\tfunction gtag(){dataLayer.push(arguments)};\n",
       "\t\tgtag('js', new Date());</script></head><body><div id=\"container\"><div><div class=\"_1kfTjk\"><div class=\"_1rH5Jn\"><div class=\"_1TmfNK\"></div><div class=\"_2Xfa2_\"><div class=\"_3_C9Hx\"><div class=\"_3qX0zy\"><a href=\"/\"><img alt=\"Flipkart\" class=\"_2xm1JU\" src=\"//static-assets-web.flixcart.com/fk-p-linchpin-web/fk-cp-zion/img/flipkart-plus_8d85f4.png\" title=\"Flipkart\" width=\"75\"/></a><a class=\"_21ljIi\" href=\"/plus\">Explore<!-- --> <span class=\"_2FVHGh\">Plus</span><img src=\"//static-assets-web.flixcart.com/fk-p-linchpin-web/fk-cp-zion/img/plus_aef861.png\" width=\"10\"/></a></div></div><div class=\"_1cmsER\"><form action=\"/search\" class=\"_2M8cLY header-form-search\" method=\"GET\"><div class=\"col-12-12 _2oO9oE\"><div class=\"_3OO5Xc\"><input autocomplete=\"off\" class=\"_3704LK\" name=\"q\" placeholder=\"Search for products, brands and more\" title=\"Search for products, brands and more\" type=\"text\" value=\"\"/></div><button class=\"L0Z3Pu\" type=\"submit\"><svg class=\"\" height=\"20\" viewbox=\"0 0 17 18\" width=\"20\" xmlns=\"http://www.w3.org/2000/svg\"><g fill=\"#2874F1\" fill-rule=\"evenodd\"><path class=\"_34RNph\" d=\"m11.618 9.897l4.225 4.212c.092.092.101.232.02.313l-1.465 1.46c-.081.081-.221.072-.314-.02l-4.216-4.203\"></path><path class=\"_34RNph\" d=\"m6.486 10.901c-2.42 0-4.381-1.956-4.381-4.368 0-2.413 1.961-4.369 4.381-4.369 2.42 0 4.381 1.956 4.381 4.369 0 2.413-1.961 4.368-4.381 4.368m0-10.835c-3.582 0-6.486 2.895-6.486 6.467 0 3.572 2.904 6.467 6.486 6.467 3.582 0 6.486-2.895 6.486-6.467 0-3.572-2.904-6.467-6.486-6.467\"></path></g></svg></button><input name=\"otracker\" type=\"hidden\" value=\"search\"/><input name=\"otracker1\" type=\"hidden\" value=\"search\"/><input name=\"marketplace\" type=\"hidden\" value=\"FLIPKART\"/><input name=\"as-show\" type=\"hidden\" value=\"off\"/><input name=\"as\" type=\"hidden\" value=\"off\"/></div><ul class=\"col-12-12 _1MRYA1\"></ul></form></div><div class=\"go_DOp _2errNR\"><div class=\"_28p97w\"><div class=\"_1psGvi _3BvnxG\"><div><a class=\"_1_3w1N\" href=\"/account/login?ret=/lenovo-p2-grey-graphite-grey-32-gb/p/itmeq5ygebzgqgfb%3Fpid%3DMOBEZFHHVD8KXE7G%26lid%3DLSTMOBEZFHHVD8KXE7GB0OS6I%26marketplace%3DFLIPKART%26q%3Dleonovo%2Bp2%26store%3Dtyy%252F4io%26srno%3Ds_1_2%26otracker%3Dsearch%26otracker1%3Dsearch%26fm%3Dsearch-autosuggest%26iid%3D34482a46-44ec-47bb-9c45-ab0f1baf04f8.MOBEZFHHVD8KXE7G.SEARCH%26ppt%3Dhp%26ppn%3Dhomepage%26ssid%3D61j5a7w3i5vr4pa81652813949888%26qH%3D1eb8ff93866677e7\">Login</a></div></div></div></div><div class=\"go_DOp\"><a class=\"_3-PJz-\" href=\"https://seller.flipkart.com/sell-online/?utm_source=fkwebsite&amp;utm_medium=websitedirect\"><span>Become a Seller</span></a></div><div class=\"go_DOp\"><div class=\"_28p97w\"><div class=\"_1psGvi _3BvnxG\"><div><div class=\"exehdJ\"> <!-- -->More<!-- --> </div></div></div><svg class=\"zZ3yfL\" height=\"8\" viewbox=\"0 0 16 27\" width=\"4.7\" xmlns=\"http://www.w3.org/2000/svg\"><path class=\"_2gTTdy\" d=\"M16 23.207L6.11 13.161 16 3.093 12.955 0 0 13.161l12.955 13.161z\" fill=\"#fff\"></path></svg></div></div><div class=\"go_DOp\"><div class=\"_1psGvi\"><div class=\"YUhWwv\"><a class=\"_3SkBxJ\" href=\"/viewcart?exploreMode=true&amp;preference=FLIPKART\"><svg class=\"V3C5bO\" height=\"14\" viewbox=\"0 0 16 16\" width=\"14\" xmlns=\"http://www.w3.org/2000/svg\"><path class=\"_1bS9ic\" d=\"M15.32 2.405H4.887C3 2.405 2.46.805 2.46.805L2.257.21C2.208.085 2.083 0 1.946 0H.336C.1 0-.064.24.024.46l.644 1.945L3.11 9.767c.047.137.175.23.32.23h8.418l-.493 1.958H3.768l.002.003c-.017 0-.033-.003-.05-.003-1.06 0-1.92.86-1.92 1.92s.86 1.92 1.92 1.92c.99 0 1.805-.75 1.91-1.712l5.55.076c.12.922.91 1.636 1.867 1.636 1.04 0 1.885-.844 1.885-1.885 0-.866-.584-1.593-1.38-1.814l2.423-8.832c.12-.433-.206-.86-.655-.86\" fill=\"#fff\"></path></svg><span>Cart</span></a></div></div></div></div><div class=\"_1TmfNK\"></div></div><div class=\"_1mUdNz\"></div></div><div class=\"_331-kn\"></div><div class=\"_2c7YLP UtUXW0 _6t1WkM _3HqJxg\"><div class=\"_1YokD2 _2GoDe3\" style=\"background-color:#FFFFFF;padding:16px 16px 16px 16px\"><div class=\"_1YokD2 _3Mn1Gg col-5-12 _78xt5Y\"><div class=\"_1AtVbE col-12-12\"><div class=\"_1iyjIJ\"><div class=\"_3li7GG\"><div class=\"_35DpL-\"><div class=\"_2FHWw4\"><div class=\"_2mLllQ\" style=\"height:768px\"><ul class=\"_3GnUWp\" style=\"-webkit-transform:translateY(-0px);-moz-transform:translateY(-0px);-o-transform:translateY(-0px);-ms-transform:translateY(-0px);transform:translateY(-0px)\"><li class=\"_20Gt85 _1Y_A6W\" style=\"height:64px\"><div class=\"_1AuMiq P9aMAP\"><div class=\"_2E1FGS\"><img class=\"q6DClP\" src=\"https://rukminim1.flixcart.com/image/128/128/mobile/e/7/g/lenovo-p2-p2a42-original-imaepw3wmzkyxvdq.jpeg?q=70\"/></div></div></li><li class=\"_20Gt85 _1Y_A6W\" style=\"height:64px\"><div class=\"_1AuMiq\"><div class=\"_2E1FGS\"><img class=\"q6DClP\" src=\"https://rukminim1.flixcart.com/image/128/128/mobile/e/7/g/lenovo-p2-p2a42-original-imaepw3wyghzuj4y.jpeg?q=70\"/></div></div></li><li class=\"_20Gt85 _1Y_A6W\" style=\"height:64px\"><div class=\"_1AuMiq\"><div class=\"_2E1FGS\"><img class=\"q6DClP\" src=\"https://rukminim1.flixcart.com/image/128/128/mobile/e/7/g/lenovo-p2-p2a42-original-imaepw3tgved67hu.jpeg?q=70\"/></div></div></li><li class=\"_20Gt85 _1Y_A6W\" style=\"height:64px\"><div class=\"_1AuMiq\"><div class=\"_2E1FGS\"><img class=\"q6DClP\" src=\"https://rukminim1.flixcart.com/image/128/128/mobile/e/7/g/lenovo-p2-p2a42-original-imaepw3wkuuhzwjh.jpeg?q=70\"/></div></div></li><li class=\"_20Gt85 _1Y_A6W\" style=\"height:64px\"><div class=\"_1AuMiq\"><div class=\"_2E1FGS\"><img class=\"q6DClP\" src=\"https://rukminim1.flixcart.com/image/128/128/mobile/e/7/g/lenovo-p2-p2a42-original-imaepw3wxgtmpchy.jpeg?q=70\"/></div></div></li><li class=\"_20Gt85 _1Y_A6W\" style=\"height:64px\"><div class=\"_1AuMiq\"><div class=\"_2E1FGS\"><img class=\"q6DClP\" src=\"https://rukminim1.flixcart.com/image/128/128/mobile/e/7/g/lenovo-p2-p2a42-original-imaepw3w24krgf3f.jpeg?q=70\"/></div></div></li><li class=\"_20Gt85 _1Y_A6W\" style=\"height:64px\"><div class=\"_1AuMiq\"><div class=\"_2E1FGS\"><img class=\"q6DClP\" src=\"https://rukminim1.flixcart.com/image/128/128/mobile/e/7/g/lenovo-p2-p2a42-original-imaepw3x8zhmpg7a.jpeg?q=70\"/></div></div></li><li class=\"_20Gt85 _1Y_A6W\" style=\"height:64px\"><div class=\"_1AuMiq\"><div class=\"_2E1FGS\"><img class=\"q6DClP\" src=\"https://rukminim1.flixcart.com/image/128/128/mobile/e/7/g/lenovo-p2-p2a42-original-imaepw3xhkdvthff.jpeg?q=70\"/></div></div></li><li class=\"_20Gt85 _1Y_A6W\" style=\"height:64px\"><div class=\"_1AuMiq\"><div class=\"_2E1FGS\"><img class=\"q6DClP\" src=\"https://rukminim1.flixcart.com/image/128/128/mobile/e/7/g/lenovo-p2-p2a42-original-imaepw3wcrkkuqra.jpeg?q=70\"/></div></div></li><li class=\"_20Gt85 _1Y_A6W\" style=\"height:64px\"><div class=\"_1AuMiq\"><div class=\"_2E1FGS\"><img class=\"q6DClP\" src=\"https://rukminim1.flixcart.com/image/128/128/mobile/e/7/g/lenovo-p2-p2a42-original-imaepw3wkje3yduf.jpeg?q=70\"/></div></div></li><li class=\"_20Gt85 _1Y_A6W\" style=\"height:64px\"><div class=\"_1AuMiq\"><div class=\"_2E1FGS\"><img class=\"q6DClP\" src=\"https://rukminim1.flixcart.com/image/128/128/mobile/e/7/g/lenovo-p2-p2a42-original-imaepw3wqf4qakyx.jpeg?q=70\"/></div></div></li><li class=\"_20Gt85 _1Y_A6W\" style=\"height:64px\"><div class=\"_1AuMiq\"><div class=\"_2E1FGS\"><img class=\"q6DClP\" src=\"https://rukminim1.flixcart.com/image/128/128/mobile/e/7/g/lenovo-p2-p2a42-original-imaepw3wjhyqjhga.jpeg?q=70\"/></div></div></li></ul></div><div class=\"_1VfWRb _3jywji YTKFIp\"><svg class=\"_1YdSSj\" height=\"15\" viewbox=\"0 0 16 27\" width=\"8\" xmlns=\"http://www.w3.org/2000/svg\"><path class=\"\" d=\"M16 23.207L6.11 13.161 16 3.093 12.955 0 0 13.161l12.955 13.161z\" fill=\"#000\"></path></svg></div><div class=\"_1VfWRb VnysFO\"><svg class=\"_1YdSSj\" height=\"15\" viewbox=\"0 0 16 27\" width=\"8\" xmlns=\"http://www.w3.org/2000/svg\"><path class=\"\" d=\"M16 23.207L6.11 13.161 16 3.093 12.955 0 0 13.161l12.955 13.161z\" fill=\"#000\"></path></svg></div></div></div><div class=\"_1BweB8\"><div class=\"_3kidJX\"><div class=\"_3A1TYz\" style=\"height:0;width:0\"></div><div class=\"CXW8mj _3nMexc\" style=\"height:inherit;width:inherit\"><img alt=\"Lenovo P2 (GREY / GRAPHITE GREY, 32 GB)\" class=\"_396cs4 _2amPTt _3qGmMb\" loading=\"eager\" src=\"https://rukminim1.flixcart.com/image/416/416/mobile/e/7/g/lenovo-p2-p2a42-original-imaepw3wmzkyxvdq.jpeg?q=70\" srcset=\"https://rukminim1.flixcart.com/image/832/832/mobile/e/7/g/lenovo-p2-p2a42-original-imaepw3wmzkyxvdq.jpeg?q=70 2x, https://rukminim1.flixcart.com/image/416/416/mobile/e/7/g/lenovo-p2-p2a42-original-imaepw3wmzkyxvdq.jpeg?q=70 1x\"/></div></div><div class=\"bXrC_t\" style=\"left:0;width:0;height:0\"><img class=\"_3_UeBw\"/></div></div></div><div class=\"_2hVSre _25_uYi\"><div class=\"_36FSn5\"><svg class=\"_1l0elc\" height=\"16\" viewbox=\"0 0 20 16\" width=\"16\" xmlns=\"http://www.w3.org/2000/svg\"><path class=\"eX72wL\" d=\"M8.695 16.682C4.06 12.382 1 9.536 1 6.065 1 3.219 3.178 1 5.95 1c1.566 0 3.069.746 4.05 1.915C10.981 1.745 12.484 1 14.05 1 16.822 1 19 3.22 19 6.065c0 3.471-3.06 6.316-7.695 10.617L10 17.897l-1.305-1.215z\" fill=\"#2874F0\" fill-rule=\"evenodd\" opacity=\".9\" stroke=\"#FFF\"></path></svg></div></div></div></div><div class=\"_1AtVbE col-12-12\"></div></div><div class=\"_1YokD2 _3Mn1Gg col-8-12\" style=\"padding:0px 0px 0px 24px\"><div class=\"_1YokD2 _2GoDe3\"><div class=\"_1AtVbE\" style=\"flex-grow:1;overflow:auto\"><div class=\"_1MR4o5\"><div class=\"_3GIHBu\"><a class=\"_2whKao\" href=\"/?otracker=product_breadCrumbs_Home\">Home</a><svg class=\"_39X-Og\" height=\"27\" viewbox=\"0 0 16 27\" width=\"16\" xmlns=\"http://www.w3.org/2000/svg\"><path class=\"DpXnhQ\" d=\"M16 23.207L6.11 13.161 16 3.093 12.955 0 0 13.161l12.955 13.161z\" fill=\"#fff\"></path></svg></div><div class=\"_3GIHBu\"><a class=\"_2whKao\" href=\"/mobiles-accessories/pr?sid=tyy&amp;marketplace=FLIPKART&amp;otracker=product_breadCrumbs_Mobiles+%26+Accessories\">Mobiles &amp; Accessories</a><svg class=\"_39X-Og\" height=\"27\" viewbox=\"0 0 16 27\" width=\"16\" xmlns=\"http://www.w3.org/2000/svg\"><path class=\"DpXnhQ\" d=\"M16 23.207L6.11 13.161 16 3.093 12.955 0 0 13.161l12.955 13.161z\" fill=\"#fff\"></path></svg></div><div class=\"_3GIHBu\"><a class=\"_2whKao\" href=\"/mobiles/pr?sid=tyy,4io&amp;marketplace=FLIPKART&amp;otracker=product_breadCrumbs_Mobiles\">Mobiles</a><svg class=\"_39X-Og\" height=\"27\" viewbox=\"0 0 16 27\" width=\"16\" xmlns=\"http://www.w3.org/2000/svg\"><path class=\"DpXnhQ\" d=\"M16 23.207L6.11 13.161 16 3.093 12.955 0 0 13.161l12.955 13.161z\" fill=\"#fff\"></path></svg></div><div class=\"_3GIHBu\"><a class=\"_2whKao\" href=\"/mobiles/lenovo~brand/pr?sid=tyy,4io&amp;marketplace=FLIPKART&amp;otracker=product_breadCrumbs_Lenovo+Mobiles\">Lenovo Mobiles</a><svg class=\"_39X-Og\" height=\"27\" viewbox=\"0 0 16 27\" width=\"16\" xmlns=\"http://www.w3.org/2000/svg\"><path class=\"DpXnhQ\" d=\"M16 23.207L6.11 13.161 16 3.093 12.955 0 0 13.161l12.955 13.161z\" fill=\"#fff\"></path></svg></div><div class=\"_3GIHBu\"><div class=\"_1LJS6T _2whKao _1QoaG0\"><div class=\"_2NKhZn\"><p>Lenovo P2 (GREY / GRAPHITE GREY, 32 GB) (4 GB RAM)</p>\n",
       "</div></div><svg class=\"_39X-Og\" height=\"27\" viewbox=\"0 0 16 27\" width=\"16\" xmlns=\"http://www.w3.org/2000/svg\"><path class=\"DpXnhQ\" d=\"M16 23.207L6.11 13.161 16 3.093 12.955 0 0 13.161l12.955 13.161z\" fill=\"#fff\"></path></svg></div></div></div><div class=\"_1AtVbE col-12-12\" style=\"flex:0 0 90px;max-width:90px\"><div class=\"_3PzNI- _3EPyR5\"><span class=\"f3A4_V\"><label class=\"_2iDkf8\"><input class=\"_30VH1S\" readonly=\"\" type=\"checkbox\"/><div class=\"_24_Dny\"></div></label></span><label class=\"_6Up2sF\">Compare</label></div></div><div class=\"_1AtVbE col-12-12\" style=\"flex:0 0 90px;max-width:90px\"><div class=\"_1GpbsQ\"><div class=\"Bv11UC\"><span class=\"\"><span class=\"_2kXMeX\"><svg class=\"Kj-yxs\" height=\"18\" width=\"18\" xmlns=\"http://www.w3.org/2000/svg\"><path class=\"_2bvlkb\" d=\"M14.78 5.883L9.032 0v3.362C3.284 4.202.822 8.404 0 12.606 2.053 9.666 4.927 8.32 9.032 8.32v3.446l5.748-5.883z\" fill=\"#c2c2c2\" fill-rule=\"evenodd\"></path></svg><span style=\"margin-left:5px\">Share</span></span></span></div></div></div></div><div class=\"_1AtVbE col-12-12\"><div class=\"aMaAEs\"><div><h1 class=\"yhB1nd\"><span class=\"B_NuCI\">Lenovo P2 (GREY / GRAPHITE GREY, 32 GB)<!-- -->  (4 GB RAM)</span></h1></div><div class=\"\"><div class=\"_3_L3jD\"><div class=\"gUuXy- _16VRIQ\"><span class=\"_1lRcqv\" id=\"productRating_LSTMOBEZFHHVD8KXE7GB0OS6I_MOBEZFHHVD8KXE7G_\"><div class=\"_3LWZlK\">4.3<img class=\"_1wB99o\" src=\"data:image/svg+xml;base64,PHN2ZyB4bWxucz0iaHR0cDovL3d3dy53My5vcmcvMjAwMC9zdmciIHdpZHRoPSIxMyIgaGVpZ2h0PSIxMiI+PHBhdGggZmlsbD0iI0ZGRiIgZD0iTTYuNSA5LjQzOWwtMy42NzQgMi4yMy45NC00LjI2LTMuMjEtMi44ODMgNC4yNTQtLjQwNEw2LjUuMTEybDEuNjkgNC4wMSA0LjI1NC40MDQtMy4yMSAyLjg4Mi45NCA0LjI2eiIvPjwvc3ZnPg==\"/></div></span><span class=\"_2_R_DZ\"><span><span>20,603 Ratings </span><span class=\"_13vcmD\">&amp;</span><span> 5,846 Reviews</span></span></span></div></div><span class=\"b7864- _2Z07dN\"><img class=\"jMnjzX\" height=\"21\" src=\"//static-assets-web.flixcart.com/fk-p-linchpin-web/fk-cp-zion/img/fa_62673a.png\"/></span></div><div class=\"dyC4hf\"><div class=\"CEmiEU\"><div class=\"_25b18c\"><div class=\"_30jeq3 _16Jk6d\">₹17,999</div></div></div><div class=\"_1V9q7_\"><div class=\"_25icda\" id=\"price-info-icon\"><svg class=\"_3ECE0V\" height=\"20\" viewbox=\"0 0 20 20\" width=\"20\" xmlns=\"http://www.w3.org/2000/svg\"><defs><circle cx=\"8\" cy=\"8\" id=\"b\" r=\"8\"></circle><filter filterunits=\"objectBoundingBox\" height=\"130%\" id=\"a\" width=\"130%\" x=\"-15%\" y=\"-8.8%\"><femorphology in=\"SourceAlpha\" operator=\"dilate\" radius=\".4\" result=\"shadowSpreadOuter1\"></femorphology><feoffset dy=\"1\" in=\"shadowSpreadOuter1\" result=\"shadowOffsetOuter1\"></feoffset><fegaussianblur in=\"shadowOffsetOuter1\" result=\"shadowBlurOuter1\" stddeviation=\".5\"></fegaussianblur><fecomposite in=\"shadowBlurOuter1\" in2=\"SourceAlpha\" operator=\"out\" result=\"shadowBlurOuter1\"></fecomposite><fecolormatrix in=\"shadowBlurOuter1\" values=\"0 0 0 0 0 0 0 0 0 0 0 0 0 0 0 0 0 0 0.2 0\"></fecolormatrix></filter></defs><g fill=\"none\" fill-rule=\"evenodd\"><g transform=\"translate(2 1)\"><use fill=\"#000\" filter=\"url(#a)\" xlink:href=\"#b\"></use><use fill=\"#FCFCFC\" stroke=\"#000\" stroke-opacity=\".3\" stroke-width=\".8\" xlink:href=\"#b\"></use></g><text fill=\"#1D1D1D\" font-family=\"Roboto-Medium, Roboto\" font-size=\"11\" font-weight=\"400\" opacity=\".59\" transform=\"translate(2 1)\"><tspan x=\"6.6\" y=\"12.2\">i</tspan></text></g></svg></div></div></div><div class=\"wjKmXL\"><li>+ ₹49 Secured Packaging Fee</li></div></div></div><div class=\"_1AtVbE col-12-12\" style=\"padding:24px 0px 0px 0px\"><div class=\"_16FRp0\">Coming Soon</div></div><div class=\"_1AtVbE col-12-12\"><div class=\"_3Z0lU8\"><div class=\"rd9nIL\">Available offers</div></div><div class=\"_3TT44I\"><div class=\"WT_FyS\"><div class=\"XUp0WS\"><span class=\"_3j4Zjq row\"><img class=\"_3HLfAg\" height=\"18\" src=\"https://rukminim1.flixcart.com/www/36/36/promos/06/09/2016/c22c9fc4-0555-4460-8401-bf5c28d7ba29.png?q=90\" width=\"18\"/><li class=\"_16eBzU col\"><span class=\"u8dYXW\">Bank Offer</span><span>10% off on Bank of Baroda Credit Card Transactions, up to ₹1,000 on orders of ₹8,000 and above</span><div class=\"Bv11UC _1qNw3R\"><span class=\"fGhUR2\">T&amp;C</span></div></li></span><span class=\"_3j4Zjq row\"><img class=\"_3HLfAg\" height=\"18\" src=\"https://rukminim1.flixcart.com/www/36/36/promos/06/09/2016/c22c9fc4-0555-4460-8401-bf5c28d7ba29.png?q=90\" width=\"18\"/><li class=\"_16eBzU col\"><span class=\"u8dYXW\">Bank Offer</span><span>Flat ₹1250  Discount on HDFC Bank Credit Card EMI Transactions on orders of ₹15,000 and above</span><div class=\"Bv11UC _1qNw3R\"><span class=\"fGhUR2\">T&amp;C</span></div></li></span><span class=\"_3j4Zjq row\"><img class=\"_3HLfAg\" height=\"18\" src=\"https://rukminim1.flixcart.com/www/36/36/promos/06/09/2016/c22c9fc4-0555-4460-8401-bf5c28d7ba29.png?q=90\" width=\"18\"/><li class=\"_16eBzU col\"><span class=\"u8dYXW\">Bank Offer</span><span>10% off on Bank of Baroda Credit Card EMI Transactions, up to ₹1,500 on orders of ₹8,000 and above</span><div class=\"Bv11UC _1qNw3R\"><span class=\"fGhUR2\">T&amp;C</span></div></li></span><span class=\"_3j4Zjq row\"><img class=\"_3HLfAg\" height=\"18\" src=\"https://rukminim1.flixcart.com/www/36/36/promos/06/09/2016/c22c9fc4-0555-4460-8401-bf5c28d7ba29.png?q=90\" width=\"18\"/><li class=\"_16eBzU col\"><span>Extra ₹4,999 Off on Hero Bikes &amp; Scooters on purchase of ₹80,000 or more</span><div class=\"Bv11UC _1qNw3R\"><span class=\"fGhUR2\">T&amp;C</span></div></li></span></div><button class=\"_1JIkBw\"><div class=\"row\"><div class=\"IMZJg1\"><span>View 11 more offers</span></div></div></button></div></div></div><div class=\"_1AtVbE col-12-12\"><div class=\"_1UdlE-\"><div class=\"_4ju5o2\"><div class=\"_3nWYNs\"><img src=\"https://rukminim1.flixcart.com/image/160/160/prod-fk-cms-brand-images/34c4b092f93b1e0f96f5f6c3b64049b5fda6ab07ed14201466005791b7644994.jpg?q=90\"/></div></div><div class=\"XcYV4g\"><div class=\"_352bdz\">Brand Warranty of 1 Year Available for Mobile and 6 Months for Accessories<span class=\"_3IIjhd\">Know More</span></div></div></div></div><div class=\"_1AtVbE col-12-12\"><div class=\"_3wmLAA\"><div class=\"ffYZ17 col col-6-12\"><div class=\"_22QfJJ\"><span class=\"_1rcQuH\" id=\"Color\">Color</span><div><ul class=\"_1q8vHb\"><li class=\"_3V2wfe\" id=\"swatch-0-color\"><a class=\"kmlXmn PP89tw qaAL3J\" data-img=\"http://rukmini1.flixcart.com/image/{@width}/{@height}/mobile/e/7/g/lenovo-p2-p2a42-original-imaepw3wmzkyxvdq.jpeg?q={@quality}\" href=\"/lenovo-p2-grey-graphite-grey-32-gb/p/itmeq5ygebzgqgfb?pid=MOBEZFHHVD8KXE7G&amp;lid=LSTMOBEZFHHVD8KXE7GB0OS6I&amp;marketplace=FLIPKART&amp;sattr[]=color&amp;sattr[]=ram&amp;st=color\"><div class=\"_2C41yO\" data-img=\"http://rukmini1.flixcart.com/image/{@width}/{@height}/mobile/e/7/g/lenovo-p2-p2a42-original-imaepw3wmzkyxvdq.jpeg?q={@quality}\"><img class=\"_30PAEw\" src=\"https://rukminim1.flixcart.com/image/144/144/mobile/e/7/g/lenovo-p2-p2a42-original-imaepw3wmzkyxvdq.jpeg?q=50\"/></div></a><div class=\"_2OTVHf _3NVE7n _1mQK5h _2J-DXM\"><div class=\"_3Oikkn _3_ezix _2KarXJ\">GREY / GRAPHITE GREY</div></div></li><li class=\"_3V2wfe\" id=\"swatch-1-color\"><a class=\"kmlXmn qaAL3J\" data-img=\"http://rukmini1.flixcart.com/image/{@width}/{@height}/mobile/s/f/n/lenovo-p2-p2a42-original-imaepw3ws2h8gvbz.jpeg?q={@quality}\" href=\"/lenovo-p2-gold-32-gb/p/itmeq5ygvgq9vyfn?pid=MOBEZFHHURMWYSFN&amp;lid=LSTMOBEZFHHURMWYSFNJKZR4Y&amp;marketplace=FLIPKART&amp;sattr[]=color&amp;sattr[]=ram&amp;st=color\"><div class=\"_2C41yO\" data-img=\"http://rukmini1.flixcart.com/image/{@width}/{@height}/mobile/s/f/n/lenovo-p2-p2a42-original-imaepw3ws2h8gvbz.jpeg?q={@quality}\"><img class=\"_30PAEw\" src=\"https://rukminim1.flixcart.com/image/144/144/mobile/s/f/n/lenovo-p2-p2a42-original-imaepw3ws2h8gvbz.jpeg?q=50\"/></div></a><div class=\"_2OTVHf _3NVE7n _1mQK5h _2J-DXM\"><div class=\"_3Oikkn _3_ezix _2KarXJ\">Gold</div></div></li><li class=\"_3V2wfe\" id=\"swatch-2-color\"><a class=\"kmlXmn qaAL3J\" data-img=\"http://rukmini1.flixcart.com/image/{@width}/{@height}/mobile/e/7/g/lenovo-p2-p2a42-original-imaepw3wmzkyxvdq.jpeg?q={@quality}\" href=\"/lenovo-p2-grey-graphite-grey-32-gb/p/itmeq5ygvgq9vyfn?pid=MOBEZFHH2JYGXSNF&amp;lid=LSTMOBEZFHH2JYGXSNFXXQZRD&amp;marketplace=FLIPKART&amp;sattr[]=color&amp;sattr[]=ram&amp;st=color\"><div class=\"_2C41yO\" data-img=\"http://rukmini1.flixcart.com/image/{@width}/{@height}/mobile/e/7/g/lenovo-p2-p2a42-original-imaepw3wmzkyxvdq.jpeg?q={@quality}\"><img class=\"_30PAEw\" src=\"https://rukminim1.flixcart.com/image/144/144/mobile/e/7/g/lenovo-p2-p2a42-original-imaepw3wmzkyxvdq.jpeg?q=50\"/></div></a><div class=\"_2OTVHf _3NVE7n _1mQK5h _2J-DXM\"><div class=\"_3Oikkn _3_ezix _2KarXJ\">Grey/Graphite Grey</div></div></li></ul></div></div><div class=\"_2OTVHf _3duxeq z0fG_Y _1mQK5h _3MaULO _2wPDps\"><div class=\"_3Oikkn _3_ezix\"><span>Please select a Color to proceed</span><button class=\"_2KpZ6l FYrnUt\">✕</button></div></div></div><div class=\"ffYZ17 col col-6-12\"><div class=\"_22QfJJ\"><span class=\"_1rcQuH\" id=\"RAM\">RAM</span><div><ul class=\"_1q8vHb\"><li class=\"_3V2wfe\" id=\"swatch-0-ram\"><a class=\"_1fGeJ5 qaAL3J\" href=\"/lenovo-p2-gold-32-gb/p/itmeq5ygvgq9vyfn?pid=MOBEZFHHURMWYSFN&amp;lid=LSTMOBEZFHHURMWYSFNJKZR4Y&amp;marketplace=FLIPKART&amp;sattr[]=color&amp;sattr[]=ram&amp;st=ram\">3 GB</a><div class=\"_2OTVHf _3NVE7n _1mQK5h _2J-DXM\"><div class=\"_3Oikkn _3_ezix _2KarXJ\">3 GB</div></div></li><li class=\"_3V2wfe\" id=\"swatch-1-ram\"><a class=\"_1fGeJ5 PP89tw qaAL3J\" href=\"/lenovo-p2-grey-graphite-grey-32-gb/p/itmeq5ygebzgqgfb?pid=MOBEZFHHVD8KXE7G&amp;lid=LSTMOBEZFHHVD8KXE7GB0OS6I&amp;marketplace=FLIPKART&amp;sattr[]=color&amp;sattr[]=ram&amp;st=ram\">4 GB</a><div class=\"_2OTVHf _3NVE7n _1mQK5h _2J-DXM\"><div class=\"_3Oikkn _3_ezix _2KarXJ\">4 GB</div></div></li></ul></div></div><div class=\"_2OTVHf _3duxeq z0fG_Y _1mQK5h _3MaULO _2wPDps\"><div class=\"_3Oikkn _3_ezix\"><span>Please select a RAM to proceed</span><button class=\"_2KpZ6l FYrnUt\">✕</button></div></div></div></div></div><div class=\"_1AtVbE col-12-12\"></div><div class=\"_1YokD2 _2GoDe3\" style=\"padding:24px 0px 0px 0px\"><div class=\"_1AtVbE col-6-12\"><div class=\"_2cM9lP\"><div class=\"_3a9CI2\">Highlights</div><div class=\"_2418kt\"><ul><li class=\"_21Ahn-\">4 GB RAM | 32 GB ROM | Expandable Upto 128 GB</li><li class=\"_21Ahn-\">13.97 cm (5.5 inch) Full HD Display</li><li class=\"_21Ahn-\">13MP Rear Camera | 5MP Front Camera</li><li class=\"_21Ahn-\">5100 mAh Battery</li><li class=\"_21Ahn-\">Qualcomm Snapdragon 625 Octa Core 2.0GHz Processor</li></ul></div></div></div></div><div class=\"_1YokD2 _3Mn1Gg\"><div class=\"_3TOw5k\"><button class=\"_2KpZ6l _3CavZT _i6Wtg\"><div class=\"lOSaPu\"></div><span class=\"_-3gI08\">Read all details</span></button><div class=\"\"><div class=\"_1AtVbE col-12-12\"><div class=\"_1iWRKW\"><div class=\"_1jneHk\"><span>Seller</span></div><div><div class=\"_1RLviY\" id=\"sellerName\"><span><span>IndiFlashMart</span><div class=\"_3LWZlK _1D-8OL\">4.3<img class=\"_1wB99o\" src=\"data:image/svg+xml;base64,PHN2ZyB4bWxucz0iaHR0cDovL3d3dy53My5vcmcvMjAwMC9zdmciIHdpZHRoPSIxMyIgaGVpZ2h0PSIxMiI+PHBhdGggZmlsbD0iI0ZGRiIgZD0iTTYuNSA5LjQzOWwtMy42NzQgMi4yMy45NC00LjI2LTMuMjEtMi44ODMgNC4yNTQtLjQwNEw2LjUuMTEybDEuNjkgNC4wMSA0LjI1NC40MDQtMy4yMSAyLjg4Mi45NCA0LjI2eiIvPjwvc3ZnPg==\"/></div></span></div><div class=\"xDHSrl\"><ul class=\"_2-RJLI\"><li class=\"_1UNqMC\"><div class=\"_2MJMLX\">7 Days Replacement Policy<div class=\"Bv11UC\"><span class=\"question\">?</span></div></div></li><li class=\"_1UNqMC\"><div class=\"_2MJMLX\">GST invoice available<div class=\"Bv11UC\"><span class=\"question\">?</span></div></div></li></ul></div><li class=\"_38I6QT\"><a href=\"/sellers?pid=MOBEZFHHVD8KXE7G&amp;otracker=search&amp;fetchId=c6406fea-e9e2-48c1-9013-99c1d7d6bff0.MOBEZFHHVD8KXE7G\"><div class=\"_1_xoMS\">See other sellers</div></a></li></div></div></div><div class=\"_1YokD2 _2GoDe3\" style=\"padding:24px 0px 0px 0px\"><div class=\"_1AtVbE col-6-12\" style=\"padding:0px 12px 0px 0px\"><div><div class=\"_2xlWlq\"><div class=\"_3ywSr_\" style=\"padding-top:23.89%\"><div class=\"_1bEAQy _312yBx\" style=\"padding-top:23.89%\"><img alt=\"\" class=\"_2OHU_q\"/><img alt=\"\" class=\"kJjFO0 _3DIhEh\" src=\"https://rukminim1.flixcart.com/lockin/100/100/images/CCO__PP_2019-07-14.png?q=50\"/></div></div></div></div></div></div><div class=\"_1AtVbE col-12-12\"><div class=\"Qc7Nxn\"><div class=\"_2kmtEy\">Protect your product</div><div><div class=\"_29oOb_ _3r4dlJ\"><div class=\"_3E8aIl _3w1KX6 _5Nf4kt\"><div class=\"row VfA6M2\"><div class=\"col col-11-12 ughtY5 N5-HBi\"><div class=\"row\"><div class=\"col col-2-12\"><div class=\"vNo9KZ\"><div class=\"CXW8mj\" style=\"height:120px;width:120px\"><img alt=\"Digital Suraksha for Rs 50,000 by Bajaj Allianz\" class=\"_396cs4\" loading=\"lazy\" src=\"https://rukminim1.flixcart.com/image/312/312/kex5ci80/digital-combo/a/h/z/1-online-transaction-frauds-on-all-bank-accounts-credit-debit-original-imafvg2rkfrqhpzr.jpeg?q=70\"/></div></div></div><div class=\"col col-10-12 S30aw8\"><div><span class=\"_1z05G8\">Digital Suraksha for Rs 50,000 by Bajaj Allianz</span></div><div class=\"_2lsE4I\">Get your financial losses covered for online transaction frauds on all bank accounts, credit/ debit cards, mobile wallets. Covers scam calls, OTP SMS frauds, UPI, netbanking, Cyber Attacks, Sim-swapping, Phishing, Spoofing, and more.<a class=\"_1R_HKF\" href=\"https://www.flipkart.com/pages/cyber-insurance-tnc\" rel=\"noopener noreferrer\" target=\"_blank\">Know More</a></div><div class=\"_11kvd8\">Enjoy peace of mind against all kinds of Cyber Fraud!</div><div class=\"jxFxmm\"><div class=\"_25b18c\"><div class=\"_30jeq3\">₹183</div></div></div></div></div></div></div></div></div></div></div></div><div class=\"_1AtVbE col-12-12\"><div class=\"_3nkT-2\"><div class=\"_3cFJ8l\">Description</div><div class=\"_2o-xpa\"><div class=\"_1mXcCf RmoJUa\"><p>\n",
       " \tWith a 5100 mAh battery that can last for hours on end, there’s never a dull moment with the Lenovo P2 smartphone. And when the battery’s low, the Rapid Charge feature charges it up in just a matter of minutes. The One-Key power saver helps optimize battery life, so you get the most out of it for longer. Its 2 GHz Qualcomm octa-core processor, with 4 GB of DDR3 RAM, offers a smooth and fast performance without any stutter.</p></div><div class=\"_2RbGAi _1Gh8xC\"><div class=\"Dh6Djs\"></div></div></div><div class=\"_2eaE_9 _1Gh8xC\">Read More</div></div></div><div class=\"_1AtVbE col-12-12\"><div class=\"_1A1InN\"><div class=\"_2rp71H\">Product Description</div><div class=\"_1GoqrO\">Looking for a new smartphone? The Lenovo P2, with its beautiful body and impressive features, can be the one for you.</div></div><div class=\"_2k6Cpt\"><div class=\"K4SXrT funtru\"><div><div><div class=\"_2VJ5OP nQbOnP _3sy89e\"><img src=\"https://rukminim1.flixcart.com/image/200/200/mobile/q/u/y/lenovo-p2-p2a42-280x210-imaeq4xfdrajrubs.jpeg?q=90\" style=\"max-width:100%;vertical-align:middle\"/></div><div><div class=\"_3qWObK\">Long-lasting Battery</div><div class=\"_3zQntF\"><p>Watch movies, surf the Internet, play mobile games, listen to music or shoot photos - do whatever you love to do the most on your smartphone for hours on end. Its 5100 mAh battery will keep the fun going on for up to 3 days after a full charge. It offers you up to 16 hours of surfing the Internet, up to 18 hours of watching videos and up to 22 hours of playing music with a single charge.</p>\n",
       "</div></div></div></div></div></div><div class=\"_2k6Cpt\"><div class=\"K4SXrT funtru\"><div><div><div class=\"_2VJ5OP wXfMR4 _3sy89e\"><img src=\"https://rukminim1.flixcart.com/image/200/200/mobile/q/u/y/lenovo-p2-p2a42-400x400-imaeq4xfn8frrjgg.jpeg?q=90\" style=\"max-width:100%;vertical-align:middle\"/></div><div><div class=\"_3qWObK\">Rapid Charge Technology</div><div class=\"_3zQntF\"><p>Often, in the morning we don't have enough time to charge our phone fully. As a result, we have to look for phone chargers at work. Thanks to the 24 W Rapid Charge feature of this smartphone, you can get up to 10 hours of battery life in just 15 minutes.</p>\n",
       "</div></div></div></div></div></div><div class=\"_2k6Cpt _3g3pZU\"><div class=\"K4SXrT funtru\"><div><div><div class=\"_2VJ5OP nQbOnP _3sy89e\"><img src=\"https://rukminim1.flixcart.com/image/200/200/mobile/q/u/y/lenovo-p2-p2a42-280x210-imaeq4xfd4yd4par.jpeg?q=90\" style=\"max-width:100%;vertical-align:middle\"/></div><div><div class=\"_3qWObK\">One-Key Power Saver</div><div class=\"_3zQntF\"><p>The Lenovo P2 has a One-Key power saver button on its side, which can help you save battery life, making it run longer. All you need to do is slide the button to close all unwanted applications, optimize screen brightness and switch on the power-saving mode.</p>\n",
       "</div></div></div></div></div></div><div class=\"_2k6Cpt _3g3pZU\"><div class=\"K4SXrT funtru\"><div><div><div class=\"_2VJ5OP wXfMR4 _3sy89e\"><img src=\"https://rukminim1.flixcart.com/image/200/200/mobile/q/u/y/lenovo-p2-p2a42-400x400-imaeq4xfqdzaanzv.jpeg?q=90\" style=\"max-width:100%;vertical-align:middle\"/></div><div><div class=\"_3qWObK\">Stunning Design</div><div class=\"_3zQntF\"><p>The stunning body of this smartphone is 8.3 mm thin, making it sleek enough to fit easily in your grip. The full-metal design makes the Lenovo P2 tough enough to go wherever you go.</p>\n",
       "</div></div></div></div></div></div><div class=\"_2k6Cpt _3g3pZU\"><div class=\"K4SXrT funtru\"><div><div><div class=\"_2VJ5OP nQbOnP _3sy89e\"><img src=\"https://rukminim1.flixcart.com/image/200/200/mobile/q/u/y/lenovo-p2-p2a42-280x210-imaeq4wkvf7dsput.jpeg?q=90\" style=\"max-width:100%;vertical-align:middle\"/></div><div><div class=\"_3qWObK\">Powerful Performance</div><div class=\"_3zQntF\"><p>The Lenovo P2 features a 2.0 GHz Qualcomm® Snapdragon™ 625 true octa-core processor and a 4 GB LP DDR3 RAM, making it powerful enough to handle even the most demanding of tasks.</p>\n",
       "</div></div></div></div></div></div><div class=\"_2k6Cpt _3g3pZU\"><div class=\"K4SXrT funtru\"><div><div><div><div class=\"_3qWObK\">Storage</div><div class=\"_3zQntF\"><p>Featuring 32 GB of internal storage memory, this smartphone can accommodate a lot of songs, videos, photos and much more. You can also add a microSD card of up to 128 GB using the Hybrid Slot to further expand your phone's storage memory.</p>\n",
       "</div></div></div></div></div></div><div class=\"_2k6Cpt _3g3pZU\"><div class=\"K4SXrT funtru\"><div><div><div class=\"_2VJ5OP nQbOnP _3sy89e\"><img src=\"https://rukminim1.flixcart.com/image/200/200/mobile/q/u/y/lenovo-p2-p2a42-280x210-imaeq4xfwwb3jtuv.jpeg?q=90\" style=\"max-width:100%;vertical-align:middle\"/></div><div><div class=\"_3qWObK\">Perfect View Display</div><div class=\"_3zQntF\"><p>The 13.97 cm Full HD touchscreen of this smartphone features the Perfect View Display technology, so your onscreen visuals look sharp and vivid. With a 100% NTSC gamut, you can enjoy vibrant graphics with rich detail. The Super AMOLED screen technology optimizes the power usage without compromising on the quality of the graphics.</p>\n",
       "</div></div></div></div></div></div><div class=\"_2k6Cpt _3g3pZU\"><div class=\"K4SXrT funtru\"><div><div><div class=\"_2VJ5OP wXfMR4 _3sy89e\"><img src=\"https://rukminim1.flixcart.com/image/200/200/mobile/q/u/y/lenovo-p2-p2a42-400x400-imaeq4xffxgmeez7.jpeg?q=90\" style=\"max-width:100%;vertical-align:middle\"/></div><div><div class=\"_3qWObK\">Cameras</div><div class=\"_3zQntF\"><p>Thanks to the Sony image sensor and an LED flash, the 13 MP PDAF rear camera of this smartphone help you capture bright and beautiful photos, even in low light. The 5 MP front camera lets you take portrait-worthy selfies and 'groupfies'.</p>\n",
       "</div></div></div></div></div></div><div class=\"_2k6Cpt _3g3pZU\"><div class=\"K4SXrT funtru\"><div><div><div><div class=\"_3qWObK\">Connectivity</div><div class=\"_3zQntF\"><p>This smartphone has two nano SIM slots, of which one is a Hybrid SIM slot. It supports 4G LTE to offer you fast connectivity. With the Dual Apps feature, you can conveniently switch between the two SIMs, so your personal and professional contacts stay separate yet easily accessible.</p>\n",
       "</div></div></div></div></div></div><div class=\"_2k6Cpt _3g3pZU\"><div class=\"K4SXrT funtru\"><div><div><div><div class=\"_3qWObK\">Security</div><div class=\"_3zQntF\"><p>The Lenovo P2 has a fingerprint reader that makes unlocking your smartphone and accessing your data fast and secure.</p>\n",
       "</div></div></div></div></div></div><div class=\"_2k6Cpt _3g3pZU\"><div class=\"K4SXrT funtru\"><div><div><div class=\"_2VJ5OP nQbOnP _3sy89e\"><img src=\"https://rukminim1.flixcart.com/image/200/200/mobile/q/u/y/lenovo-p2-p2a42-400x400-imaeq4x2s3phuzfc.jpeg?q=90\" style=\"max-width:100%;vertical-align:middle\"/></div><div><div class=\"_3qWObK\">Android Marshmallow</div><div class=\"_3zQntF\"><p>The Lenovo P2 is powered by Android Marshmallow v6.0.1 operating system. With features such as, Doze and App Standby, this operating system saves your battery's power for what matters the most. Not only that, it also gives you access to cards and apps with useful information with just a single tap.</p>\n",
       "</div></div></div></div></div></div><button class=\"_2KpZ6l _1AJtlD\">View all features</button></div><div class=\"_1AtVbE col-12-12\"><div class=\"_3dtsli\"><div class=\"_5pFuey\">Specifications</div><div><div class=\"_1UhVsV _3AsE0T\"><div class=\"_3k-BhJ\"><div class=\"flxcaE\">Important Note:</div><table class=\"_14cfVK\"><tbody><tr class=\"_1s_Smc row\"><td class=\"URwL2w col col-12-12\"><ul><li class=\"_21lJbe\">Buyback Guarantee Available</li></ul></td></tr></tbody></table></div><div class=\"_3k-BhJ\"><div class=\"flxcaE\">General</div><table class=\"_14cfVK\"><tbody><tr class=\"_1s_Smc row\"><td class=\"_1hKmbr col col-3-12\">In The Box</td><td class=\"URwL2w col col-9-12\"><ul><li class=\"_21lJbe\">Handset, Black 12 V 2 A Fast Charger and USB Cable, Black Headphone, User Manual, Quick Start Guide, SIM Tray Tool, Transparent Case, OTG Adapter, Screen Protector</li></ul></td></tr><tr class=\"_1s_Smc row\"><td class=\"_1hKmbr col col-3-12\">Model Number</td><td class=\"URwL2w col col-9-12\"><ul><li class=\"_21lJbe\">P2a42</li></ul></td></tr><tr class=\"_1s_Smc row\"><td class=\"_1hKmbr col col-3-12\">Model Name</td><td class=\"URwL2w col col-9-12\"><ul><li class=\"_21lJbe\">P2</li></ul></td></tr><tr class=\"_1s_Smc row\"><td class=\"_1hKmbr col col-3-12\">Color</td><td class=\"URwL2w col col-9-12\"><ul><li class=\"_21lJbe\">GREY / GRAPHITE GREY</li></ul></td></tr><tr class=\"_1s_Smc row\"><td class=\"_1hKmbr col col-3-12\">Browse Type</td><td class=\"URwL2w col col-9-12\"><ul><li class=\"_21lJbe\">Smartphones</li></ul></td></tr><tr class=\"_1s_Smc row\"><td class=\"_1hKmbr col col-3-12\">SIM Type</td><td class=\"URwL2w col col-9-12\"><ul><li class=\"_21lJbe\">Dual Sim</li></ul></td></tr><tr class=\"_1s_Smc row\"><td class=\"_1hKmbr col col-3-12\">Hybrid Sim Slot</td><td class=\"URwL2w col col-9-12\"><ul><li class=\"_21lJbe\">Yes</li></ul></td></tr><tr class=\"_1s_Smc row\"><td class=\"_1hKmbr col col-3-12\">Touchscreen</td><td class=\"URwL2w col col-9-12\"><ul><li class=\"_21lJbe\">Yes</li></ul></td></tr><tr class=\"_1s_Smc row\"><td class=\"_1hKmbr col col-3-12\">OTG Compatible</td><td class=\"URwL2w col col-9-12\"><ul><li class=\"_21lJbe\">Yes</li></ul></td></tr><tr class=\"_1s_Smc row\"><td class=\"_1hKmbr col col-3-12\">Additional Content</td><td class=\"URwL2w col col-9-12\"><ul><li class=\"_21lJbe\">4 GB RAM</li></ul></td></tr><tr class=\"_1s_Smc row\"><td class=\"_1hKmbr col col-3-12\">Sound Enhancements</td><td class=\"URwL2w col col-9-12\"><ul><li class=\"_21lJbe\">1.5 W Speaker at 85 dB, 2 Microphones, Tl TAS2555 Smart Amplifier</li></ul></td></tr></tbody></table></div><div class=\"_3k-BhJ\"><div class=\"flxcaE\">Display Features</div><table class=\"_14cfVK\"><tbody><tr class=\"_1s_Smc row\"><td class=\"_1hKmbr col col-3-12\">Display Size</td><td class=\"URwL2w col col-9-12\"><ul><li class=\"_21lJbe\">13.97 cm (5.5 inch)</li></ul></td></tr><tr class=\"_1s_Smc row\"><td class=\"_1hKmbr col col-3-12\">Resolution</td><td class=\"URwL2w col col-9-12\"><ul><li class=\"_21lJbe\">1920 x 1080 pixels</li></ul></td></tr><tr class=\"_1s_Smc row\"><td class=\"_1hKmbr col col-3-12\">Resolution Type</td><td class=\"URwL2w col col-9-12\"><ul><li class=\"_21lJbe\">Full HD</li></ul></td></tr><tr class=\"_1s_Smc row\"><td class=\"_1hKmbr col col-3-12\">GPU</td><td class=\"URwL2w col col-9-12\"><ul><li class=\"_21lJbe\">Adreno 506 with UBWC at 550 MHz</li></ul></td></tr><tr class=\"_1s_Smc row\"><td class=\"_1hKmbr col col-3-12\">Display Type</td><td class=\"URwL2w col col-9-12\"><ul><li class=\"_21lJbe\">Super AMOLED</li></ul></td></tr><tr class=\"_1s_Smc row\"><td class=\"_1hKmbr col col-3-12\">Display Colors</td><td class=\"URwL2w col col-9-12\"><ul><li class=\"_21lJbe\">16 M</li></ul></td></tr><tr class=\"_1s_Smc row\"><td class=\"_1hKmbr col col-3-12\">Other Display Features</td><td class=\"URwL2w col col-9-12\"><ul><li class=\"_21lJbe\">Gorilla Glass 3, Lenovo Screen 100% NTSC Color Optimization, 2.5D Cover Glass, Full Lamination, Oncell 10 Points</li></ul></td></tr></tbody></table></div><div class=\"_3k-BhJ\"><div class=\"flxcaE\">Os &amp; Processor Features</div><table class=\"_14cfVK\"><tbody><tr class=\"_1s_Smc row\"><td class=\"_1hKmbr col col-3-12\">Operating System</td><td class=\"URwL2w col col-9-12\"><ul><li class=\"_21lJbe\">Android Marshmallow 6</li></ul></td></tr><tr class=\"_1s_Smc row\"><td class=\"_1hKmbr col col-3-12\">Processor Type</td><td class=\"URwL2w col col-9-12\"><ul><li class=\"_21lJbe\">Qualcomm Snapdragon 625 Octa Core 2.0GHz</li></ul></td></tr><tr class=\"_1s_Smc row\"><td class=\"_1hKmbr col col-3-12\">Processor Core</td><td class=\"URwL2w col col-9-12\"><ul><li class=\"_21lJbe\">Octa Core</li></ul></td></tr><tr class=\"_1s_Smc row\"><td class=\"_1hKmbr col col-3-12\">Primary Clock Speed</td><td class=\"URwL2w col col-9-12\"><ul><li class=\"_21lJbe\">2 GHz</li></ul></td></tr><tr class=\"_1s_Smc row\"><td class=\"_1hKmbr col col-3-12\">Operating Frequency</td><td class=\"URwL2w col col-9-12\"><ul><li class=\"_21lJbe\">GSM - 850 / 900 / 1800 / 1900; WCDMA - 850 / 900 / 1900 / 2100; 4G LTE (TDD) - Bands (38 / 40), 4G LTE (FDD) - Bands (1 / 3 / 4 / 5 / 7 / 8 / 20 / 28)</li></ul></td></tr></tbody></table></div><div class=\"_3k-BhJ\"><div class=\"flxcaE\">Memory &amp; Storage Features</div><table class=\"_14cfVK\"><tbody><tr class=\"_1s_Smc row\"><td class=\"_1hKmbr col col-3-12\">Internal Storage</td><td class=\"URwL2w col col-9-12\"><ul><li class=\"_21lJbe\">32 GB</li></ul></td></tr><tr class=\"_1s_Smc row\"><td class=\"_1hKmbr col col-3-12\">RAM</td><td class=\"URwL2w col col-9-12\"><ul><li class=\"_21lJbe\">4 GB</li></ul></td></tr><tr class=\"_1s_Smc row\"><td class=\"_1hKmbr col col-3-12\">Expandable Storage</td><td class=\"URwL2w col col-9-12\"><ul><li class=\"_21lJbe\">128 GB</li></ul></td></tr><tr class=\"_1s_Smc row\"><td class=\"_1hKmbr col col-3-12\">Supported Memory Card Type</td><td class=\"URwL2w col col-9-12\"><ul><li class=\"_21lJbe\">microSD</li></ul></td></tr><tr class=\"_1s_Smc row\"><td class=\"_1hKmbr col col-3-12\">Memory Card Slot Type</td><td class=\"URwL2w col col-9-12\"><ul><li class=\"_21lJbe\">Hybrid Slot</li></ul></td></tr><tr class=\"_1s_Smc row\"><td class=\"_1hKmbr col col-3-12\">Call Log Memory</td><td class=\"URwL2w col col-9-12\"><ul><li class=\"_21lJbe\">Yes</li></ul></td></tr></tbody></table></div><div class=\"_3k-BhJ\"><div class=\"flxcaE\">Camera Features</div><table class=\"_14cfVK\"><tbody><tr class=\"_1s_Smc row\"><td class=\"_1hKmbr col col-3-12\">Primary Camera Available</td><td class=\"URwL2w col col-9-12\"><ul><li class=\"_21lJbe\">Yes</li></ul></td></tr><tr class=\"_1s_Smc row\"><td class=\"_1hKmbr col col-3-12\">Primary Camera</td><td class=\"URwL2w col col-9-12\"><ul><li class=\"_21lJbe\">13MP Rear Camera</li></ul></td></tr><tr class=\"_1s_Smc row\"><td class=\"_1hKmbr col col-3-12\">Primary Camera Features</td><td class=\"URwL2w col col-9-12\"><ul><li class=\"_21lJbe\">Slowmotion, 1080P Recording, 4K Recording, Timelapse, Auto Focus 5 Piece Composite Lens (Sony 258)</li></ul></td></tr><tr class=\"_1s_Smc row\"><td class=\"_1hKmbr col col-3-12\">Secondary Camera Available</td><td class=\"URwL2w col col-9-12\"><ul><li class=\"_21lJbe\">Yes</li></ul></td></tr><tr class=\"_1s_Smc row\"><td class=\"_1hKmbr col col-3-12\">Secondary Camera</td><td class=\"URwL2w col col-9-12\"><ul><li class=\"_21lJbe\">5MP Front Camera</li></ul></td></tr><tr class=\"_1s_Smc row\"><td class=\"_1hKmbr col col-3-12\">Secondary Camera Features</td><td class=\"URwL2w col col-9-12\"><ul><li class=\"_21lJbe\">Fixed Focus</li></ul></td></tr><tr class=\"_1s_Smc row\"><td class=\"_1hKmbr col col-3-12\">Flash</td><td class=\"URwL2w col col-9-12\"><ul><li class=\"_21lJbe\">Dual</li></ul></td></tr><tr class=\"_1s_Smc row\"><td class=\"_1hKmbr col col-3-12\">HD Recording</td><td class=\"URwL2w col col-9-12\"><ul><li class=\"_21lJbe\">Yes</li></ul></td></tr><tr class=\"_1s_Smc row\"><td class=\"_1hKmbr col col-3-12\">Video Recording</td><td class=\"URwL2w col col-9-12\"><ul><li class=\"_21lJbe\">Yes</li></ul></td></tr><tr class=\"_1s_Smc row\"><td class=\"_1hKmbr col col-3-12\">Video Recording Resolution</td><td class=\"URwL2w col col-9-12\"><ul><li class=\"_21lJbe\">720 x 1280</li></ul></td></tr></tbody></table></div><div class=\"_3k-BhJ\"><div class=\"flxcaE\">Call Features</div><table class=\"_14cfVK\"><tbody><tr class=\"_1s_Smc row\"><td class=\"_1hKmbr col col-3-12\">Phone Book</td><td class=\"URwL2w col col-9-12\"><ul><li class=\"_21lJbe\">Yes</li></ul></td></tr></tbody></table></div><div class=\"_3k-BhJ\"><div class=\"flxcaE\">Connectivity Features</div><table class=\"_14cfVK\"><tbody><tr class=\"_1s_Smc row\"><td class=\"_1hKmbr col col-3-12\">Network Type</td><td class=\"URwL2w col col-9-12\"><ul><li class=\"_21lJbe\">3G, 4G VOLTE, 2G</li></ul></td></tr><tr class=\"_1s_Smc row\"><td class=\"_1hKmbr col col-3-12\">Supported Networks</td><td class=\"URwL2w col col-9-12\"><ul><li class=\"_21lJbe\">4G LTE</li></ul></td></tr><tr class=\"_1s_Smc row\"><td class=\"_1hKmbr col col-3-12\">Internet Connectivity</td><td class=\"URwL2w col col-9-12\"><ul><li class=\"_21lJbe\">4G, 3G, Wi-Fi, GPRS, EDGE</li></ul></td></tr><tr class=\"_1s_Smc row\"><td class=\"_1hKmbr col col-3-12\">3G</td><td class=\"URwL2w col col-9-12\"><ul><li class=\"_21lJbe\">Yes</li></ul></td></tr><tr class=\"_1s_Smc row\"><td class=\"_1hKmbr col col-3-12\">3G Speed</td><td class=\"URwL2w col col-9-12\"><ul><li class=\"_21lJbe\">HSPA+</li></ul></td></tr><tr class=\"_1s_Smc row\"><td class=\"_1hKmbr col col-3-12\">GPRS</td><td class=\"URwL2w col col-9-12\"><ul><li class=\"_21lJbe\">Yes</li></ul></td></tr><tr class=\"_1s_Smc row\"><td class=\"_1hKmbr col col-3-12\">Pre-installed Browser</td><td class=\"URwL2w col col-9-12\"><ul><li class=\"_21lJbe\">Android</li></ul></td></tr><tr class=\"_1s_Smc row\"><td class=\"_1hKmbr col col-3-12\">Bluetooth Support</td><td class=\"URwL2w col col-9-12\"><ul><li class=\"_21lJbe\">Yes</li></ul></td></tr><tr class=\"_1s_Smc row\"><td class=\"_1hKmbr col col-3-12\">Bluetooth Version</td><td class=\"URwL2w col col-9-12\"><ul><li class=\"_21lJbe\">4.1</li></ul></td></tr><tr class=\"_1s_Smc row\"><td class=\"_1hKmbr col col-3-12\">Wi-Fi</td><td class=\"URwL2w col col-9-12\"><ul><li class=\"_21lJbe\">Yes</li></ul></td></tr><tr class=\"_1s_Smc row\"><td class=\"_1hKmbr col col-3-12\">Wi-Fi Version</td><td class=\"URwL2w col col-9-12\"><ul><li class=\"_21lJbe\">802.11 ac/a/b/g/n</li></ul></td></tr><tr class=\"_1s_Smc row\"><td class=\"_1hKmbr col col-3-12\">Wi-Fi Hotspot</td><td class=\"URwL2w col col-9-12\"><ul><li class=\"_21lJbe\">Yes</li></ul></td></tr><tr class=\"_1s_Smc row\"><td class=\"_1hKmbr col col-3-12\">NFC</td><td class=\"URwL2w col col-9-12\"><ul><li class=\"_21lJbe\">Yes</li></ul></td></tr><tr class=\"_1s_Smc row\"><td class=\"_1hKmbr col col-3-12\">EDGE</td><td class=\"URwL2w col col-9-12\"><ul><li class=\"_21lJbe\">Yes</li></ul></td></tr><tr class=\"_1s_Smc row\"><td class=\"_1hKmbr col col-3-12\">Audio Jack</td><td class=\"URwL2w col col-9-12\"><ul><li class=\"_21lJbe\">3.5 mm</li></ul></td></tr><tr class=\"_1s_Smc row\"><td class=\"_1hKmbr col col-3-12\">Map Support</td><td class=\"URwL2w col col-9-12\"><ul><li class=\"_21lJbe\">Google Maps</li></ul></td></tr><tr class=\"_1s_Smc row\"><td class=\"_1hKmbr col col-3-12\">GPS Support</td><td class=\"URwL2w col col-9-12\"><ul><li class=\"_21lJbe\">Yes</li></ul></td></tr></tbody></table></div><div class=\"_3k-BhJ\"><div class=\"flxcaE\">Other Details</div><table class=\"_14cfVK\"><tbody><tr class=\"_1s_Smc row\"><td class=\"_1hKmbr col col-3-12\">SIM Size</td><td class=\"URwL2w col col-9-12\"><ul><li class=\"_21lJbe\">Nano SIM</li></ul></td></tr><tr class=\"_1s_Smc row\"><td class=\"_1hKmbr col col-3-12\">Removable Battery</td><td class=\"URwL2w col col-9-12\"><ul><li class=\"_21lJbe\">No</li></ul></td></tr><tr class=\"_1s_Smc row\"><td class=\"_1hKmbr col col-3-12\">SMS</td><td class=\"URwL2w col col-9-12\"><ul><li class=\"_21lJbe\">Yes</li></ul></td></tr><tr class=\"_1s_Smc row\"><td class=\"_1hKmbr col col-3-12\">Graphics PPI</td><td class=\"URwL2w col col-9-12\"><ul><li class=\"_21lJbe\">401 PPI</li></ul></td></tr><tr class=\"_1s_Smc row\"><td class=\"_1hKmbr col col-3-12\">Sensors</td><td class=\"URwL2w col col-9-12\"><ul><li class=\"_21lJbe\">Vibration, Gravitation, Proximity, Light Sensor, Gyroscope (Accelerometer), Magnetometer (e-Compass), Front Finger Print</li></ul></td></tr><tr class=\"_1s_Smc row\"><td class=\"_1hKmbr col col-3-12\">Other Features</td><td class=\"URwL2w col col-9-12\"><ul><li class=\"_21lJbe\">LTE Cat6 300 Mbps DL, 50 Mbps UL, 4G Standby Time: 768.61 hrs</li></ul></td></tr></tbody></table></div><div class=\"_3k-BhJ\"><div class=\"flxcaE\">Multimedia Features</div><table class=\"_14cfVK\"><tbody><tr class=\"_1s_Smc row\"><td class=\"_1hKmbr col col-3-12\">FM Radio</td><td class=\"URwL2w col col-9-12\"><ul><li class=\"_21lJbe\">Yes</li></ul></td></tr><tr class=\"_1s_Smc row\"><td class=\"_1hKmbr col col-3-12\">Audio Formats</td><td class=\"URwL2w col col-9-12\"><ul><li class=\"_21lJbe\">MP3</li></ul></td></tr></tbody></table></div><div class=\"_3k-BhJ\"><div class=\"flxcaE\">Battery &amp; Power Features</div><table class=\"_14cfVK\"><tbody><tr class=\"_1s_Smc row\"><td class=\"_1hKmbr col col-3-12\">Battery Capacity</td><td class=\"URwL2w col col-9-12\"><ul><li class=\"_21lJbe\">5100 mAh</li></ul></td></tr></tbody></table></div><div class=\"_3k-BhJ\"><div class=\"flxcaE\">Dimensions</div><table class=\"_14cfVK\"><tbody><tr class=\"_1s_Smc row\"><td class=\"_1hKmbr col col-3-12\">Width</td><td class=\"URwL2w col col-9-12\"><ul><li class=\"_21lJbe\">76 mm</li></ul></td></tr><tr class=\"_1s_Smc row\"><td class=\"_1hKmbr col col-3-12\">Height</td><td class=\"URwL2w col col-9-12\"><ul><li class=\"_21lJbe\">153 mm</li></ul></td></tr><tr class=\"_1s_Smc row\"><td class=\"_1hKmbr col col-3-12\">Depth</td><td class=\"URwL2w col col-9-12\"><ul><li class=\"_21lJbe\">8.3 mm</li></ul></td></tr><tr class=\"_1s_Smc row\"><td class=\"_1hKmbr col col-3-12\">Weight</td><td class=\"URwL2w col col-9-12\"><ul><li class=\"_21lJbe\">177 g</li></ul></td></tr></tbody></table></div><div class=\"_3k-BhJ\"><div class=\"flxcaE\">Warranty</div><table class=\"_14cfVK\"><tbody><tr class=\"_1s_Smc row\"><td class=\"_1hKmbr col col-3-12\">Warranty Summary</td><td class=\"URwL2w col col-9-12\"><ul><li class=\"_21lJbe\">Brand Warranty of 1 Year Available for Mobile and 6 Months for Accessories</li></ul></td></tr></tbody></table></div></div><button class=\"_2KpZ6l _1FH0tX\">Read More</button></div></div></div><div class=\"_1AtVbE col-12-12\"><div class=\"col JOpGWq\"><div class=\"_3HKIdy\"><div class=\"_2QKOHZ\">Ratings &amp; Reviews</div><div class=\"_3cH4s3\"><button class=\"_2KpZ6l _1q9yVr\" type=\"submit\"><span>Rate Product</span></button></div></div><div class=\"row _3AjFsn _2c2kV-\"><div class=\"_2e3Uck\"><div class=\"row\"><div class=\"col-4-12\"><div class=\"col\"><div class=\"row\"><div class=\"col-12-12 _1azcI6\"><div class=\"_2d4LTz\">4.3</div><div class=\"_2yxeXv\">★</div></div></div><div class=\"row _2afbiS\"><div class=\"col-12-12\"><span>20,603 Ratings &amp;</span></div></div><div class=\"row _2afbiS\"><div class=\"col-12-12\"><span>5,846 Reviews</span></div></div></div></div><div class=\"col-8-12 _3qpj74 _31DkEZ\"><div class=\"_13sFCC miQW6D _2m9Pwo\"><ul class=\"_2jr1F_\"><li class=\"_28Xb_u\"><div class=\"omG9iE\"><span class=\"_26f_zl\">5</span><span class=\"_2xBWPJ\">★</span></div></li><li class=\"_28Xb_u\"><div class=\"omG9iE\"><span class=\"_26f_zl\">4</span><span class=\"_2xBWPJ\">★</span></div></li><li class=\"_28Xb_u\"><div class=\"omG9iE\"><span class=\"_26f_zl\">3</span><span class=\"_2xBWPJ\">★</span></div></li><li class=\"_28Xb_u\"><div class=\"omG9iE\"><span class=\"_26f_zl\">2</span><span class=\"_2xBWPJ\">★</span></div></li><li class=\"_28Xb_u\"><div class=\"omG9iE\"><span class=\"_26f_zl\">1</span><span class=\"_2xBWPJ\">★</span></div></li></ul><ul class=\"_2Plkj9\"><li class=\"_28Xb_u\"><div><div class=\"_3UaKsS\"><span class=\"EkB-Xt _1z2lGe\" style=\"width:100%\"></span></div></div></li><li class=\"_28Xb_u\"><div><div class=\"_3UaKsS\"><span class=\"EkB-Xt _2fGXyl\" style=\"width:41.11382113821138%\"></span></div></div></li><li class=\"_28Xb_u\"><div><div class=\"_3UaKsS\"><span class=\"EkB-Xt _1ia31G\" style=\"width:11.016260162601627%\"></span></div></div></li><li class=\"_28Xb_u\"><div><div class=\"_3UaKsS\"><span class=\"EkB-Xt HnnP7O\" style=\"width:4.341463414634146%\"></span></div></div></li><li class=\"_28Xb_u\"><div><div class=\"_3UaKsS\"><span class=\"EkB-Xt _2W5rgh\" style=\"width:11.03252032520325%\"></span></div></div></li></ul><ul class=\"_36LmXx\"><li class=\"_28Xb_u\"><div class=\"_1uJVNT\">12,300</div></li><li class=\"_28Xb_u\"><div class=\"_1uJVNT\">5,057</div></li><li class=\"_28Xb_u\"><div class=\"_1uJVNT\">1,355</div></li><li class=\"_28Xb_u\"><div class=\"_1uJVNT\">534</div></li><li class=\"_28Xb_u\"><div class=\"_1uJVNT\">1,357</div></li></ul></div></div></div></div><div class=\"_2LE14f\"><div class=\"row\"><a class=\"col-3-12 hXkZu- _1pxF-h\" href=\"/lenovo-p2-grey-graphite-grey-32-gb/product-reviews/itmeq5ygebzgqgfb?pid=MOBEZFHHVD8KXE7G&amp;lid=LSTMOBEZFHHVD8KXE7GB0OS6I&amp;aid=dc0f2b2d-7619-44cc-b5fc-2fe3e4d453a7&amp;mid=FLIPKART&amp;fid=c6406fea-e9e2-48c1-9013-99c1d7d6bff0.MOBEZFHHVD8KXE7G&amp;an=Camera&amp;cat=Mobile&amp;vert=Handset\"><div class=\"_2a78PX\"><div class=\"_2aWUii\"><svg class=\"HTdwVj\" viewbox=\"0 0 100 100\"><path class=\"MN4M6g\" d=\"M50,4 A 46,46,0,1,1,49.9999,4\" fill-opacity=\"0\" stroke-width=\"8\"></path><path class=\"_1KaZLR\" d=\"M50,4 A 46,46,0,1,1,6.25140025042294,64.21478174124759\" fill-opacity=\"0\" stroke-width=\"8\"></path><text class=\"_2Ix0io\" x=\"50\" y=\"50\">3.5</text></svg></div><div class=\"_3npa3F\">Camera</div></div></a><a class=\"col-3-12 hXkZu- _1pxF-h\" href=\"/lenovo-p2-grey-graphite-grey-32-gb/product-reviews/itmeq5ygebzgqgfb?pid=MOBEZFHHVD8KXE7G&amp;lid=LSTMOBEZFHHVD8KXE7GB0OS6I&amp;aid=3ac62744-ab96-4f53-82f7-02eb72b6a662&amp;mid=FLIPKART&amp;fid=c6406fea-e9e2-48c1-9013-99c1d7d6bff0.MOBEZFHHVD8KXE7G&amp;an=Battery&amp;cat=Mobile&amp;vert=Handset\"><div class=\"_2a78PX\"><div class=\"_2aWUii\"><svg class=\"HTdwVj\" viewbox=\"0 0 100 100\"><path class=\"MN4M6g\" d=\"M50,4 A 46,46,0,1,1,49.9999,4\" fill-opacity=\"0\" stroke-width=\"8\"></path><path class=\"_1KaZLR\" d=\"M50,4 A 46,46,0,1,1,27.839330991321095,9.689892717982275\" fill-opacity=\"0\" stroke-width=\"8\"></path><text class=\"_2Ix0io\" x=\"50\" y=\"50\">4.6</text></svg></div><div class=\"_3npa3F\">Battery</div></div></a><a class=\"col-3-12 hXkZu- _1pxF-h\" href=\"/lenovo-p2-grey-graphite-grey-32-gb/product-reviews/itmeq5ygebzgqgfb?pid=MOBEZFHHVD8KXE7G&amp;lid=LSTMOBEZFHHVD8KXE7GB0OS6I&amp;aid=b32e49f9-79fd-4798-98ad-51dd89a408d0&amp;mid=FLIPKART&amp;fid=c6406fea-e9e2-48c1-9013-99c1d7d6bff0.MOBEZFHHVD8KXE7G&amp;an=Display&amp;cat=Mobile&amp;vert=Handset\"><div class=\"_2a78PX\"><div class=\"_2aWUii\"><svg class=\"HTdwVj\" viewbox=\"0 0 100 100\"><path class=\"MN4M6g\" d=\"M50,4 A 46,46,0,1,1,49.9999,4\" fill-opacity=\"0\" stroke-width=\"8\"></path><path class=\"_1KaZLR\" d=\"M50,4 A 46,46,0,1,1,8.377955586563097,30.41415258800666\" fill-opacity=\"0\" stroke-width=\"8\"></path><text class=\"_2Ix0io\" x=\"50\" y=\"50\">4.1</text></svg></div><div class=\"_3npa3F\">Display</div></div></a><a class=\"col-3-12 hXkZu- _1pxF-h\" href=\"/lenovo-p2-grey-graphite-grey-32-gb/product-reviews/itmeq5ygebzgqgfb?pid=MOBEZFHHVD8KXE7G&amp;lid=LSTMOBEZFHHVD8KXE7GB0OS6I&amp;aid=00ab4120-12b2-4a8f-b4e0-b426e17a27ca&amp;mid=FLIPKART&amp;fid=c6406fea-e9e2-48c1-9013-99c1d7d6bff0.MOBEZFHHVD8KXE7G&amp;an=Design&amp;cat=Mobile&amp;vert=Handset\"><div class=\"_2a78PX\"><div class=\"_2aWUii\"><svg class=\"HTdwVj\" viewbox=\"0 0 100 100\"><path class=\"MN4M6g\" d=\"M50,4 A 46,46,0,1,1,49.9999,4\" fill-opacity=\"0\" stroke-width=\"8\"></path><path class=\"_1KaZLR\" d=\"M50,4 A 46,46,0,1,1,4.814786466480321,41.38045952905668\" fill-opacity=\"0\" stroke-width=\"8\"></path><text class=\"_2Ix0io\" x=\"50\" y=\"50\">3.9</text></svg></div><div class=\"_3npa3F\">Design</div></div></a></div></div></div><div class=\"row\"><div class=\"col col-12-12\"><div class=\"_2nMSwX _1yGd2h\"><div class=\"_21YjFX _1ylYJu\" style=\"background-image:url(https://rukminim1.flixcart.com/blobio/178/178/201901/blobio-201901_25ggugj8.jpg?q=90), url(data:image/svg+xml;base64,PHN2ZyB3aWR0aD0iMjIiIGhlaWdodD0iMTgiIHhtbG5zPSJodHRwOi8vd3d3LnczLm9yZy8yMDAwL3N2ZyI+PGcgZmlsbD0iIzlEOUQ5RCIgZmlsbC1ydWxlPSJub256ZXJvIj48cGF0aCBkPSJNMjAgMEgyQzEgMCAwIDEgMCAydjE0YzAgMS4xLjkgMiAyIDJoMThjMSAwIDItMSAyLTJWMmMwLTEtMS0yLTItMnptMCAxNS45MmMtLjAyLjAzLS4wNi4wNi0uMDguMDhIMlYyLjA4TDIuMDggMmgxNy44M2MuMDMuMDIuMDYuMDYuMDguMDh2MTMuODRIMjB6Ii8+PHBhdGggZD0iTTEwIDEyLjUxTDcuNSA5LjUgNCAxNGgxNGwtNC41LTZ6Ii8+PC9nPjwvc3ZnPg==);width:89px;height:89px\"></div><div class=\"_21YjFX _1ylYJu\" style=\"background-image:url(https://rukminim1.flixcart.com/blobio/178/178/201901/blobio-201901_tr2fpv3u.jpg?q=90), url(data:image/svg+xml;base64,PHN2ZyB3aWR0aD0iMjIiIGhlaWdodD0iMTgiIHhtbG5zPSJodHRwOi8vd3d3LnczLm9yZy8yMDAwL3N2ZyI+PGcgZmlsbD0iIzlEOUQ5RCIgZmlsbC1ydWxlPSJub256ZXJvIj48cGF0aCBkPSJNMjAgMEgyQzEgMCAwIDEgMCAydjE0YzAgMS4xLjkgMiAyIDJoMThjMSAwIDItMSAyLTJWMmMwLTEtMS0yLTItMnptMCAxNS45MmMtLjAyLjAzLS4wNi4wNi0uMDguMDhIMlYyLjA4TDIuMDggMmgxNy44M2MuMDMuMDIuMDYuMDYuMDguMDh2MTMuODRIMjB6Ii8+PHBhdGggZD0iTTEwIDEyLjUxTDcuNSA5LjUgNCAxNGgxNGwtNC41LTZ6Ii8+PC9nPjwvc3ZnPg==);width:89px;height:89px\"></div><div class=\"_21YjFX _1ylYJu\" style=\"background-image:url(https://rukminim1.flixcart.com/blobio/178/178/201901/blobio-201901_19iosikn.jpg?q=90), url(data:image/svg+xml;base64,PHN2ZyB3aWR0aD0iMjIiIGhlaWdodD0iMTgiIHhtbG5zPSJodHRwOi8vd3d3LnczLm9yZy8yMDAwL3N2ZyI+PGcgZmlsbD0iIzlEOUQ5RCIgZmlsbC1ydWxlPSJub256ZXJvIj48cGF0aCBkPSJNMjAgMEgyQzEgMCAwIDEgMCAydjE0YzAgMS4xLjkgMiAyIDJoMThjMSAwIDItMSAyLTJWMmMwLTEtMS0yLTItMnptMCAxNS45MmMtLjAyLjAzLS4wNi4wNi0uMDguMDhIMlYyLjA4TDIuMDggMmgxNy44M2MuMDMuMDIuMDYuMDYuMDguMDh2MTMuODRIMjB6Ii8+PHBhdGggZD0iTTEwIDEyLjUxTDcuNSA5LjUgNCAxNGgxNGwtNC41LTZ6Ii8+PC9nPjwvc3ZnPg==);width:89px;height:89px\"></div><div class=\"_21YjFX _1ylYJu\" style=\"background-image:url(https://rukminim1.flixcart.com/blobio/178/178/201907/blobio-201907_85k9cilp.jpg?q=90), url(data:image/svg+xml;base64,PHN2ZyB3aWR0aD0iMjIiIGhlaWdodD0iMTgiIHhtbG5zPSJodHRwOi8vd3d3LnczLm9yZy8yMDAwL3N2ZyI+PGcgZmlsbD0iIzlEOUQ5RCIgZmlsbC1ydWxlPSJub256ZXJvIj48cGF0aCBkPSJNMjAgMEgyQzEgMCAwIDEgMCAydjE0YzAgMS4xLjkgMiAyIDJoMThjMSAwIDItMSAyLTJWMmMwLTEtMS0yLTItMnptMCAxNS45MmMtLjAyLjAzLS4wNi4wNi0uMDguMDhIMlYyLjA4TDIuMDggMmgxNy44M2MuMDMuMDIuMDYuMDYuMDguMDh2MTMuODRIMjB6Ii8+PHBhdGggZD0iTTEwIDEyLjUxTDcuNSA5LjUgNCAxNGgxNGwtNC41LTZ6Ii8+PC9nPjwvc3ZnPg==);width:89px;height:89px\"></div><div class=\"_21YjFX _1ylYJu\" style=\"background-image:url(https://rukminim1.flixcart.com/blobio/178/178/201907/blobio-201907_nvav0bkq.jpg?q=90), url(data:image/svg+xml;base64,PHN2ZyB3aWR0aD0iMjIiIGhlaWdodD0iMTgiIHhtbG5zPSJodHRwOi8vd3d3LnczLm9yZy8yMDAwL3N2ZyI+PGcgZmlsbD0iIzlEOUQ5RCIgZmlsbC1ydWxlPSJub256ZXJvIj48cGF0aCBkPSJNMjAgMEgyQzEgMCAwIDEgMCAydjE0YzAgMS4xLjkgMiAyIDJoMThjMSAwIDItMSAyLTJWMmMwLTEtMS0yLTItMnptMCAxNS45MmMtLjAyLjAzLS4wNi4wNi0uMDguMDhIMlYyLjA4TDIuMDggMmgxNy44M2MuMDMuMDIuMDYuMDYuMDguMDh2MTMuODRIMjB6Ii8+PHBhdGggZD0iTTEwIDEyLjUxTDcuNSA5LjUgNCAxNGgxNGwtNC41LTZ6Ii8+PC9nPjwvc3ZnPg==);width:89px;height:89px\"></div><div class=\"_21YjFX _1ylYJu\" style=\"background-image:url(https://rukminim1.flixcart.com/blobio/178/178/201907/blobio-201907_67u15a8j.jpg?q=90), url(data:image/svg+xml;base64,PHN2ZyB3aWR0aD0iMjIiIGhlaWdodD0iMTgiIHhtbG5zPSJodHRwOi8vd3d3LnczLm9yZy8yMDAwL3N2ZyI+PGcgZmlsbD0iIzlEOUQ5RCIgZmlsbC1ydWxlPSJub256ZXJvIj48cGF0aCBkPSJNMjAgMEgyQzEgMCAwIDEgMCAydjE0YzAgMS4xLjkgMiAyIDJoMThjMSAwIDItMSAyLTJWMmMwLTEtMS0yLTItMnptMCAxNS45MmMtLjAyLjAzLS4wNi4wNi0uMDguMDhIMlYyLjA4TDIuMDggMmgxNy44M2MuMDMuMDIuMDYuMDYuMDguMDh2MTMuODRIMjB6Ii8+PHBhdGggZD0iTTEwIDEyLjUxTDcuNSA5LjUgNCAxNGgxNGwtNC41LTZ6Ii8+PC9nPjwvc3ZnPg==);width:89px;height:89px\"></div><div class=\"_21YjFX _1ylYJu\" style=\"background-image:url(https://rukminim1.flixcart.com/blobio/178/178/201907/blobio-201907_t6knb1ra.jpg?q=90), url(data:image/svg+xml;base64,PHN2ZyB3aWR0aD0iMjIiIGhlaWdodD0iMTgiIHhtbG5zPSJodHRwOi8vd3d3LnczLm9yZy8yMDAwL3N2ZyI+PGcgZmlsbD0iIzlEOUQ5RCIgZmlsbC1ydWxlPSJub256ZXJvIj48cGF0aCBkPSJNMjAgMEgyQzEgMCAwIDEgMCAydjE0YzAgMS4xLjkgMiAyIDJoMThjMSAwIDItMSAyLTJWMmMwLTEtMS0yLTItMnptMCAxNS45MmMtLjAyLjAzLS4wNi4wNi0uMDguMDhIMlYyLjA4TDIuMDggMmgxNy44M2MuMDMuMDIuMDYuMDYuMDguMDh2MTMuODRIMjB6Ii8+PHBhdGggZD0iTTEwIDEyLjUxTDcuNSA5LjUgNCAxNGgxNGwtNC41LTZ6Ii8+PC9nPjwvc3ZnPg==);width:89px;height:89px\"></div><div class=\"_21YjFX _1ylYJu\" style=\"background-image:url(https://rukminim1.flixcart.com/blobio/178/178/20181005/blobio-20181005_s71bt5l.jpg?q=90), url(data:image/svg+xml;base64,PHN2ZyB3aWR0aD0iMjIiIGhlaWdodD0iMTgiIHhtbG5zPSJodHRwOi8vd3d3LnczLm9yZy8yMDAwL3N2ZyI+PGcgZmlsbD0iIzlEOUQ5RCIgZmlsbC1ydWxlPSJub256ZXJvIj48cGF0aCBkPSJNMjAgMEgyQzEgMCAwIDEgMCAydjE0YzAgMS4xLjkgMiAyIDJoMThjMSAwIDItMSAyLTJWMmMwLTEtMS0yLTItMnptMCAxNS45MmMtLjAyLjAzLS4wNi4wNi0uMDguMDhIMlYyLjA4TDIuMDggMmgxNy44M2MuMDMuMDIuMDYuMDYuMDguMDh2MTMuODRIMjB6Ii8+PHBhdGggZD0iTTEwIDEyLjUxTDcuNSA5LjUgNCAxNGgxNGwtNC41LTZ6Ii8+PC9nPjwvc3ZnPg==);width:89px;height:89px\"></div></div></div></div><div class=\"_2c2kV-\"><div class=\"_16PBlm\"><div class=\"col\"><div class=\"col _2wzgFH\"><div class=\"row\"><div class=\"_3LWZlK _1BLPMq\">5<img class=\"_1wB99o\" src=\"data:image/svg+xml;base64,PHN2ZyB4bWxucz0iaHR0cDovL3d3dy53My5vcmcvMjAwMC9zdmciIHdpZHRoPSIxMyIgaGVpZ2h0PSIxMiI+PHBhdGggZmlsbD0iI0ZGRiIgZD0iTTYuNSA5LjQzOWwtMy42NzQgMi4yMy45NC00LjI2LTMuMjEtMi44ODMgNC4yNTQtLjQwNEw2LjUuMTEybDEuNjkgNC4wMSA0LjI1NC40MDQtMy4yMSAyLjg4Mi45NCA0LjI2eiIvPjwvc3ZnPg==\"/></div><p class=\"_2-N8zT\">Terrific purchase</p></div><div class=\"row\"><div class=\"t-ZTKy\"><div><div class=\"\">Excellent phone with rich features. Good battery, Amoled screen, 5.5\" screen, Snapdragon 625 processor, 4 GB RAM what else. Camera is good for still photography but without image stabilization video quality jerks. On the whole it's 90 / 💯</div><span class=\"_1H-bmy\"><span>READ MORE</span></span></div></div></div><div class=\"row _3n8db9\"><div class=\"row\"><p class=\"_2sc7ZR _2V5EHH\">Suresh Menon</p><svg class=\"_2a1p_T\" height=\"14\" viewbox=\"0 0 12 12\" width=\"14\" xmlns=\"http://www.w3.org/2000/svg\"><g><circle cx=\"6\" cy=\"6\" fill=\"#878787\" r=\"6\"></circle><path d=\"M3 6l2 2 4-4\" fill=\"#878787\" stroke=\"#FFF\" stroke-width=\"1.5\"></path></g></svg><p class=\"_2mcZGG\" id=\"review-72c8b72d-8093-4128-affb-d4ffd244d206\"><span>Certified Buyer</span><span>, Kolkata</span></p><div></div><p class=\"_2sc7ZR\">Jun, 2017</p></div><div class=\"_1e9_Zu\"><div class=\"row\"><div class=\"_27aTsS\"><div class=\"_1LmwT9\"><svg class=\"skCrcq\" height=\"15\" width=\"20\" xmlns=\"http://www.w3.org/2000/svg\"><path class=\"_1LIt4y\" d=\"M9.58.006c-.41.043-.794.32-1.01.728-.277.557-2.334 4.693-2.74 5.1-.41.407-.944.6-1.544.6v8.572h7.5c.45 0 .835-.28 1.007-.665 0 0 2.207-6.234 2.207-6.834 0-.6-.47-1.072-1.07-1.072h-3.216c-.6 0-1.07-.535-1.07-1.07 0-.537.835-3.387 1.006-3.944.17-.557-.107-1.157-.664-1.35-.15-.043-.257-.086-.407-.064zM0 6.434v8.572h2.143V6.434H0z\" fill=\"#fff\" fill-rule=\"evenodd\"></path></svg><span class=\"_3c3Px5\">137</span></div><div class=\"_1LmwT9 pkR4jH\"><svg class=\"skCrcq pkR4jH\" height=\"15\" width=\"20\" xmlns=\"http://www.w3.org/2000/svg\"><path class=\"_1LIt4y\" d=\"M9.58.006c-.41.043-.794.32-1.01.728-.277.557-2.334 4.693-2.74 5.1-.41.407-.944.6-1.544.6v8.572h7.5c.45 0 .835-.28 1.007-.665 0 0 2.207-6.234 2.207-6.834 0-.6-.47-1.072-1.07-1.072h-3.216c-.6 0-1.07-.535-1.07-1.07 0-.537.835-3.387 1.006-3.944.17-.557-.107-1.157-.664-1.35-.15-.043-.257-.086-.407-.064zM0 6.434v8.572h2.143V6.434H0z\" fill=\"#fff\" fill-rule=\"evenodd\"></path></svg><span class=\"_3c3Px5\">23</span></div></div><div class=\"_2bmov8\"><svg class=\"_2UvOBb\" height=\"11\" viewbox=\"0 0 16 27\" width=\"6\" xmlns=\"http://www.w3.org/2000/svg\"><path class=\"_2aPE6f\" d=\"M16 23.207L6.11 13.161 16 3.093 12.955 0 0 13.161l12.955 13.161z\" fill=\"#fff\"></path></svg><div class=\"_3E8aIl _38dCuf\"><div class=\"_3XCI6U\"><a href=\"/reviews/MOBEZFHHGE2RXQUY:1155?reviewId=72c8b72d-8093-4128-affb-d4ffd244d206\"><span>Permalink</span></a></div><div class=\"_3XCI6U _2b2z-j\"><span>Report Abuse</span></div></div></div></div></div></div></div></div></div><div class=\"_16PBlm\"><div class=\"col\"><div class=\"col _2wzgFH\"><div class=\"row\"><div class=\"_3LWZlK _1BLPMq\">5<img class=\"_1wB99o\" src=\"data:image/svg+xml;base64,PHN2ZyB4bWxucz0iaHR0cDovL3d3dy53My5vcmcvMjAwMC9zdmciIHdpZHRoPSIxMyIgaGVpZ2h0PSIxMiI+PHBhdGggZmlsbD0iI0ZGRiIgZD0iTTYuNSA5LjQzOWwtMy42NzQgMi4yMy45NC00LjI2LTMuMjEtMi44ODMgNC4yNTQtLjQwNEw2LjUuMTEybDEuNjkgNC4wMSA0LjI1NC40MDQtMy4yMSAyLjg4Mi45NCA0LjI2eiIvPjwvc3ZnPg==\"/></div><p class=\"_2-N8zT\">Just wow!</p></div><div class=\"row\"><div class=\"t-ZTKy\"><div><div class=\"\">The Lenovo P2 a good and proud successor of P1..<br/>Brought this smartphone on 13th morning and received on 15th afternoon for 13750rs with exchange and SBI credit card offers<br/>My variant is Dark grey(which is preferable since the gold one has border which looks a bit cheap),4 GB Ram with 32gb inbuilt <br/><br/>First look was enough to bring me in the aura this phone has<br/>Good packaging from Flipkart <br/>Quick delivery<br/>And<br/>Paisa vasool<br/>Why I will say<br/><br/>Pros<br/>1. Battery,mann... the 5100 mah battery,I used it he...</div><span class=\"_1BWGvX\"><span>READ MORE</span></span></div></div></div><div class=\"row _3n8db9\"><div class=\"row\"><p class=\"_2sc7ZR _2V5EHH\">Suhas Salian</p><svg class=\"_2a1p_T\" height=\"14\" viewbox=\"0 0 12 12\" width=\"14\" xmlns=\"http://www.w3.org/2000/svg\"><g><circle cx=\"6\" cy=\"6\" fill=\"#878787\" r=\"6\"></circle><path d=\"M3 6l2 2 4-4\" fill=\"#878787\" stroke=\"#FFF\" stroke-width=\"1.5\"></path></g></svg><p class=\"_2mcZGG\" id=\"review-f5456b65-b3ea-4b4f-b7f6-e721b7bb771d\"><span>Certified Buyer</span><span>, Mumbai</span></p><div></div><p class=\"_2sc7ZR\">Jan, 2017</p></div><div class=\"_1e9_Zu\"><div class=\"row\"><div class=\"_27aTsS\"><div class=\"_1LmwT9\"><svg class=\"skCrcq\" height=\"15\" width=\"20\" xmlns=\"http://www.w3.org/2000/svg\"><path class=\"_1LIt4y\" d=\"M9.58.006c-.41.043-.794.32-1.01.728-.277.557-2.334 4.693-2.74 5.1-.41.407-.944.6-1.544.6v8.572h7.5c.45 0 .835-.28 1.007-.665 0 0 2.207-6.234 2.207-6.834 0-.6-.47-1.072-1.07-1.072h-3.216c-.6 0-1.07-.535-1.07-1.07 0-.537.835-3.387 1.006-3.944.17-.557-.107-1.157-.664-1.35-.15-.043-.257-.086-.407-.064zM0 6.434v8.572h2.143V6.434H0z\" fill=\"#fff\" fill-rule=\"evenodd\"></path></svg><span class=\"_3c3Px5\">2666</span></div><div class=\"_1LmwT9 pkR4jH\"><svg class=\"skCrcq pkR4jH\" height=\"15\" width=\"20\" xmlns=\"http://www.w3.org/2000/svg\"><path class=\"_1LIt4y\" d=\"M9.58.006c-.41.043-.794.32-1.01.728-.277.557-2.334 4.693-2.74 5.1-.41.407-.944.6-1.544.6v8.572h7.5c.45 0 .835-.28 1.007-.665 0 0 2.207-6.234 2.207-6.834 0-.6-.47-1.072-1.07-1.072h-3.216c-.6 0-1.07-.535-1.07-1.07 0-.537.835-3.387 1.006-3.944.17-.557-.107-1.157-.664-1.35-.15-.043-.257-.086-.407-.064zM0 6.434v8.572h2.143V6.434H0z\" fill=\"#fff\" fill-rule=\"evenodd\"></path></svg><span class=\"_3c3Px5\">708</span></div></div><div class=\"_2bmov8\"><svg class=\"_2UvOBb\" height=\"11\" viewbox=\"0 0 16 27\" width=\"6\" xmlns=\"http://www.w3.org/2000/svg\"><path class=\"_2aPE6f\" d=\"M16 23.207L6.11 13.161 16 3.093 12.955 0 0 13.161l12.955 13.161z\" fill=\"#fff\"></path></svg><div class=\"_3E8aIl _38dCuf\"><div class=\"_3XCI6U\"><a href=\"/reviews/MOBEZFHHVD8KXE7G:105?reviewId=f5456b65-b3ea-4b4f-b7f6-e721b7bb771d\"><span>Permalink</span></a></div><div class=\"_3XCI6U _2b2z-j\"><span>Report Abuse</span></div></div></div></div></div></div></div></div></div><div class=\"_16PBlm\"><div class=\"col\"><div class=\"col _2wzgFH\"><div class=\"row\"><div class=\"_3LWZlK _1BLPMq\">5<img class=\"_1wB99o\" src=\"data:image/svg+xml;base64,PHN2ZyB4bWxucz0iaHR0cDovL3d3dy53My5vcmcvMjAwMC9zdmciIHdpZHRoPSIxMyIgaGVpZ2h0PSIxMiI+PHBhdGggZmlsbD0iI0ZGRiIgZD0iTTYuNSA5LjQzOWwtMy42NzQgMi4yMy45NC00LjI2LTMuMjEtMi44ODMgNC4yNTQtLjQwNEw2LjUuMTEybDEuNjkgNC4wMSA0LjI1NC40MDQtMy4yMSAyLjg4Mi45NCA0LjI2eiIvPjwvc3ZnPg==\"/></div><p class=\"_2-N8zT\">Brilliant</p></div><div class=\"row\"><div class=\"t-ZTKy\"><div><div class=\"\">Been playing with it for the past few days. Overall a good product. Great battery life! Set an exemplary standard for every other vendor to follow. Wish Lenovo followed Google's standard of distributing monthly security updates.</div><span class=\"_1H-bmy\"><span>READ MORE</span></span></div></div></div><div class=\"row _3n8db9\"><div class=\"row\"><p class=\"_2sc7ZR _2V5EHH\">Srihari Vijayaraghavan</p><svg class=\"_2a1p_T\" height=\"14\" viewbox=\"0 0 12 12\" width=\"14\" xmlns=\"http://www.w3.org/2000/svg\"><g><circle cx=\"6\" cy=\"6\" fill=\"#878787\" r=\"6\"></circle><path d=\"M3 6l2 2 4-4\" fill=\"#878787\" stroke=\"#FFF\" stroke-width=\"1.5\"></path></g></svg><p class=\"_2mcZGG\" id=\"review-a92c551f-916c-4d4c-81d0-40c0bb2266f9\"><span>Certified Buyer</span><span>, Chennai</span></p><div></div><p class=\"_2sc7ZR\">Apr, 2017</p></div><div class=\"_1e9_Zu\"><div class=\"row\"><div class=\"_27aTsS\"><div class=\"_1LmwT9\"><svg class=\"skCrcq\" height=\"15\" width=\"20\" xmlns=\"http://www.w3.org/2000/svg\"><path class=\"_1LIt4y\" d=\"M9.58.006c-.41.043-.794.32-1.01.728-.277.557-2.334 4.693-2.74 5.1-.41.407-.944.6-1.544.6v8.572h7.5c.45 0 .835-.28 1.007-.665 0 0 2.207-6.234 2.207-6.834 0-.6-.47-1.072-1.07-1.072h-3.216c-.6 0-1.07-.535-1.07-1.07 0-.537.835-3.387 1.006-3.944.17-.557-.107-1.157-.664-1.35-.15-.043-.257-.086-.407-.064zM0 6.434v8.572h2.143V6.434H0z\" fill=\"#fff\" fill-rule=\"evenodd\"></path></svg><span class=\"_3c3Px5\">585</span></div><div class=\"_1LmwT9 pkR4jH\"><svg class=\"skCrcq pkR4jH\" height=\"15\" width=\"20\" xmlns=\"http://www.w3.org/2000/svg\"><path class=\"_1LIt4y\" d=\"M9.58.006c-.41.043-.794.32-1.01.728-.277.557-2.334 4.693-2.74 5.1-.41.407-.944.6-1.544.6v8.572h7.5c.45 0 .835-.28 1.007-.665 0 0 2.207-6.234 2.207-6.834 0-.6-.47-1.072-1.07-1.072h-3.216c-.6 0-1.07-.535-1.07-1.07 0-.537.835-3.387 1.006-3.944.17-.557-.107-1.157-.664-1.35-.15-.043-.257-.086-.407-.064zM0 6.434v8.572h2.143V6.434H0z\" fill=\"#fff\" fill-rule=\"evenodd\"></path></svg><span class=\"_3c3Px5\">144</span></div></div><div class=\"_2bmov8\"><svg class=\"_2UvOBb\" height=\"11\" viewbox=\"0 0 16 27\" width=\"6\" xmlns=\"http://www.w3.org/2000/svg\"><path class=\"_2aPE6f\" d=\"M16 23.207L6.11 13.161 16 3.093 12.955 0 0 13.161l12.955 13.161z\" fill=\"#fff\"></path></svg><div class=\"_3E8aIl _38dCuf\"><div class=\"_3XCI6U\"><a href=\"/reviews/MOBEZFHHVD8KXE7G:1557?reviewId=a92c551f-916c-4d4c-81d0-40c0bb2266f9\"><span>Permalink</span></a></div><div class=\"_3XCI6U _2b2z-j\"><span>Report Abuse</span></div></div></div></div></div></div></div></div></div><div class=\"_16PBlm _3_IKGE\"><div class=\"col\"><div class=\"col _2wzgFH\"><div class=\"row\"><div class=\"_3LWZlK _1BLPMq\">5<img class=\"_1wB99o\" src=\"data:image/svg+xml;base64,PHN2ZyB4bWxucz0iaHR0cDovL3d3dy53My5vcmcvMjAwMC9zdmciIHdpZHRoPSIxMyIgaGVpZ2h0PSIxMiI+PHBhdGggZmlsbD0iI0ZGRiIgZD0iTTYuNSA5LjQzOWwtMy42NzQgMi4yMy45NC00LjI2LTMuMjEtMi44ODMgNC4yNTQtLjQwNEw2LjUuMTEybDEuNjkgNC4wMSA0LjI1NC40MDQtMy4yMSAyLjg4Mi45NCA0LjI2eiIvPjwvc3ZnPg==\"/></div><p class=\"_2-N8zT\">Terrific purchase</p></div><div class=\"row\"><div class=\"t-ZTKy\"><div><div class=\"\">Superb Device <br/>If You want some proof go to my channel and check the Lenovo P2 video \"Smart Reviews\"<br/><br/>Pros<br/>Brighter and Vivid Display<br/>Superb Audio output from speaker<br/>Value for money <br/>Use Open cam and your problem gonna solve <br/><br/>Cons<br/>Not much Special camera<br/><br/>Better cam than Redmi Note 4 and better battey and display and audio than Moto g5plus<br/>Donot ask about honor 6x</div><span class=\"_1H-bmy\"><span>READ MORE</span></span></div></div></div><div class=\"row _3n8db9\"><div class=\"row\"><p class=\"_2sc7ZR _2V5EHH\">Susama Behera</p><svg class=\"_2a1p_T\" height=\"14\" viewbox=\"0 0 12 12\" width=\"14\" xmlns=\"http://www.w3.org/2000/svg\"><g><circle cx=\"6\" cy=\"6\" fill=\"#878787\" r=\"6\"></circle><path d=\"M3 6l2 2 4-4\" fill=\"#878787\" stroke=\"#FFF\" stroke-width=\"1.5\"></path></g></svg><p class=\"_2mcZGG\" id=\"review-e28f6da1-8920-4a7c-b410-a07662d8d8e2\"><span>Certified Buyer</span><span>, Cuttack</span></p><div></div><p class=\"_2sc7ZR\">May, 2017</p></div><div class=\"_1e9_Zu\"><div class=\"row\"><div class=\"_27aTsS\"><div class=\"_1LmwT9\"><svg class=\"skCrcq\" height=\"15\" width=\"20\" xmlns=\"http://www.w3.org/2000/svg\"><path class=\"_1LIt4y\" d=\"M9.58.006c-.41.043-.794.32-1.01.728-.277.557-2.334 4.693-2.74 5.1-.41.407-.944.6-1.544.6v8.572h7.5c.45 0 .835-.28 1.007-.665 0 0 2.207-6.234 2.207-6.834 0-.6-.47-1.072-1.07-1.072h-3.216c-.6 0-1.07-.535-1.07-1.07 0-.537.835-3.387 1.006-3.944.17-.557-.107-1.157-.664-1.35-.15-.043-.257-.086-.407-.064zM0 6.434v8.572h2.143V6.434H0z\" fill=\"#fff\" fill-rule=\"evenodd\"></path></svg><span class=\"_3c3Px5\">533</span></div><div class=\"_1LmwT9 pkR4jH\"><svg class=\"skCrcq pkR4jH\" height=\"15\" width=\"20\" xmlns=\"http://www.w3.org/2000/svg\"><path class=\"_1LIt4y\" d=\"M9.58.006c-.41.043-.794.32-1.01.728-.277.557-2.334 4.693-2.74 5.1-.41.407-.944.6-1.544.6v8.572h7.5c.45 0 .835-.28 1.007-.665 0 0 2.207-6.234 2.207-6.834 0-.6-.47-1.072-1.07-1.072h-3.216c-.6 0-1.07-.535-1.07-1.07 0-.537.835-3.387 1.006-3.944.17-.557-.107-1.157-.664-1.35-.15-.043-.257-.086-.407-.064zM0 6.434v8.572h2.143V6.434H0z\" fill=\"#fff\" fill-rule=\"evenodd\"></path></svg><span class=\"_3c3Px5\">134</span></div></div><div class=\"_2bmov8\"><svg class=\"_2UvOBb\" height=\"11\" viewbox=\"0 0 16 27\" width=\"6\" xmlns=\"http://www.w3.org/2000/svg\"><path class=\"_2aPE6f\" d=\"M16 23.207L6.11 13.161 16 3.093 12.955 0 0 13.161l12.955 13.161z\" fill=\"#fff\"></path></svg><div class=\"_3E8aIl _38dCuf\"><div class=\"_3XCI6U\"><a href=\"/reviews/MOBEZFHHGE2RXQUY:1077?reviewId=e28f6da1-8920-4a7c-b410-a07662d8d8e2\"><span>Permalink</span></a></div><div class=\"_3XCI6U _2b2z-j\"><span>Report Abuse</span></div></div></div></div></div></div></div></div></div><div class=\"_16PBlm _3_IKGE\"><div class=\"col\"><div class=\"col _2wzgFH\"><div class=\"row\"><div class=\"_3LWZlK _1BLPMq\">5<img class=\"_1wB99o\" src=\"data:image/svg+xml;base64,PHN2ZyB4bWxucz0iaHR0cDovL3d3dy53My5vcmcvMjAwMC9zdmciIHdpZHRoPSIxMyIgaGVpZ2h0PSIxMiI+PHBhdGggZmlsbD0iI0ZGRiIgZD0iTTYuNSA5LjQzOWwtMy42NzQgMi4yMy45NC00LjI2LTMuMjEtMi44ODMgNC4yNTQtLjQwNEw2LjUuMTEybDEuNjkgNC4wMSA0LjI1NC40MDQtMy4yMSAyLjg4Mi45NCA0LjI2eiIvPjwvc3ZnPg==\"/></div><p class=\"_2-N8zT\">Authentic User of this Product (No Fake Review)</p></div><div class=\"row\"><div class=\"t-ZTKy\"><div><div class=\"\">Got Rs 2000/- discount on Lenovo P2 (4GB RAM Version) whose features (not the one mentioned under description section) are:<br/><br/>- Android Nougat update with Lenovo Customized version is really awesome experience<br/><br/>- Mobile is already fast (with 4 GB RAM) and after changing Window animation scale, Transition animation scale, and Animator duration scale to 0.5x after enabling developer mode it is really very very fast.<br/><br/>- It comes with OTG Adopter, that means you can directly connect your usual pen...</div><span class=\"_1BWGvX\"><span>READ MORE</span></span></div></div></div><div class=\"row _3n8db9\"><div class=\"row\"><p class=\"_2sc7ZR _2V5EHH\">Farooq Khan</p><svg class=\"_2a1p_T\" height=\"14\" viewbox=\"0 0 12 12\" width=\"14\" xmlns=\"http://www.w3.org/2000/svg\"><g><circle cx=\"6\" cy=\"6\" fill=\"#878787\" r=\"6\"></circle><path d=\"M3 6l2 2 4-4\" fill=\"#878787\" stroke=\"#FFF\" stroke-width=\"1.5\"></path></g></svg><p class=\"_2mcZGG\" id=\"review-ea16ebdb-f12d-4858-af22-7b2f54d43c2b\"><span>Certified Buyer</span><span>, Hyderabad</span></p><div></div><p class=\"_2sc7ZR\">Apr, 2017</p></div><div class=\"_1e9_Zu\"><div class=\"row\"><div class=\"_27aTsS\"><div class=\"_1LmwT9\"><svg class=\"skCrcq\" height=\"15\" width=\"20\" xmlns=\"http://www.w3.org/2000/svg\"><path class=\"_1LIt4y\" d=\"M9.58.006c-.41.043-.794.32-1.01.728-.277.557-2.334 4.693-2.74 5.1-.41.407-.944.6-1.544.6v8.572h7.5c.45 0 .835-.28 1.007-.665 0 0 2.207-6.234 2.207-6.834 0-.6-.47-1.072-1.07-1.072h-3.216c-.6 0-1.07-.535-1.07-1.07 0-.537.835-3.387 1.006-3.944.17-.557-.107-1.157-.664-1.35-.15-.043-.257-.086-.407-.064zM0 6.434v8.572h2.143V6.434H0z\" fill=\"#fff\" fill-rule=\"evenodd\"></path></svg><span class=\"_3c3Px5\">364</span></div><div class=\"_1LmwT9 pkR4jH\"><svg class=\"skCrcq pkR4jH\" height=\"15\" width=\"20\" xmlns=\"http://www.w3.org/2000/svg\"><path class=\"_1LIt4y\" d=\"M9.58.006c-.41.043-.794.32-1.01.728-.277.557-2.334 4.693-2.74 5.1-.41.407-.944.6-1.544.6v8.572h7.5c.45 0 .835-.28 1.007-.665 0 0 2.207-6.234 2.207-6.834 0-.6-.47-1.072-1.07-1.072h-3.216c-.6 0-1.07-.535-1.07-1.07 0-.537.835-3.387 1.006-3.944.17-.557-.107-1.157-.664-1.35-.15-.043-.257-.086-.407-.064zM0 6.434v8.572h2.143V6.434H0z\" fill=\"#fff\" fill-rule=\"evenodd\"></path></svg><span class=\"_3c3Px5\">93</span></div></div><div class=\"_2bmov8\"><svg class=\"_2UvOBb\" height=\"11\" viewbox=\"0 0 16 27\" width=\"6\" xmlns=\"http://www.w3.org/2000/svg\"><path class=\"_2aPE6f\" d=\"M16 23.207L6.11 13.161 16 3.093 12.955 0 0 13.161l12.955 13.161z\" fill=\"#fff\"></path></svg><div class=\"_3E8aIl _38dCuf\"><div class=\"_3XCI6U\"><a href=\"/reviews/MOBEZFHHVD8KXE7G:1744?reviewId=ea16ebdb-f12d-4858-af22-7b2f54d43c2b\"><span>Permalink</span></a></div><div class=\"_3XCI6U _2b2z-j\"><span>Report Abuse</span></div></div></div></div></div></div></div></div></div><div class=\"_16PBlm _3_IKGE\"><div class=\"col\"><div class=\"col _2wzgFH\"><div class=\"row\"><div class=\"_3LWZlK _1BLPMq\">5<img class=\"_1wB99o\" src=\"data:image/svg+xml;base64,PHN2ZyB4bWxucz0iaHR0cDovL3d3dy53My5vcmcvMjAwMC9zdmciIHdpZHRoPSIxMyIgaGVpZ2h0PSIxMiI+PHBhdGggZmlsbD0iI0ZGRiIgZD0iTTYuNSA5LjQzOWwtMy42NzQgMi4yMy45NC00LjI2LTMuMjEtMi44ODMgNC4yNTQtLjQwNEw2LjUuMTEybDEuNjkgNC4wMSA0LjI1NC40MDQtMy4yMSAyLjg4Mi45NCA0LjI2eiIvPjwvc3ZnPg==\"/></div><p class=\"_2-N8zT\">Worth every penny</p></div><div class=\"row\"><div class=\"t-ZTKy\"><div><div class=\"\">Writing a review after a month of use .. absolutely fantastic phone .. Better than moto g5 plus and redmi note 4 at anytime . They are over hyped devices.(Have used all three phones)<br/><br/> Battery : Exceptional battery life of 2 days of heavy usage and 3 to 4 days of normal usage<br/>Also 1 hour charge gives you 2 days of usage no phone can do that .<br/>Camera : people say it's not good but it's fairly decent .. takes good quality photos is day light . Low light are little noisy but it's problem with al...</div><span class=\"_1BWGvX\"><span>READ MORE</span></span></div></div></div><div class=\"row _3n8db9\"><div class=\"row\"><p class=\"_2sc7ZR _2V5EHH\">Akshay Manerikar</p><svg class=\"_2a1p_T\" height=\"14\" viewbox=\"0 0 12 12\" width=\"14\" xmlns=\"http://www.w3.org/2000/svg\"><g><circle cx=\"6\" cy=\"6\" fill=\"#878787\" r=\"6\"></circle><path d=\"M3 6l2 2 4-4\" fill=\"#878787\" stroke=\"#FFF\" stroke-width=\"1.5\"></path></g></svg><p class=\"_2mcZGG\" id=\"review-376364ad-e8b7-4d6e-a12e-865a68832607\"><span>Certified Buyer</span><span>, Porvorim</span></p><div></div><p class=\"_2sc7ZR\">Apr, 2017</p></div><div class=\"_1e9_Zu\"><div class=\"row\"><div class=\"_27aTsS\"><div class=\"_1LmwT9\"><svg class=\"skCrcq\" height=\"15\" width=\"20\" xmlns=\"http://www.w3.org/2000/svg\"><path class=\"_1LIt4y\" d=\"M9.58.006c-.41.043-.794.32-1.01.728-.277.557-2.334 4.693-2.74 5.1-.41.407-.944.6-1.544.6v8.572h7.5c.45 0 .835-.28 1.007-.665 0 0 2.207-6.234 2.207-6.834 0-.6-.47-1.072-1.07-1.072h-3.216c-.6 0-1.07-.535-1.07-1.07 0-.537.835-3.387 1.006-3.944.17-.557-.107-1.157-.664-1.35-.15-.043-.257-.086-.407-.064zM0 6.434v8.572h2.143V6.434H0z\" fill=\"#fff\" fill-rule=\"evenodd\"></path></svg><span class=\"_3c3Px5\">227</span></div><div class=\"_1LmwT9 pkR4jH\"><svg class=\"skCrcq pkR4jH\" height=\"15\" width=\"20\" xmlns=\"http://www.w3.org/2000/svg\"><path class=\"_1LIt4y\" d=\"M9.58.006c-.41.043-.794.32-1.01.728-.277.557-2.334 4.693-2.74 5.1-.41.407-.944.6-1.544.6v8.572h7.5c.45 0 .835-.28 1.007-.665 0 0 2.207-6.234 2.207-6.834 0-.6-.47-1.072-1.07-1.072h-3.216c-.6 0-1.07-.535-1.07-1.07 0-.537.835-3.387 1.006-3.944.17-.557-.107-1.157-.664-1.35-.15-.043-.257-.086-.407-.064zM0 6.434v8.572h2.143V6.434H0z\" fill=\"#fff\" fill-rule=\"evenodd\"></path></svg><span class=\"_3c3Px5\">59</span></div></div><div class=\"_2bmov8\"><svg class=\"_2UvOBb\" height=\"11\" viewbox=\"0 0 16 27\" width=\"6\" xmlns=\"http://www.w3.org/2000/svg\"><path class=\"_2aPE6f\" d=\"M16 23.207L6.11 13.161 16 3.093 12.955 0 0 13.161l12.955 13.161z\" fill=\"#fff\"></path></svg><div class=\"_3E8aIl _38dCuf\"><div class=\"_3XCI6U\"><a href=\"/reviews/MOBEZFHHVD8KXE7G:1562?reviewId=376364ad-e8b7-4d6e-a12e-865a68832607\"><span>Permalink</span></a></div><div class=\"_3XCI6U _2b2z-j\"><span>Report Abuse</span></div></div></div></div></div></div></div></div></div><div class=\"_16PBlm _3_IKGE\"><div class=\"col\"><div class=\"col _2wzgFH\"><div class=\"row\"><div class=\"_3LWZlK _1BLPMq\">4<img class=\"_1wB99o\" src=\"data:image/svg+xml;base64,PHN2ZyB4bWxucz0iaHR0cDovL3d3dy53My5vcmcvMjAwMC9zdmciIHdpZHRoPSIxMyIgaGVpZ2h0PSIxMiI+PHBhdGggZmlsbD0iI0ZGRiIgZD0iTTYuNSA5LjQzOWwtMy42NzQgMi4yMy45NC00LjI2LTMuMjEtMi44ODMgNC4yNTQtLjQwNEw2LjUuMTEybDEuNjkgNC4wMSA0LjI1NC40MDQtMy4yMSAyLjg4Mi45NCA0LjI2eiIvPjwvc3ZnPg==\"/></div><p class=\"_2-N8zT\">Battery Life brings you bliss</p></div><div class=\"row\"><div class=\"t-ZTKy\"><div><div class=\"\">Good built in quality and wonderful battery life.<br/>The phone at times is slow but is a great one. Handles multi tasking well enough.<br/><br/>I don't mind the cons because battery life is all what I need.<br/>Go for it. Worth it :)</div><span class=\"_1H-bmy\"><span>READ MORE</span></span></div></div></div><div class=\"row _3n8db9\"><div class=\"row\"><p class=\"_2sc7ZR _2V5EHH\">Sandeep Kavety</p><svg class=\"_2a1p_T\" height=\"14\" viewbox=\"0 0 12 12\" width=\"14\" xmlns=\"http://www.w3.org/2000/svg\"><g><circle cx=\"6\" cy=\"6\" fill=\"#878787\" r=\"6\"></circle><path d=\"M3 6l2 2 4-4\" fill=\"#878787\" stroke=\"#FFF\" stroke-width=\"1.5\"></path></g></svg><p class=\"_2mcZGG\" id=\"review-b2c56955-6ac3-48cd-b233-413d22bc45c6\"><span>Certified Buyer</span><span>, Hyderabad</span></p><div></div><p class=\"_2sc7ZR\">Jan, 2017</p></div><div class=\"_1e9_Zu\"><div class=\"row\"><div class=\"_27aTsS\"><div class=\"_1LmwT9\"><svg class=\"skCrcq\" height=\"15\" width=\"20\" xmlns=\"http://www.w3.org/2000/svg\"><path class=\"_1LIt4y\" d=\"M9.58.006c-.41.043-.794.32-1.01.728-.277.557-2.334 4.693-2.74 5.1-.41.407-.944.6-1.544.6v8.572h7.5c.45 0 .835-.28 1.007-.665 0 0 2.207-6.234 2.207-6.834 0-.6-.47-1.072-1.07-1.072h-3.216c-.6 0-1.07-.535-1.07-1.07 0-.537.835-3.387 1.006-3.944.17-.557-.107-1.157-.664-1.35-.15-.043-.257-.086-.407-.064zM0 6.434v8.572h2.143V6.434H0z\" fill=\"#fff\" fill-rule=\"evenodd\"></path></svg><span class=\"_3c3Px5\">562</span></div><div class=\"_1LmwT9 pkR4jH\"><svg class=\"skCrcq pkR4jH\" height=\"15\" width=\"20\" xmlns=\"http://www.w3.org/2000/svg\"><path class=\"_1LIt4y\" d=\"M9.58.006c-.41.043-.794.32-1.01.728-.277.557-2.334 4.693-2.74 5.1-.41.407-.944.6-1.544.6v8.572h7.5c.45 0 .835-.28 1.007-.665 0 0 2.207-6.234 2.207-6.834 0-.6-.47-1.072-1.07-1.072h-3.216c-.6 0-1.07-.535-1.07-1.07 0-.537.835-3.387 1.006-3.944.17-.557-.107-1.157-.664-1.35-.15-.043-.257-.086-.407-.064zM0 6.434v8.572h2.143V6.434H0z\" fill=\"#fff\" fill-rule=\"evenodd\"></path></svg><span class=\"_3c3Px5\">181</span></div></div><div class=\"_2bmov8\"><svg class=\"_2UvOBb\" height=\"11\" viewbox=\"0 0 16 27\" width=\"6\" xmlns=\"http://www.w3.org/2000/svg\"><path class=\"_2aPE6f\" d=\"M16 23.207L6.11 13.161 16 3.093 12.955 0 0 13.161l12.955 13.161z\" fill=\"#fff\"></path></svg><div class=\"_3E8aIl _38dCuf\"><div class=\"_3XCI6U\"><a href=\"/reviews/MOBEZFHHVD8KXE7G:4?reviewId=b2c56955-6ac3-48cd-b233-413d22bc45c6\"><span>Permalink</span></a></div><div class=\"_3XCI6U _2b2z-j\"><span>Report Abuse</span></div></div></div></div></div></div></div></div></div><div class=\"_16PBlm _3_IKGE\"><div class=\"col\"><div class=\"col _2wzgFH\"><div class=\"row\"><div class=\"_3LWZlK _1BLPMq\">5<img class=\"_1wB99o\" src=\"data:image/svg+xml;base64,PHN2ZyB4bWxucz0iaHR0cDovL3d3dy53My5vcmcvMjAwMC9zdmciIHdpZHRoPSIxMyIgaGVpZ2h0PSIxMiI+PHBhdGggZmlsbD0iI0ZGRiIgZD0iTTYuNSA5LjQzOWwtMy42NzQgMi4yMy45NC00LjI2LTMuMjEtMi44ODMgNC4yNTQtLjQwNEw2LjUuMTEybDEuNjkgNC4wMSA0LjI1NC40MDQtMy4yMSAyLjg4Mi45NCA0LjI2eiIvPjwvc3ZnPg==\"/></div><p class=\"_2-N8zT\">Simply awesome</p></div><div class=\"row\"><div class=\"t-ZTKy\"><div><div class=\"\">Lenovo P2 is a nice phone for heavy smart phone users <br/>Pros: <br/>1.Good display, audio &amp; battery life<br/>2. smart processor Phone can't gets heated up even in heavy uses<br/>3. Very good feedback &amp; response <br/><br/>Cons: <br/>Simple look</div><span class=\"_1H-bmy\"><span>READ MORE</span></span></div></div></div><div class=\"row _3n8db9\"><div class=\"row\"><p class=\"_2sc7ZR _2V5EHH\">Ojaswi Dewangan</p><svg class=\"_2a1p_T\" height=\"14\" viewbox=\"0 0 12 12\" width=\"14\" xmlns=\"http://www.w3.org/2000/svg\"><g><circle cx=\"6\" cy=\"6\" fill=\"#878787\" r=\"6\"></circle><path d=\"M3 6l2 2 4-4\" fill=\"#878787\" stroke=\"#FFF\" stroke-width=\"1.5\"></path></g></svg><p class=\"_2mcZGG\" id=\"review-1f0026a7-5958-4f8e-bdcc-67c352521087\"><span>Certified Buyer</span><span>, Anand</span></p><div></div><p class=\"_2sc7ZR\">Jan, 2017</p></div><div class=\"_1e9_Zu\"><div class=\"row\"><div class=\"_27aTsS\"><div class=\"_1LmwT9\"><svg class=\"skCrcq\" height=\"15\" width=\"20\" xmlns=\"http://www.w3.org/2000/svg\"><path class=\"_1LIt4y\" d=\"M9.58.006c-.41.043-.794.32-1.01.728-.277.557-2.334 4.693-2.74 5.1-.41.407-.944.6-1.544.6v8.572h7.5c.45 0 .835-.28 1.007-.665 0 0 2.207-6.234 2.207-6.834 0-.6-.47-1.072-1.07-1.072h-3.216c-.6 0-1.07-.535-1.07-1.07 0-.537.835-3.387 1.006-3.944.17-.557-.107-1.157-.664-1.35-.15-.043-.257-.086-.407-.064zM0 6.434v8.572h2.143V6.434H0z\" fill=\"#fff\" fill-rule=\"evenodd\"></path></svg><span class=\"_3c3Px5\">227</span></div><div class=\"_1LmwT9 pkR4jH\"><svg class=\"skCrcq pkR4jH\" height=\"15\" width=\"20\" xmlns=\"http://www.w3.org/2000/svg\"><path class=\"_1LIt4y\" d=\"M9.58.006c-.41.043-.794.32-1.01.728-.277.557-2.334 4.693-2.74 5.1-.41.407-.944.6-1.544.6v8.572h7.5c.45 0 .835-.28 1.007-.665 0 0 2.207-6.234 2.207-6.834 0-.6-.47-1.072-1.07-1.072h-3.216c-.6 0-1.07-.535-1.07-1.07 0-.537.835-3.387 1.006-3.944.17-.557-.107-1.157-.664-1.35-.15-.043-.257-.086-.407-.064zM0 6.434v8.572h2.143V6.434H0z\" fill=\"#fff\" fill-rule=\"evenodd\"></path></svg><span class=\"_3c3Px5\">67</span></div></div><div class=\"_2bmov8\"><svg class=\"_2UvOBb\" height=\"11\" viewbox=\"0 0 16 27\" width=\"6\" xmlns=\"http://www.w3.org/2000/svg\"><path class=\"_2aPE6f\" d=\"M16 23.207L6.11 13.161 16 3.093 12.955 0 0 13.161l12.955 13.161z\" fill=\"#fff\"></path></svg><div class=\"_3E8aIl _38dCuf\"><div class=\"_3XCI6U\"><a href=\"/reviews/MOBEZFHHVD8KXE7G:8?reviewId=1f0026a7-5958-4f8e-bdcc-67c352521087\"><span>Permalink</span></a></div><div class=\"_3XCI6U _2b2z-j\"><span>Report Abuse</span></div></div></div></div></div></div></div></div></div><div class=\"_16PBlm _3_IKGE\"><div class=\"col\"><div class=\"col _2wzgFH\"><div class=\"row\"><div class=\"_3LWZlK _1BLPMq\">5<img class=\"_1wB99o\" src=\"data:image/svg+xml;base64,PHN2ZyB4bWxucz0iaHR0cDovL3d3dy53My5vcmcvMjAwMC9zdmciIHdpZHRoPSIxMyIgaGVpZ2h0PSIxMiI+PHBhdGggZmlsbD0iI0ZGRiIgZD0iTTYuNSA5LjQzOWwtMy42NzQgMi4yMy45NC00LjI2LTMuMjEtMi44ODMgNC4yNTQtLjQwNEw2LjUuMTEybDEuNjkgNC4wMSA0LjI1NC40MDQtMy4yMSAyLjg4Mi45NCA0LjI2eiIvPjwvc3ZnPg==\"/></div><p class=\"_2-N8zT\">Very Good Phone.. A complete package</p></div><div class=\"row\"><div class=\"t-ZTKy\"><div><div class=\"\">Reviewing after 15 days of uses<br/><br/>Pros<br/>1. Battery: Good bettery.. last for 2 days easily<br/>2. Charger: Very fast charger.. charge for 1 hour gives you 2 days battery backup<br/>3. Display: Very good display with breight colour and nice contrast. Black is true black and white is generally off white. Thanks to Super AMOLED.Touch is also fine.<br/>4. Processer: Very efficient processor. Good gaming experiance. No heating.. lower power consumption. Thanks to 14 Nenometer technology.<br/>5. Sound: sound in speak...</div><span class=\"_1BWGvX\"><span>READ MORE</span></span></div></div></div><div class=\"row _3n8db9\"><div class=\"row\"><p class=\"_2sc7ZR _2V5EHH\">Vikas Bhaleriwala</p><svg class=\"_2a1p_T\" height=\"14\" viewbox=\"0 0 12 12\" width=\"14\" xmlns=\"http://www.w3.org/2000/svg\"><g><circle cx=\"6\" cy=\"6\" fill=\"#878787\" r=\"6\"></circle><path d=\"M3 6l2 2 4-4\" fill=\"#878787\" stroke=\"#FFF\" stroke-width=\"1.5\"></path></g></svg><p class=\"_2mcZGG\" id=\"review-4b3bd34a-d9b7-49b0-b199-479d7db70d93\"><span>Certified Buyer</span><span>, Churu</span></p><div></div><p class=\"_2sc7ZR\">Mar, 2017</p></div><div class=\"_1e9_Zu\"><div class=\"row\"><div class=\"_27aTsS\"><div class=\"_1LmwT9\"><svg class=\"skCrcq\" height=\"15\" width=\"20\" xmlns=\"http://www.w3.org/2000/svg\"><path class=\"_1LIt4y\" d=\"M9.58.006c-.41.043-.794.32-1.01.728-.277.557-2.334 4.693-2.74 5.1-.41.407-.944.6-1.544.6v8.572h7.5c.45 0 .835-.28 1.007-.665 0 0 2.207-6.234 2.207-6.834 0-.6-.47-1.072-1.07-1.072h-3.216c-.6 0-1.07-.535-1.07-1.07 0-.537.835-3.387 1.006-3.944.17-.557-.107-1.157-.664-1.35-.15-.043-.257-.086-.407-.064zM0 6.434v8.572h2.143V6.434H0z\" fill=\"#fff\" fill-rule=\"evenodd\"></path></svg><span class=\"_3c3Px5\">770</span></div><div class=\"_1LmwT9 pkR4jH\"><svg class=\"skCrcq pkR4jH\" height=\"15\" width=\"20\" xmlns=\"http://www.w3.org/2000/svg\"><path class=\"_1LIt4y\" d=\"M9.58.006c-.41.043-.794.32-1.01.728-.277.557-2.334 4.693-2.74 5.1-.41.407-.944.6-1.544.6v8.572h7.5c.45 0 .835-.28 1.007-.665 0 0 2.207-6.234 2.207-6.834 0-.6-.47-1.072-1.07-1.072h-3.216c-.6 0-1.07-.535-1.07-1.07 0-.537.835-3.387 1.006-3.944.17-.557-.107-1.157-.664-1.35-.15-.043-.257-.086-.407-.064zM0 6.434v8.572h2.143V6.434H0z\" fill=\"#fff\" fill-rule=\"evenodd\"></path></svg><span class=\"_3c3Px5\">276</span></div></div><div class=\"_2bmov8\"><svg class=\"_2UvOBb\" height=\"11\" viewbox=\"0 0 16 27\" width=\"6\" xmlns=\"http://www.w3.org/2000/svg\"><path class=\"_2aPE6f\" d=\"M16 23.207L6.11 13.161 16 3.093 12.955 0 0 13.161l12.955 13.161z\" fill=\"#fff\"></path></svg><div class=\"_3E8aIl _38dCuf\"><div class=\"_3XCI6U\"><a href=\"/reviews/MOBEZFHHVD8KXE7G:1250?reviewId=4b3bd34a-d9b7-49b0-b199-479d7db70d93\"><span>Permalink</span></a></div><div class=\"_3XCI6U _2b2z-j\"><span>Report Abuse</span></div></div></div></div></div></div></div></div></div><div class=\"_16PBlm _3_IKGE\"><div class=\"col\"><div class=\"col _2wzgFH\"><div class=\"row\"><div class=\"_3LWZlK _1BLPMq\">5<img class=\"_1wB99o\" src=\"data:image/svg+xml;base64,PHN2ZyB4bWxucz0iaHR0cDovL3d3dy53My5vcmcvMjAwMC9zdmciIHdpZHRoPSIxMyIgaGVpZ2h0PSIxMiI+PHBhdGggZmlsbD0iI0ZGRiIgZD0iTTYuNSA5LjQzOWwtMy42NzQgMi4yMy45NC00LjI2LTMuMjEtMi44ODMgNC4yNTQtLjQwNEw2LjUuMTEybDEuNjkgNC4wMSA0LjI1NC40MDQtMy4yMSAyLjg4Mi45NCA0LjI2eiIvPjwvc3ZnPg==\"/></div><p class=\"_2-N8zT\">Brilliant</p></div><div class=\"row\"><div class=\"t-ZTKy\"><div><div class=\"\">Phone is really good in use. I am using it from past 30 hours and based on Battery status I can say battery can hold 2.5 day of juice with moderate use. Here are some points which can help others to buy or not to buy this phone. <br/>1. Build quality is really gud. I am using gray one and I will say that it's really looks gud. <br/>    *** But I know everyone will use back case for safety and which will hide the charm of back :p<br/>2. Screen quality and touch response is another plus point here, thanks ...</div><span class=\"_1BWGvX\"><span>READ MORE</span></span></div></div></div><div class=\"row _3n8db9\"><div class=\"row\"><p class=\"_2sc7ZR _2V5EHH\">Ankit Nirwal</p><svg class=\"_2a1p_T\" height=\"14\" viewbox=\"0 0 12 12\" width=\"14\" xmlns=\"http://www.w3.org/2000/svg\"><g><circle cx=\"6\" cy=\"6\" fill=\"#878787\" r=\"6\"></circle><path d=\"M3 6l2 2 4-4\" fill=\"#878787\" stroke=\"#FFF\" stroke-width=\"1.5\"></path></g></svg><p class=\"_2mcZGG\" id=\"review-055f4dd7-2b56-40bf-abae-a1cb26cb0b20\"><span>Certified Buyer</span><span>, Hyderabad</span></p><div></div><p class=\"_2sc7ZR\">Jan, 2017</p></div><div class=\"_1e9_Zu\"><div class=\"row\"><div class=\"_27aTsS\"><div class=\"_1LmwT9\"><svg class=\"skCrcq\" height=\"15\" width=\"20\" xmlns=\"http://www.w3.org/2000/svg\"><path class=\"_1LIt4y\" d=\"M9.58.006c-.41.043-.794.32-1.01.728-.277.557-2.334 4.693-2.74 5.1-.41.407-.944.6-1.544.6v8.572h7.5c.45 0 .835-.28 1.007-.665 0 0 2.207-6.234 2.207-6.834 0-.6-.47-1.072-1.07-1.072h-3.216c-.6 0-1.07-.535-1.07-1.07 0-.537.835-3.387 1.006-3.944.17-.557-.107-1.157-.664-1.35-.15-.043-.257-.086-.407-.064zM0 6.434v8.572h2.143V6.434H0z\" fill=\"#fff\" fill-rule=\"evenodd\"></path></svg><span class=\"_3c3Px5\">785</span></div><div class=\"_1LmwT9 pkR4jH\"><svg class=\"skCrcq pkR4jH\" height=\"15\" width=\"20\" xmlns=\"http://www.w3.org/2000/svg\"><path class=\"_1LIt4y\" d=\"M9.58.006c-.41.043-.794.32-1.01.728-.277.557-2.334 4.693-2.74 5.1-.41.407-.944.6-1.544.6v8.572h7.5c.45 0 .835-.28 1.007-.665 0 0 2.207-6.234 2.207-6.834 0-.6-.47-1.072-1.07-1.072h-3.216c-.6 0-1.07-.535-1.07-1.07 0-.537.835-3.387 1.006-3.944.17-.557-.107-1.157-.664-1.35-.15-.043-.257-.086-.407-.064zM0 6.434v8.572h2.143V6.434H0z\" fill=\"#fff\" fill-rule=\"evenodd\"></path></svg><span class=\"_3c3Px5\">347</span></div></div><div class=\"_2bmov8\"><svg class=\"_2UvOBb\" height=\"11\" viewbox=\"0 0 16 27\" width=\"6\" xmlns=\"http://www.w3.org/2000/svg\"><path class=\"_2aPE6f\" d=\"M16 23.207L6.11 13.161 16 3.093 12.955 0 0 13.161l12.955 13.161z\" fill=\"#fff\"></path></svg><div class=\"_3E8aIl _38dCuf\"><div class=\"_3XCI6U\"><a href=\"/reviews/MOBEZFHHVD8KXE7G:64?reviewId=055f4dd7-2b56-40bf-abae-a1cb26cb0b20\"><span>Permalink</span></a></div><div class=\"_3XCI6U _2b2z-j\"><span>Report Abuse</span></div></div></div></div></div></div></div></div></div></div><div class=\"_2c2kV-\"><span class=\"MCE--B\">+</span></div><a href=\"/lenovo-p2-grey-graphite-grey-32-gb/product-reviews/itmeq5ygebzgqgfb?pid=MOBEZFHHVD8KXE7G&amp;lid=LSTMOBEZFHHVD8KXE7GB0OS6I&amp;marketplace=FLIPKART\"><div class=\"_3UAT2v _16PBlm\"><span class=\"\">All 5846 reviews</span></div></a></div></div><div class=\"_1AtVbE col-12-12\"><div class=\"_1v1N_F\"><div><div class=\"row _1uIQVx\"><div class=\"_2n4XY2 _1d7nTU col\">Questions and Answers</div><div class=\"col AJmKFS\"><img height=\"20\" src=\"data:image/svg+xml;base64,PHN2ZyB3aWR0aD0iMTYiIGhlaWdodD0iMTYiIHZpZXdCb3g9IjAgMCAxNiAxNiIgeG1sbnM9Imh0dHA6Ly93d3cudzMub3JnLzIwMDAvc3ZnIj48dGl0bGU+R3JvdXAgNTwvdGl0bGU+PGcgZmlsbD0iIzIxMjEyMSIgZmlsbC1ydWxlPSJldmVub2RkIj48cGF0aCBkPSJNMTEuNjE4IDkuODk3bDQuMjI0IDQuMjEyYy4wOTIuMDkuMS4yMy4wMi4zMTJsLTEuNDY0IDEuNDZjLS4wOC4wOC0uMjIyLjA3Mi0uMzE0LS4wMkw5Ljg2OCAxMS42Nk02LjQ4NiAxMC45Yy0yLjQyIDAtNC4zOC0xLjk1NS00LjM4LTQuMzY3IDAtMi40MTMgMS45Ni00LjM3IDQuMzgtNC4zN3M0LjM4IDEuOTU3IDQuMzggNC4zN2MwIDIuNDEyLTEuOTYgNC4zNjgtNC4zOCA0LjM2OG0wLTEwLjgzNEMyLjkwNC4wNjYgMCAyLjk2IDAgNi41MzMgMCAxMC4xMDUgMi45MDQgMTMgNi40ODYgMTNzNi40ODctMi44OTUgNi40ODctNi40NjdjMC0zLjU3Mi0yLjkwNS02LjQ2Ny02LjQ4Ny02LjQ2NyIvPjwvZz48L3N2Zz4=\" width=\"20\"/></div></div><div class=\"\"><div class=\"_1RWRBu\"><div><div class=\"_1xR0kG _3cziW5\"><span class=\"_3PSmm0\">Q:</span><span>this mobile upgrade to naugout.yes are no</span></div><div><div class=\"_2yeNfb\"><span class=\"_3PSmm0\">A:</span><span>Yes it needs an update.</span></div><div class=\"_1OuUqT\"><div class=\"_1nBIs6\"><div class=\"qLyyvN\"><span class=\"_2GEIK5\">Vishwas N</span></div><span class=\"OE2Dzi\"><svg class=\"_3V5JvW\" height=\"14\" viewbox=\"0 0 12 12\" width=\"14\" xmlns=\"http://www.w3.org/2000/svg\"><g><circle cx=\"6\" cy=\"6\" fill=\"#878787\" r=\"6\"></circle><path d=\"M3 6l2 2 4-4\" fill=\"#878787\" stroke=\"#FFF\" stroke-width=\"1.5\"></path></g></svg>Certified Buyer</span></div><div class=\"_1O5m0R\"><div class=\"_1LmwT9 _1EEi-k\"><svg class=\"skCrcq\" height=\"15\" width=\"20\" xmlns=\"http://www.w3.org/2000/svg\"><path class=\"_1LIt4y\" d=\"M9.58.006c-.41.043-.794.32-1.01.728-.277.557-2.334 4.693-2.74 5.1-.41.407-.944.6-1.544.6v8.572h7.5c.45 0 .835-.28 1.007-.665 0 0 2.207-6.234 2.207-6.834 0-.6-.47-1.072-1.07-1.072h-3.216c-.6 0-1.07-.535-1.07-1.07 0-.537.835-3.387 1.006-3.944.17-.557-.107-1.157-.664-1.35-.15-.043-.257-.086-.407-.064zM0 6.434v8.572h2.143V6.434H0z\" fill=\"#fff\" fill-rule=\"evenodd\"></path></svg><span class=\"_3c3Px5\">103</span></div><div class=\"_1LmwT9 pkR4jH _1EEi-k\"><svg class=\"skCrcq pkR4jH\" height=\"15\" width=\"20\" xmlns=\"http://www.w3.org/2000/svg\"><path class=\"_1LIt4y\" d=\"M9.58.006c-.41.043-.794.32-1.01.728-.277.557-2.334 4.693-2.74 5.1-.41.407-.944.6-1.544.6v8.572h7.5c.45 0 .835-.28 1.007-.665 0 0 2.207-6.234 2.207-6.834 0-.6-.47-1.072-1.07-1.072h-3.216c-.6 0-1.07-.535-1.07-1.07 0-.537.835-3.387 1.006-3.944.17-.557-.107-1.157-.664-1.35-.15-.043-.257-.086-.407-.064zM0 6.434v8.572h2.143V6.434H0z\" fill=\"#fff\" fill-rule=\"evenodd\"></path></svg><span class=\"_3c3Px5\">29</span></div></div><div class=\"_2bmov8\"><svg class=\"_2UvOBb\" height=\"11\" viewbox=\"0 0 16 27\" width=\"6\" xmlns=\"http://www.w3.org/2000/svg\"><path class=\"_2aPE6f\" d=\"M16 23.207L6.11 13.161 16 3.093 12.955 0 0 13.161l12.955 13.161z\" fill=\"#fff\"></path></svg><div class=\"_3E8aIl _38dCuf\"><div class=\"_3XCI6U _2b2z-j\"><span>Report Abuse</span></div></div></div></div></div><a class=\"nC1FHF\" href=\"#\">Read other answers</a></div></div><div class=\"_1RWRBu\"><div><div class=\"_1xR0kG _3cziW5\"><span class=\"_3PSmm0\">Q:</span><span>it is have led notification?</span></div><div><div class=\"_2yeNfb\"><span class=\"_3PSmm0\">A:</span><span>Yes. With customisable colours</span></div><div class=\"_1OuUqT\"><div class=\"_1nBIs6\"><div class=\"qLyyvN\"><span class=\"_2GEIK5\">Nagaraj Kumar</span></div><span class=\"OE2Dzi\"><svg class=\"_3V5JvW\" height=\"14\" viewbox=\"0 0 12 12\" width=\"14\" xmlns=\"http://www.w3.org/2000/svg\"><g><circle cx=\"6\" cy=\"6\" fill=\"#878787\" r=\"6\"></circle><path d=\"M3 6l2 2 4-4\" fill=\"#878787\" stroke=\"#FFF\" stroke-width=\"1.5\"></path></g></svg>Certified Buyer</span></div><div class=\"_1O5m0R\"><div class=\"_1LmwT9 _1EEi-k\"><svg class=\"skCrcq\" height=\"15\" width=\"20\" xmlns=\"http://www.w3.org/2000/svg\"><path class=\"_1LIt4y\" d=\"M9.58.006c-.41.043-.794.32-1.01.728-.277.557-2.334 4.693-2.74 5.1-.41.407-.944.6-1.544.6v8.572h7.5c.45 0 .835-.28 1.007-.665 0 0 2.207-6.234 2.207-6.834 0-.6-.47-1.072-1.07-1.072h-3.216c-.6 0-1.07-.535-1.07-1.07 0-.537.835-3.387 1.006-3.944.17-.557-.107-1.157-.664-1.35-.15-.043-.257-.086-.407-.064zM0 6.434v8.572h2.143V6.434H0z\" fill=\"#fff\" fill-rule=\"evenodd\"></path></svg><span class=\"_3c3Px5\">12</span></div><div class=\"_1LmwT9 pkR4jH _1EEi-k\"><svg class=\"skCrcq pkR4jH\" height=\"15\" width=\"20\" xmlns=\"http://www.w3.org/2000/svg\"><path class=\"_1LIt4y\" d=\"M9.58.006c-.41.043-.794.32-1.01.728-.277.557-2.334 4.693-2.74 5.1-.41.407-.944.6-1.544.6v8.572h7.5c.45 0 .835-.28 1.007-.665 0 0 2.207-6.234 2.207-6.834 0-.6-.47-1.072-1.07-1.072h-3.216c-.6 0-1.07-.535-1.07-1.07 0-.537.835-3.387 1.006-3.944.17-.557-.107-1.157-.664-1.35-.15-.043-.257-.086-.407-.064zM0 6.434v8.572h2.143V6.434H0z\" fill=\"#fff\" fill-rule=\"evenodd\"></path></svg><span class=\"_3c3Px5\">1</span></div></div><div class=\"_2bmov8\"><svg class=\"_2UvOBb\" height=\"11\" viewbox=\"0 0 16 27\" width=\"6\" xmlns=\"http://www.w3.org/2000/svg\"><path class=\"_2aPE6f\" d=\"M16 23.207L6.11 13.161 16 3.093 12.955 0 0 13.161l12.955 13.161z\" fill=\"#fff\"></path></svg><div class=\"_3E8aIl _38dCuf\"><div class=\"_3XCI6U _2b2z-j\"><span>Report Abuse</span></div></div></div></div></div></div></div><div class=\"_1RWRBu\"><div><div class=\"_1xR0kG _3cziW5\"><span class=\"_3PSmm0\">Q:</span><span>is this support HD video calling from dialler?</span></div><div><div class=\"_2yeNfb\"><span class=\"_3PSmm0\">A:</span><span>yes, with Jio  you can HD video calling from dialler</span></div><div class=\"_1OuUqT\"><div class=\"_1nBIs6\"><div class=\"qLyyvN\"><span class=\"_2GEIK5\">Murali Krishna</span></div><span class=\"OE2Dzi\"><svg class=\"_3V5JvW\" height=\"14\" viewbox=\"0 0 12 12\" width=\"14\" xmlns=\"http://www.w3.org/2000/svg\"><g><circle cx=\"6\" cy=\"6\" fill=\"#878787\" r=\"6\"></circle><path d=\"M3 6l2 2 4-4\" fill=\"#878787\" stroke=\"#FFF\" stroke-width=\"1.5\"></path></g></svg>Certified Buyer</span></div><div class=\"_1O5m0R\"><div class=\"_1LmwT9 _1EEi-k\"><svg class=\"skCrcq\" height=\"15\" width=\"20\" xmlns=\"http://www.w3.org/2000/svg\"><path class=\"_1LIt4y\" d=\"M9.58.006c-.41.043-.794.32-1.01.728-.277.557-2.334 4.693-2.74 5.1-.41.407-.944.6-1.544.6v8.572h7.5c.45 0 .835-.28 1.007-.665 0 0 2.207-6.234 2.207-6.834 0-.6-.47-1.072-1.07-1.072h-3.216c-.6 0-1.07-.535-1.07-1.07 0-.537.835-3.387 1.006-3.944.17-.557-.107-1.157-.664-1.35-.15-.043-.257-.086-.407-.064zM0 6.434v8.572h2.143V6.434H0z\" fill=\"#fff\" fill-rule=\"evenodd\"></path></svg><span class=\"_3c3Px5\">17</span></div><div class=\"_1LmwT9 pkR4jH _1EEi-k\"><svg class=\"skCrcq pkR4jH\" height=\"15\" width=\"20\" xmlns=\"http://www.w3.org/2000/svg\"><path class=\"_1LIt4y\" d=\"M9.58.006c-.41.043-.794.32-1.01.728-.277.557-2.334 4.693-2.74 5.1-.41.407-.944.6-1.544.6v8.572h7.5c.45 0 .835-.28 1.007-.665 0 0 2.207-6.234 2.207-6.834 0-.6-.47-1.072-1.07-1.072h-3.216c-.6 0-1.07-.535-1.07-1.07 0-.537.835-3.387 1.006-3.944.17-.557-.107-1.157-.664-1.35-.15-.043-.257-.086-.407-.064zM0 6.434v8.572h2.143V6.434H0z\" fill=\"#fff\" fill-rule=\"evenodd\"></path></svg><span class=\"_3c3Px5\">4</span></div></div><div class=\"_2bmov8\"><svg class=\"_2UvOBb\" height=\"11\" viewbox=\"0 0 16 27\" width=\"6\" xmlns=\"http://www.w3.org/2000/svg\"><path class=\"_2aPE6f\" d=\"M16 23.207L6.11 13.161 16 3.093 12.955 0 0 13.161l12.955 13.161z\" fill=\"#fff\"></path></svg><div class=\"_3E8aIl _38dCuf\"><div class=\"_3XCI6U _2b2z-j\"><span>Report Abuse</span></div></div></div></div></div><a class=\"nC1FHF\" href=\"#\">Read other answers</a></div></div><div class=\"_1RWRBu _36IZKv\"><div><div class=\"_1xR0kG _3cziW5\"><span class=\"_3PSmm0\">Q:</span><span>which is best samsung j7 pro  or lenevo p2?</span></div><div><div class=\"_2yeNfb\"><span class=\"_3PSmm0\">A:</span><span>Lenovo P2 is the best</span></div><div class=\"_1OuUqT\"><div class=\"_1nBIs6\"><div class=\"qLyyvN\"><span class=\"_2GEIK5\">Anonymous</span></div><span class=\"OE2Dzi\"><svg class=\"_3V5JvW\" height=\"14\" viewbox=\"0 0 12 12\" width=\"14\" xmlns=\"http://www.w3.org/2000/svg\"><g><circle cx=\"6\" cy=\"6\" fill=\"#878787\" r=\"6\"></circle><path d=\"M3 6l2 2 4-4\" fill=\"#878787\" stroke=\"#FFF\" stroke-width=\"1.5\"></path></g></svg>Certified Buyer</span></div><div class=\"_1O5m0R\"><div class=\"_1LmwT9 _1EEi-k\"><svg class=\"skCrcq\" height=\"15\" width=\"20\" xmlns=\"http://www.w3.org/2000/svg\"><path class=\"_1LIt4y\" d=\"M9.58.006c-.41.043-.794.32-1.01.728-.277.557-2.334 4.693-2.74 5.1-.41.407-.944.6-1.544.6v8.572h7.5c.45 0 .835-.28 1.007-.665 0 0 2.207-6.234 2.207-6.834 0-.6-.47-1.072-1.07-1.072h-3.216c-.6 0-1.07-.535-1.07-1.07 0-.537.835-3.387 1.006-3.944.17-.557-.107-1.157-.664-1.35-.15-.043-.257-.086-.407-.064zM0 6.434v8.572h2.143V6.434H0z\" fill=\"#fff\" fill-rule=\"evenodd\"></path></svg><span class=\"_3c3Px5\">9</span></div><div class=\"_1LmwT9 pkR4jH _1EEi-k\"><svg class=\"skCrcq pkR4jH\" height=\"15\" width=\"20\" xmlns=\"http://www.w3.org/2000/svg\"><path class=\"_1LIt4y\" d=\"M9.58.006c-.41.043-.794.32-1.01.728-.277.557-2.334 4.693-2.74 5.1-.41.407-.944.6-1.544.6v8.572h7.5c.45 0 .835-.28 1.007-.665 0 0 2.207-6.234 2.207-6.834 0-.6-.47-1.072-1.07-1.072h-3.216c-.6 0-1.07-.535-1.07-1.07 0-.537.835-3.387 1.006-3.944.17-.557-.107-1.157-.664-1.35-.15-.043-.257-.086-.407-.064zM0 6.434v8.572h2.143V6.434H0z\" fill=\"#fff\" fill-rule=\"evenodd\"></path></svg><span class=\"_3c3Px5\">1</span></div></div><div class=\"_2bmov8\"><svg class=\"_2UvOBb\" height=\"11\" viewbox=\"0 0 16 27\" width=\"6\" xmlns=\"http://www.w3.org/2000/svg\"><path class=\"_2aPE6f\" d=\"M16 23.207L6.11 13.161 16 3.093 12.955 0 0 13.161l12.955 13.161z\" fill=\"#fff\"></path></svg><div class=\"_3E8aIl _38dCuf\"><div class=\"_3XCI6U _2b2z-j\"><span>Report Abuse</span></div></div></div></div></div></div></div><div class=\"_1RWRBu _36IZKv\"><div><div class=\"_1xR0kG _3cziW5\"><span class=\"_3PSmm0\">Q:</span><span>Does it heat more?</span></div><div><div class=\"_2yeNfb\"><span class=\"_3PSmm0\">A:</span><span>Not at all. SD 625 is one of the most stable chipsets out there, no heating whatsoever.</span></div><div class=\"_1OuUqT\"><div class=\"_1nBIs6\"><div class=\"qLyyvN\"><span class=\"_2GEIK5\">Chandan Swarup</span></div><span class=\"OE2Dzi\"><svg class=\"_3V5JvW\" height=\"14\" viewbox=\"0 0 12 12\" width=\"14\" xmlns=\"http://www.w3.org/2000/svg\"><g><circle cx=\"6\" cy=\"6\" fill=\"#878787\" r=\"6\"></circle><path d=\"M3 6l2 2 4-4\" fill=\"#878787\" stroke=\"#FFF\" stroke-width=\"1.5\"></path></g></svg>Certified Buyer</span></div><div class=\"_1O5m0R\"><div class=\"_1LmwT9 _1EEi-k\"><svg class=\"skCrcq\" height=\"15\" width=\"20\" xmlns=\"http://www.w3.org/2000/svg\"><path class=\"_1LIt4y\" d=\"M9.58.006c-.41.043-.794.32-1.01.728-.277.557-2.334 4.693-2.74 5.1-.41.407-.944.6-1.544.6v8.572h7.5c.45 0 .835-.28 1.007-.665 0 0 2.207-6.234 2.207-6.834 0-.6-.47-1.072-1.07-1.072h-3.216c-.6 0-1.07-.535-1.07-1.07 0-.537.835-3.387 1.006-3.944.17-.557-.107-1.157-.664-1.35-.15-.043-.257-.086-.407-.064zM0 6.434v8.572h2.143V6.434H0z\" fill=\"#fff\" fill-rule=\"evenodd\"></path></svg><span class=\"_3c3Px5\">10</span></div><div class=\"_1LmwT9 pkR4jH _1EEi-k\"><svg class=\"skCrcq pkR4jH\" height=\"15\" width=\"20\" xmlns=\"http://www.w3.org/2000/svg\"><path class=\"_1LIt4y\" d=\"M9.58.006c-.41.043-.794.32-1.01.728-.277.557-2.334 4.693-2.74 5.1-.41.407-.944.6-1.544.6v8.572h7.5c.45 0 .835-.28 1.007-.665 0 0 2.207-6.234 2.207-6.834 0-.6-.47-1.072-1.07-1.072h-3.216c-.6 0-1.07-.535-1.07-1.07 0-.537.835-3.387 1.006-3.944.17-.557-.107-1.157-.664-1.35-.15-.043-.257-.086-.407-.064zM0 6.434v8.572h2.143V6.434H0z\" fill=\"#fff\" fill-rule=\"evenodd\"></path></svg><span class=\"_3c3Px5\">1</span></div></div><div class=\"_2bmov8\"><svg class=\"_2UvOBb\" height=\"11\" viewbox=\"0 0 16 27\" width=\"6\" xmlns=\"http://www.w3.org/2000/svg\"><path class=\"_2aPE6f\" d=\"M16 23.207L6.11 13.161 16 3.093 12.955 0 0 13.161l12.955 13.161z\" fill=\"#fff\"></path></svg><div class=\"_3E8aIl _38dCuf\"><div class=\"_3XCI6U _2b2z-j\"><span>Report Abuse</span></div></div></div></div></div></div></div><div class=\"_1RWRBu _36IZKv\"><div><div class=\"_1xR0kG _3cziW5\"><span class=\"_3PSmm0\">Q:</span><span>is this phone have a water proof</span></div><div><div class=\"_2yeNfb\"><span class=\"_3PSmm0\">A:</span><span>No</span></div><div class=\"_1OuUqT\"><div class=\"_1nBIs6\"><div class=\"qLyyvN\"><span class=\"_2GEIK5\">Murtaza Piar</span></div><span class=\"OE2Dzi\"><svg class=\"_3V5JvW\" height=\"14\" viewbox=\"0 0 12 12\" width=\"14\" xmlns=\"http://www.w3.org/2000/svg\"><g><circle cx=\"6\" cy=\"6\" fill=\"#878787\" r=\"6\"></circle><path d=\"M3 6l2 2 4-4\" fill=\"#878787\" stroke=\"#FFF\" stroke-width=\"1.5\"></path></g></svg>Certified Buyer</span></div><div class=\"_1O5m0R\"><div class=\"_1LmwT9 _1EEi-k\"><svg class=\"skCrcq\" height=\"15\" width=\"20\" xmlns=\"http://www.w3.org/2000/svg\"><path class=\"_1LIt4y\" d=\"M9.58.006c-.41.043-.794.32-1.01.728-.277.557-2.334 4.693-2.74 5.1-.41.407-.944.6-1.544.6v8.572h7.5c.45 0 .835-.28 1.007-.665 0 0 2.207-6.234 2.207-6.834 0-.6-.47-1.072-1.07-1.072h-3.216c-.6 0-1.07-.535-1.07-1.07 0-.537.835-3.387 1.006-3.944.17-.557-.107-1.157-.664-1.35-.15-.043-.257-.086-.407-.064zM0 6.434v8.572h2.143V6.434H0z\" fill=\"#fff\" fill-rule=\"evenodd\"></path></svg><span class=\"_3c3Px5\">25</span></div><div class=\"_1LmwT9 pkR4jH _1EEi-k\"><svg class=\"skCrcq pkR4jH\" height=\"15\" width=\"20\" xmlns=\"http://www.w3.org/2000/svg\"><path class=\"_1LIt4y\" d=\"M9.58.006c-.41.043-.794.32-1.01.728-.277.557-2.334 4.693-2.74 5.1-.41.407-.944.6-1.544.6v8.572h7.5c.45 0 .835-.28 1.007-.665 0 0 2.207-6.234 2.207-6.834 0-.6-.47-1.072-1.07-1.072h-3.216c-.6 0-1.07-.535-1.07-1.07 0-.537.835-3.387 1.006-3.944.17-.557-.107-1.157-.664-1.35-.15-.043-.257-.086-.407-.064zM0 6.434v8.572h2.143V6.434H0z\" fill=\"#fff\" fill-rule=\"evenodd\"></path></svg><span class=\"_3c3Px5\">9</span></div></div><div class=\"_2bmov8\"><svg class=\"_2UvOBb\" height=\"11\" viewbox=\"0 0 16 27\" width=\"6\" xmlns=\"http://www.w3.org/2000/svg\"><path class=\"_2aPE6f\" d=\"M16 23.207L6.11 13.161 16 3.093 12.955 0 0 13.161l12.955 13.161z\" fill=\"#fff\"></path></svg><div class=\"_3E8aIl _38dCuf\"><div class=\"_3XCI6U _2b2z-j\"><span>Report Abuse</span></div></div></div></div></div></div></div><div class=\"_1RWRBu _36IZKv\"><div><div class=\"_1xR0kG _3cziW5\"><span class=\"_3PSmm0\">Q:</span><span>Is sensor available on this phone ?</span></div><div><div class=\"_2yeNfb\"><span class=\"_3PSmm0\">A:</span><span>yes</span></div><div class=\"_1OuUqT\"><div class=\"_1nBIs6\"><div class=\"qLyyvN\"><span class=\"_2GEIK5\">Anonymous</span></div><span class=\"OE2Dzi\"><svg class=\"_3V5JvW\" height=\"14\" viewbox=\"0 0 12 12\" width=\"14\" xmlns=\"http://www.w3.org/2000/svg\"><g><circle cx=\"6\" cy=\"6\" fill=\"#878787\" r=\"6\"></circle><path d=\"M3 6l2 2 4-4\" fill=\"#878787\" stroke=\"#FFF\" stroke-width=\"1.5\"></path></g></svg>Certified Buyer</span></div><div class=\"_1O5m0R\"><div class=\"_1LmwT9 _1EEi-k\"><svg class=\"skCrcq\" height=\"15\" width=\"20\" xmlns=\"http://www.w3.org/2000/svg\"><path class=\"_1LIt4y\" d=\"M9.58.006c-.41.043-.794.32-1.01.728-.277.557-2.334 4.693-2.74 5.1-.41.407-.944.6-1.544.6v8.572h7.5c.45 0 .835-.28 1.007-.665 0 0 2.207-6.234 2.207-6.834 0-.6-.47-1.072-1.07-1.072h-3.216c-.6 0-1.07-.535-1.07-1.07 0-.537.835-3.387 1.006-3.944.17-.557-.107-1.157-.664-1.35-.15-.043-.257-.086-.407-.064zM0 6.434v8.572h2.143V6.434H0z\" fill=\"#fff\" fill-rule=\"evenodd\"></path></svg><span class=\"_3c3Px5\">7</span></div><div class=\"_1LmwT9 pkR4jH _1EEi-k\"><svg class=\"skCrcq pkR4jH\" height=\"15\" width=\"20\" xmlns=\"http://www.w3.org/2000/svg\"><path class=\"_1LIt4y\" d=\"M9.58.006c-.41.043-.794.32-1.01.728-.277.557-2.334 4.693-2.74 5.1-.41.407-.944.6-1.544.6v8.572h7.5c.45 0 .835-.28 1.007-.665 0 0 2.207-6.234 2.207-6.834 0-.6-.47-1.072-1.07-1.072h-3.216c-.6 0-1.07-.535-1.07-1.07 0-.537.835-3.387 1.006-3.944.17-.557-.107-1.157-.664-1.35-.15-.043-.257-.086-.407-.064zM0 6.434v8.572h2.143V6.434H0z\" fill=\"#fff\" fill-rule=\"evenodd\"></path></svg><span class=\"_3c3Px5\">2</span></div></div><div class=\"_2bmov8\"><svg class=\"_2UvOBb\" height=\"11\" viewbox=\"0 0 16 27\" width=\"6\" xmlns=\"http://www.w3.org/2000/svg\"><path class=\"_2aPE6f\" d=\"M16 23.207L6.11 13.161 16 3.093 12.955 0 0 13.161l12.955 13.161z\" fill=\"#fff\"></path></svg><div class=\"_3E8aIl _38dCuf\"><div class=\"_3XCI6U _2b2z-j\"><span>Report Abuse</span></div></div></div></div></div><a class=\"nC1FHF\" href=\"#\">Read other answers</a></div></div><div class=\"_1RWRBu _36IZKv\"><div><div class=\"_1xR0kG _3cziW5\"><span class=\"_3PSmm0\">Q:</span><span>how is camera</span></div><div><div class=\"_2yeNfb\"><span class=\"_3PSmm0\">A:</span><span>Camera is average but shutter speed is too good, but it will not disappoint you.</span></div><div class=\"_1OuUqT\"><div class=\"_1nBIs6\"><div class=\"qLyyvN\"><span class=\"_2GEIK5\">Avengers Ride</span></div><span class=\"OE2Dzi\"><svg class=\"_3V5JvW\" height=\"14\" viewbox=\"0 0 12 12\" width=\"14\" xmlns=\"http://www.w3.org/2000/svg\"><g><circle cx=\"6\" cy=\"6\" fill=\"#878787\" r=\"6\"></circle><path d=\"M3 6l2 2 4-4\" fill=\"#878787\" stroke=\"#FFF\" stroke-width=\"1.5\"></path></g></svg>Certified Buyer</span></div><div class=\"_1O5m0R\"><div class=\"_1LmwT9 _1EEi-k\"><svg class=\"skCrcq\" height=\"15\" width=\"20\" xmlns=\"http://www.w3.org/2000/svg\"><path class=\"_1LIt4y\" d=\"M9.58.006c-.41.043-.794.32-1.01.728-.277.557-2.334 4.693-2.74 5.1-.41.407-.944.6-1.544.6v8.572h7.5c.45 0 .835-.28 1.007-.665 0 0 2.207-6.234 2.207-6.834 0-.6-.47-1.072-1.07-1.072h-3.216c-.6 0-1.07-.535-1.07-1.07 0-.537.835-3.387 1.006-3.944.17-.557-.107-1.157-.664-1.35-.15-.043-.257-.086-.407-.064zM0 6.434v8.572h2.143V6.434H0z\" fill=\"#fff\" fill-rule=\"evenodd\"></path></svg><span class=\"_3c3Px5\">7</span></div><div class=\"_1LmwT9 pkR4jH _1EEi-k\"><svg class=\"skCrcq pkR4jH\" height=\"15\" width=\"20\" xmlns=\"http://www.w3.org/2000/svg\"><path class=\"_1LIt4y\" d=\"M9.58.006c-.41.043-.794.32-1.01.728-.277.557-2.334 4.693-2.74 5.1-.41.407-.944.6-1.544.6v8.572h7.5c.45 0 .835-.28 1.007-.665 0 0 2.207-6.234 2.207-6.834 0-.6-.47-1.072-1.07-1.072h-3.216c-.6 0-1.07-.535-1.07-1.07 0-.537.835-3.387 1.006-3.944.17-.557-.107-1.157-.664-1.35-.15-.043-.257-.086-.407-.064zM0 6.434v8.572h2.143V6.434H0z\" fill=\"#fff\" fill-rule=\"evenodd\"></path></svg><span class=\"_3c3Px5\">2</span></div></div><div class=\"_2bmov8\"><svg class=\"_2UvOBb\" height=\"11\" viewbox=\"0 0 16 27\" width=\"6\" xmlns=\"http://www.w3.org/2000/svg\"><path class=\"_2aPE6f\" d=\"M16 23.207L6.11 13.161 16 3.093 12.955 0 0 13.161l12.955 13.161z\" fill=\"#fff\"></path></svg><div class=\"_3E8aIl _38dCuf\"><div class=\"_3XCI6U _2b2z-j\"><span>Report Abuse</span></div></div></div></div></div></div></div><div class=\"_1RWRBu _36IZKv\"><div><div class=\"_1xR0kG _3cziW5\"><span class=\"_3PSmm0\">Q:</span><span>Does Lenovo P2 (4GB) Can handle High end Games at Max Settings without and Lags???</span></div><div><div class=\"_2yeNfb\"><span class=\"_3PSmm0\">A:</span><span>yeah. without a sweat.</span></div><div class=\"_1OuUqT\"><div class=\"_1nBIs6\"><div class=\"qLyyvN\"><span class=\"_2GEIK5\">Mohammed Faizan</span></div><span class=\"OE2Dzi\"><svg class=\"_3V5JvW\" height=\"14\" viewbox=\"0 0 12 12\" width=\"14\" xmlns=\"http://www.w3.org/2000/svg\"><g><circle cx=\"6\" cy=\"6\" fill=\"#878787\" r=\"6\"></circle><path d=\"M3 6l2 2 4-4\" fill=\"#878787\" stroke=\"#FFF\" stroke-width=\"1.5\"></path></g></svg>Certified Buyer</span></div><div class=\"_1O5m0R\"><div class=\"_1LmwT9 _1EEi-k\"><svg class=\"skCrcq\" height=\"15\" width=\"20\" xmlns=\"http://www.w3.org/2000/svg\"><path class=\"_1LIt4y\" d=\"M9.58.006c-.41.043-.794.32-1.01.728-.277.557-2.334 4.693-2.74 5.1-.41.407-.944.6-1.544.6v8.572h7.5c.45 0 .835-.28 1.007-.665 0 0 2.207-6.234 2.207-6.834 0-.6-.47-1.072-1.07-1.072h-3.216c-.6 0-1.07-.535-1.07-1.07 0-.537.835-3.387 1.006-3.944.17-.557-.107-1.157-.664-1.35-.15-.043-.257-.086-.407-.064zM0 6.434v8.572h2.143V6.434H0z\" fill=\"#fff\" fill-rule=\"evenodd\"></path></svg><span class=\"_3c3Px5\">3</span></div><div class=\"_1LmwT9 pkR4jH _1EEi-k\"><svg class=\"skCrcq pkR4jH\" height=\"15\" width=\"20\" xmlns=\"http://www.w3.org/2000/svg\"><path class=\"_1LIt4y\" d=\"M9.58.006c-.41.043-.794.32-1.01.728-.277.557-2.334 4.693-2.74 5.1-.41.407-.944.6-1.544.6v8.572h7.5c.45 0 .835-.28 1.007-.665 0 0 2.207-6.234 2.207-6.834 0-.6-.47-1.072-1.07-1.072h-3.216c-.6 0-1.07-.535-1.07-1.07 0-.537.835-3.387 1.006-3.944.17-.557-.107-1.157-.664-1.35-.15-.043-.257-.086-.407-.064zM0 6.434v8.572h2.143V6.434H0z\" fill=\"#fff\" fill-rule=\"evenodd\"></path></svg><span class=\"_3c3Px5\">0</span></div></div><div class=\"_2bmov8\"><svg class=\"_2UvOBb\" height=\"11\" viewbox=\"0 0 16 27\" width=\"6\" xmlns=\"http://www.w3.org/2000/svg\"><path class=\"_2aPE6f\" d=\"M16 23.207L6.11 13.161 16 3.093 12.955 0 0 13.161l12.955 13.161z\" fill=\"#fff\"></path></svg><div class=\"_3E8aIl _38dCuf\"><div class=\"_3XCI6U _2b2z-j\"><span>Report Abuse</span></div></div></div></div></div><a class=\"nC1FHF\" href=\"#\">Read other answers</a></div></div><div class=\"_1RWRBu _36IZKv\"><div><div class=\"_1xR0kG _3cziW5\"><span class=\"_3PSmm0\">Q:</span><span>it have gorilla glass?</span></div><div><div class=\"_2yeNfb\"><span class=\"_3PSmm0\">A:</span><span>yes. gorilla glass 3.</span></div><div class=\"_1OuUqT\"><div class=\"_1nBIs6\"><div class=\"qLyyvN\"><span class=\"_2GEIK5\">Mohammed Faizan</span></div><span class=\"OE2Dzi\"><svg class=\"_3V5JvW\" height=\"14\" viewbox=\"0 0 12 12\" width=\"14\" xmlns=\"http://www.w3.org/2000/svg\"><g><circle cx=\"6\" cy=\"6\" fill=\"#878787\" r=\"6\"></circle><path d=\"M3 6l2 2 4-4\" fill=\"#878787\" stroke=\"#FFF\" stroke-width=\"1.5\"></path></g></svg>Certified Buyer</span></div><div class=\"_1O5m0R\"><div class=\"_1LmwT9 _1EEi-k\"><svg class=\"skCrcq\" height=\"15\" width=\"20\" xmlns=\"http://www.w3.org/2000/svg\"><path class=\"_1LIt4y\" d=\"M9.58.006c-.41.043-.794.32-1.01.728-.277.557-2.334 4.693-2.74 5.1-.41.407-.944.6-1.544.6v8.572h7.5c.45 0 .835-.28 1.007-.665 0 0 2.207-6.234 2.207-6.834 0-.6-.47-1.072-1.07-1.072h-3.216c-.6 0-1.07-.535-1.07-1.07 0-.537.835-3.387 1.006-3.944.17-.557-.107-1.157-.664-1.35-.15-.043-.257-.086-.407-.064zM0 6.434v8.572h2.143V6.434H0z\" fill=\"#fff\" fill-rule=\"evenodd\"></path></svg><span class=\"_3c3Px5\">6</span></div><div class=\"_1LmwT9 pkR4jH _1EEi-k\"><svg class=\"skCrcq pkR4jH\" height=\"15\" width=\"20\" xmlns=\"http://www.w3.org/2000/svg\"><path class=\"_1LIt4y\" d=\"M9.58.006c-.41.043-.794.32-1.01.728-.277.557-2.334 4.693-2.74 5.1-.41.407-.944.6-1.544.6v8.572h7.5c.45 0 .835-.28 1.007-.665 0 0 2.207-6.234 2.207-6.834 0-.6-.47-1.072-1.07-1.072h-3.216c-.6 0-1.07-.535-1.07-1.07 0-.537.835-3.387 1.006-3.944.17-.557-.107-1.157-.664-1.35-.15-.043-.257-.086-.407-.064zM0 6.434v8.572h2.143V6.434H0z\" fill=\"#fff\" fill-rule=\"evenodd\"></path></svg><span class=\"_3c3Px5\">1</span></div></div><div class=\"_2bmov8\"><svg class=\"_2UvOBb\" height=\"11\" viewbox=\"0 0 16 27\" width=\"6\" xmlns=\"http://www.w3.org/2000/svg\"><path class=\"_2aPE6f\" d=\"M16 23.207L6.11 13.161 16 3.093 12.955 0 0 13.161l12.955 13.161z\" fill=\"#fff\"></path></svg><div class=\"_3E8aIl _38dCuf\"><div class=\"_3XCI6U _2b2z-j\"><span>Report Abuse</span></div></div></div></div></div></div></div></div><div class=\"_1bh0RH\"><a class=\"_2KpZ6l dVBe_p\" href=\"/lenovo-p2-grey-graphite-grey-32-gb/product-questions/itmeq5ygebzgqgfb?pid=MOBEZFHHVD8KXE7G\">All questions</a><span class=\"q_elos\">+</span></div></div></div></div><div class=\"_1AtVbE col-12-12\"><div class=\"_124baV\"><div class=\"_1RVm3P\">Safe and Secure Payments.<!-- -->Easy returns.<!-- -->100% Authentic products.</div></div></div></div></div></div></div></div><div class=\"_1AtVbE col-12-12\"><div><div class=\"_3E8aIl CgGDXG\"><div class=\"Bij_nt\">You might be interested in</div><div class=\"_2t5MbR\"><div class=\"_3ZYowz _2CfYpZ\"><div class=\"mYI3GX\"><div class=\"_2hKRMr _3NvaRF _2CfYpZ\" style=\"width:1610px\"><div class=\"_37K3-p\" style=\"-webkit-transform:translateX(0px);-moz-transform:translateX(0px);-o-transform:translateX(0px);-ms-transform:translateX(0px);transform:translateX(0px)\"><div class=\"_3YgSsQ\" style=\"width:400px\"><div class=\"_3sHcdg\"><div class=\"_3EWo-Y row\"><div class=\"_2zKHNp\"><div class=\"_3ywSr_\" style=\"padding-top:120.00%\"><div class=\"_312yBx SFzpgZ\" style=\"padding-top:120.00%\"><img alt=\"\" class=\"_2r_T1I\" src=\"https://rukminim1.flixcart.com/image/400/400/ktq4l8w0/mobile-skin/s/a/o/kiyazappleairpods-promobileskin-multi-colour-yes-kiyaz-original-imag6zt8tkfe5pzj.jpeg?q=90\"/></div></div></div><div class=\"_3rhMpp\"><div class=\"_38V46g\">Mobile Skin Stickers</div><div class=\"_2D27nh\">Min. 50% Off</div><a class=\"_2KpZ6l tE1cUL\" href=\"https://www.flipkart.com/all/~cs-874170351a097202181af2f1869615cd/pr?sid=tyy,4mr,mr4,00w&amp;marketplace=FLIPKART&amp;fm=productRecommendation%2FAugmentSelling&amp;iid=R%3Avc%3Bpt%3App%3Buid%3A6e4a0ddc-fd63-11ed-9098-13bfcfc52fc5%3B.cid%3AS_F_N_tyy_4mr_mr4_00w__d_50-100__NONE_ALL%3Bnid%3Atyy_4mr_mr4_00w_%3Bet%3AS%3Beid%3Atyy_4mr_mr4_00w_%3Bmp%3AF%3Bct%3Ad%3B&amp;ppt=None&amp;ppn=None&amp;ssid=k2vdopt22o0000001685283901329&amp;otracker=pp_reco_You%2Bmight%2Bbe%2Binterested%2Bin_1_34.dealCard.OMU_cid%3AS_F_N_tyy_4mr_mr4_00w__d_50-100__NONE_ALL%3Bnid%3Atyy_4mr_mr4_00w_%3Bet%3AS%3Beid%3Atyy_4mr_mr4_00w_%3Bmp%3AF%3Bct%3Ad%3B&amp;otracker1=pp_reco_PINNED_productRecommendation%2FAugmentSelling_You%2Bmight%2Bbe%2Binterested%2Bin_BANNER_HORIZONTAL_dealCard_cc_1_NA_view-all&amp;cid=cid%3AS_F_N_tyy_4mr_mr4_00w__d_50-100__NONE_ALL%3Bnid%3Atyy_4mr_mr4_00w_%3Bet%3AS%3Beid%3Atyy_4mr_mr4_00w_%3Bmp%3AF%3Bct%3Ad%3B\"><span class=\"_2Ku_zz\">Shop Now</span></a></div></div></div></div><div class=\"_3YgSsQ\" style=\"width:400px\"><div class=\"_3sHcdg\"><div class=\"_3EWo-Y row\"><div class=\"_2zKHNp\"><div class=\"_3ywSr_\" style=\"padding-top:120.00%\"><div class=\"_312yBx SFzpgZ\" style=\"padding-top:120.00%\"><img alt=\"\" class=\"_2r_T1I\" src=\"https://rukminim1.flixcart.com/image/400/400/kfcv6vk0/smart-glass/5/u/6/bs-01-kuiper-original-imafvu8sfkpgwgye.jpeg?q=90\"/></div></div></div><div class=\"_3rhMpp\"><div class=\"_38V46g\">Smart Glasses</div><div class=\"_2D27nh\">Min. 40% Off</div><a class=\"_2KpZ6l tE1cUL\" href=\"https://www.flipkart.com/all/~cs-881140bd7deda385cbf2d6bd5f7ba69a/pr?sid=ajy,tcy&amp;marketplace=FLIPKART&amp;fm=productRecommendation%2FAugmentSelling&amp;iid=R%3Avc%3Bpt%3App%3Buid%3A6e4a0ddc-fd63-11ed-9098-13bfcfc52fc5%3B.cid%3AS_F_N_ajy_tcy__d_40-100__NONE_ALL%3Bnid%3Aajy_tcy_%3Bet%3AS%3Beid%3Aajy_tcy_%3Bmp%3AF%3Bct%3Ad%3B&amp;ppt=None&amp;ppn=None&amp;ssid=k2vdopt22o0000001685283901329&amp;otracker=pp_reco_You%2Bmight%2Bbe%2Binterested%2Bin_2_34.dealCard.OMU_cid%3AS_F_N_ajy_tcy__d_40-100__NONE_ALL%3Bnid%3Aajy_tcy_%3Bet%3AS%3Beid%3Aajy_tcy_%3Bmp%3AF%3Bct%3Ad%3B&amp;otracker1=pp_reco_PINNED_productRecommendation%2FAugmentSelling_You%2Bmight%2Bbe%2Binterested%2Bin_BANNER_HORIZONTAL_dealCard_cc_2_NA_view-all&amp;cid=cid%3AS_F_N_ajy_tcy__d_40-100__NONE_ALL%3Bnid%3Aajy_tcy_%3Bet%3AS%3Beid%3Aajy_tcy_%3Bmp%3AF%3Bct%3Ad%3B\"><span class=\"_2Ku_zz\">Shop Now</span></a></div></div></div></div><div class=\"_3YgSsQ\" style=\"width:400px\"><div class=\"_3sHcdg\"><div class=\"_3EWo-Y row\"><div class=\"_2zKHNp\"><div class=\"_3ywSr_\" style=\"padding-top:120.00%\"><div class=\"_312yBx SFzpgZ\" style=\"padding-top:120.00%\"><img alt=\"\" class=\"_2r_T1I\" src=\"https://rukminim1.flixcart.com/image/400/400/xif0q/headphone/4/g/l/m19-earbuds-tws-buds-5-1-earbuds-with-280h-playtime-headphones-original-imaghsaynzjdpaff.jpeg?q=90\"/></div></div></div><div class=\"_3rhMpp\"><div class=\"_38V46g\">Wired Earphones</div><div class=\"_2D27nh\">Min. 50% Off</div><a class=\"_2KpZ6l tE1cUL\" href=\"https://www.flipkart.com/all/~cs-20e41b5119abdfe9b8864a9a23a291a2/pr?sid=0pm,fcn,821,fof&amp;marketplace=FLIPKART&amp;fm=productRecommendation%2FAugmentSelling&amp;iid=R%3Avc%3Bpt%3App%3Buid%3A6e4a0ddc-fd63-11ed-9098-13bfcfc52fc5%3B.cid%3AS_F_N_0pm_fcn_821_fof__d_50-100__NONE_ALL%3Bnid%3A0pm_fcn_821_fof_%3Bet%3AS%3Beid%3A0pm_fcn_821_fof_%3Bmp%3AF%3Bct%3Ad%3B&amp;ppt=None&amp;ppn=None&amp;ssid=k2vdopt22o0000001685283901329&amp;otracker=pp_reco_You%2Bmight%2Bbe%2Binterested%2Bin_3_34.dealCard.OMU_cid%3AS_F_N_0pm_fcn_821_fof__d_50-100__NONE_ALL%3Bnid%3A0pm_fcn_821_fof_%3Bet%3AS%3Beid%3A0pm_fcn_821_fof_%3Bmp%3AF%3Bct%3Ad%3B&amp;otracker1=pp_reco_PINNED_productRecommendation%2FAugmentSelling_You%2Bmight%2Bbe%2Binterested%2Bin_BANNER_HORIZONTAL_dealCard_cc_3_NA_view-all&amp;cid=cid%3AS_F_N_0pm_fcn_821_fof__d_50-100__NONE_ALL%3Bnid%3A0pm_fcn_821_fof_%3Bet%3AS%3Beid%3A0pm_fcn_821_fof_%3Bmp%3AF%3Bct%3Ad%3B\"><span class=\"_2Ku_zz\">Shop Now</span></a></div></div></div></div><div class=\"_3YgSsQ\" style=\"width:400px\"><div class=\"_3sHcdg\"><div class=\"_3EWo-Y row\"><div class=\"_2zKHNp\"><div class=\"_3ywSr_\" style=\"padding-top:120.00%\"><div class=\"_312yBx SFzpgZ\" style=\"padding-top:120.00%\"><img alt=\"\" class=\"_2r_T1I\" src=\"https://rukminim1.flixcart.com/image/400/400/kxaq7ww0/headphone/b/s/x/gaming-headphones-with-adjustable-mic-deep-bass-matlek-original-imag9s5kputhy6uj.jpeg?q=90\"/></div></div></div><div class=\"_3rhMpp\"><div class=\"_38V46g\">Wired Headphones</div><div class=\"_2D27nh\">Min. 50% Off</div><a class=\"_2KpZ6l tE1cUL\" href=\"https://www.flipkart.com/all/~cs-637b209bceec664038d1139b2a910fa7/pr?sid=0pm,fcn,gc3,rph&amp;marketplace=FLIPKART&amp;fm=productRecommendation%2FAugmentSelling&amp;iid=R%3Avc%3Bpt%3App%3Buid%3A6e4a0ddc-fd63-11ed-9098-13bfcfc52fc5%3B.cid%3AS_F_N_0pm_fcn_gc3_rph__d_50-100__NONE_ALL%3Bnid%3A0pm_fcn_gc3_rph_%3Bet%3AS%3Beid%3A0pm_fcn_gc3_rph_%3Bmp%3AF%3Bct%3Ad%3B&amp;ppt=None&amp;ppn=None&amp;ssid=k2vdopt22o0000001685283901329&amp;otracker=pp_reco_You%2Bmight%2Bbe%2Binterested%2Bin_4_34.dealCard.OMU_cid%3AS_F_N_0pm_fcn_gc3_rph__d_50-100__NONE_ALL%3Bnid%3A0pm_fcn_gc3_rph_%3Bet%3AS%3Beid%3A0pm_fcn_gc3_rph_%3Bmp%3AF%3Bct%3Ad%3B&amp;otracker1=pp_reco_PINNED_productRecommendation%2FAugmentSelling_You%2Bmight%2Bbe%2Binterested%2Bin_BANNER_HORIZONTAL_dealCard_cc_4_NA_view-all&amp;cid=cid%3AS_F_N_0pm_fcn_gc3_rph__d_50-100__NONE_ALL%3Bnid%3A0pm_fcn_gc3_rph_%3Bet%3AS%3Beid%3A0pm_fcn_gc3_rph_%3Bmp%3AF%3Bct%3Ad%3B\"><span class=\"_2Ku_zz\">Shop Now</span></a></div></div></div></div></div></div><div class=\"_35l9rN rek5UH _1tKnHb\"><div class=\"_2kgArB _3y7w9p\"><svg class=\"\" height=\"24\" viewbox=\"0 0 16 27\" width=\"14.6\" xmlns=\"http://www.w3.org/2000/svg\"><path class=\"_23HYg_\" d=\"M16 23.207L6.11 13.161 16 3.093 12.955 0 0 13.161l12.955 13.161z\" fill=\"#fff\"></path></svg></div></div><div class=\"_35l9rN _31Mq1b\"><div class=\"_2kgArB _2CP_Bu\"><svg class=\"_1xtBwk\" height=\"24\" viewbox=\"0 0 16 27\" width=\"14.6\" xmlns=\"http://www.w3.org/2000/svg\"><path class=\"_23HYg_\" d=\"M16 23.207L6.11 13.161 16 3.093 12.955 0 0 13.161l12.955 13.161z\" fill=\"#fff\"></path></svg></div></div></div></div></div></div></div></div><div class=\"_39SDPR\"></div></div><footer class=\"_3voSl0\"><div class=\"_3rc_xQ\"><div class=\"row\"><div class=\"col gu12 _8Qljeg\"></div></div><div class=\"row\"><div class=\"col gu12 _3MmGvF\"><div class=\"LfkXVL\"><span>Top Stories</span>:<a class=\"_2XoPFN\" href=\"/brands\">Brand Directory</a></div><div class=\"_1GTrm1\"><span class=\"_2oyLgr\">MOST SEARCHED IN Mobiles &amp; Accessories<!-- -->:</span><a class=\"_3CuAg8\" href=\"/asus-zenfone-2-ze551ml-silver-16-gb/p/itme6cg7avpngtz3?otracker=undefined_footer_footer\">ASUS ZENFONE 2 ZE551ML</a><a class=\"_3CuAg8\" href=\"/blackberry-9720-black-512-mb/p/itme739amtcqv6gz?otracker=undefined_footer_footer\">BLACKBERRY 9720</a><a class=\"_3CuAg8\" href=\"/computers/audio-players/ipods/apple~brand/pr?sid=6bo,ord,rrr&amp;otracker=undefined_footer_footer\">IPOD ONLINE</a><a class=\"_3CuAg8\" href=\"/creative-via-ep-630-wired-headphones/p/itmed2rnha4dgejg?otracker=undefined_footer_footer\">CREATIVE EP-630</a><a class=\"_3CuAg8\" href=\"/flipkart-smartbuy-2a-fast-charger-charge-sync-usb-cable/p/itmez6xfnwpjfvpx?otracker=undefined_footer_footer\">FAST CHARGING</a><a class=\"_3CuAg8\" href=\"/gionee-ctrl-v4s-white-8-gb/p/itmef87gzahx3xhb?otracker=undefined_footer_footer\">GIONEE V4S</a><a class=\"_3CuAg8\" href=\"/htc-one-m8-gunmetal-grey-16-gb/p/itmeuyd7g5w2pgvh?otracker=undefined_footer_footer\">HTC ONE M8 PRICE</a><a class=\"_3CuAg8\" href=\"/lenovo-a7-30-tablet/p/itmdxzmhxfyhhxyy?otracker=undefined_footer_footer\">LENOVO A7</a><a class=\"_3CuAg8\" href=\"/mi-4i-grey-16-gb/p/itme8cuyyqdwek9m?otracker=undefined_footer_footer\">XIAOMI 4I</a><a class=\"_3CuAg8\" href=\"/micromax-canvas-fire-2-black-silver-4-gb/p/itme7t2jgjn3nz5h?otracker=undefined_footer_footer\">MICROMAX CANVAS FIRE 2 PRICE</a><a class=\"_3CuAg8\" href=\"/micromax-canvas-nitro-2-grey-silver-16-gb/p/itmeuyd7n4azspfa?otracker=undefined_footer_footer\">MICROMAX NITRO 2</a><a class=\"_3CuAg8\" href=\"/mobile-accessories/anti-radiation-stickers-chips/pr?sid=tyy,4mr,m12&amp;otracker=undefined_footer_footer\">ANTI RADIATION CHIP</a><a class=\"_3CuAg8\" href=\"/mobile-accessories/memory-cards-readers/memory-cards/pr?sid=tyy,4mr,zzf,7y7&amp;otracker=undefined_footer_footer\">32 GB MEMORY CARD</a><a class=\"_3CuAg8\" href=\"/mobiles/blackberry~brand/pr?sid=tyy,4io&amp;otracker=undefined_footer_footer\">BLACKBERRY MOBILES PRICE</a><a class=\"_3CuAg8\" href=\"/mobiles/mi~brand/pr?sid=tyy,4io&amp;otracker=undefined_footer_footer\">MI NEW LAUNCH</a><a class=\"_3CuAg8\" href=\"/mobiles/nokia~brand/pr?sid=tyy,4io&amp;otracker=undefined_footer_footer\">NOKIA PHONES BELOW 3000</a><a class=\"_3CuAg8\" href=\"/moto-g-2nd-generation-black-16-gb/p/itmeuyd97szyyafh?otracker=undefined_footer_footer\">MOTO G2 SPECIFICATION</a><a class=\"_3CuAg8\" href=\"/nokia-lumia-525-black-8-gb/p/itmeuyd99me6344k?pid=MOBDSAVHSYM4R7TA&amp;otracker=undefined_footer_footer\">LUMIA 525</a><a class=\"_3CuAg8\" href=\"/redmi-2-prime-white-16-gb/p/itmeuydapxdkcy2u?otracker=undefined_footer_footer\">REDMI PRIME 2</a><a class=\"_3CuAg8\" href=\"/samsung-galaxy-note-3-neo-white-16-gb/p/itme5vuzvgwzv9wa?otracker=undefined_footer_footer\">SAMSUNG NOTE 3 NEO SPECIFICATION</a><a class=\"_3CuAg8\" href=\"/samsung-galaxy-s-duos-2-black-4-gb/p/itme5z9jnfngs6dz?otracker=undefined_footer_footer\">SAMSUNG DUOS 2 PRICE</a><a class=\"_3CuAg8\" href=\"/samsung-galaxy-tab-4-t231-tablet/p/itme93hbzzxu8wgg?otracker=undefined_footer_footer\">TAB 4</a><a class=\"_3CuAg8\" href=\"/sony-xperia-e1-white-4-gb/p/itmeuyd7wkhtxhf4?otracker=undefined_footer_footer\">XPERIA E1</a><a class=\"_3CuAg8\" href=\"https://www.flipkart.com/coolpad-rogue-black-silver-4-gb/p/itmen77f8yzb5bgz?otracker=undefined_footer_footer\">COOLPAD ROGUE PRICE</a><a class=\"_3CuAg8\" href=\"https://www.flipkart.com/intex-eco-beats/p/itmejaykxywkuzqt?otracker=undefined_footer_footer\">INTEX ECO BEATS PRICE</a><a class=\"_3CuAg8\" href=\"https://www.flipkart.com/mobiles/micromax~brand/pr?sid=tyy,4io&amp;otracker=undefined_footer_footer\">AMAZON MOBILE PHONES MICROMAX</a><a class=\"_3CuAg8\" href=\"https://www.flipkart.com/mobiles/nokia~brand/pr?sid=tyy,4io&amp;otracker=undefined_footer_footer&amp;otracker=undefined_footer_footer\">NOKIA ANDROID MOBILE</a><a class=\"_3CuAg8\" href=\"https://www.flipkart.com/mobiles/~mobile-phones-under-rs10000/pr?sid=tyy,4io&amp;otracker=undefined_footer_footer\">LATEST PHONES UNDER 10000</a><a class=\"_3CuAg8\" href=\"https://www.flipkart.com/mobiles/~mobile-phones-under-rs15000/pr?sid=tyy,4io&amp;otracker=undefined_footer_footer\">SMARTPHONES UNDER 15000</a><a class=\"_3CuAg8\" href=\"https://www.flipkart.com/samsung-galaxy-e5-black-16-gb/p/itme9waysydzakhv?otracker=undefined_footer_footer\">SAMSUNG E5 PRICE IN INDIA</a></div></div></div><div><div class=\"_2WErco row\"><div class=\"_2Brcj4\"><div class=\"_3-dnWo\">ABOUT</div><a class=\"_1arVWX\" href=\"/helpcentre?otracker=undefined_footer_navlinks\">Contact Us</a><a class=\"_1arVWX\" href=\"/about-us?otracker=undefined_footer_navlinks\">About Us</a><a class=\"_1arVWX\" href=\"https://www.flipkartcareers.com/?otracker=undefined_footer_navlinks\">Careers</a><a class=\"_1arVWX\" href=\"http://stories.flipkart.com/?otracker=undefined_footer_navlinks\">Flipkart Stories</a><a class=\"_1arVWX\" href=\"/s/press?otracker=undefined_footer_navlinks\">Press</a><a class=\"_1arVWX\" href=\"https://www.flipkartwholesale.com/?otracker=undefined_footer_navlinks\" rel=\"noopener noreferrer\" target=\"_blank\">Flipkart Wholesale</a><a class=\"_1arVWX\" href=\"/corporate-information\">Corporate Information</a></div><div class=\"_2Brcj4\"><div class=\"_3-dnWo\">HELP</div><a class=\"_1arVWX\" href=\"/pages/payments\">Payments</a><a class=\"_1arVWX\" href=\"/pages/shipping\">Shipping</a><a class=\"_1arVWX\" href=\"/helpcentre?catalog=55c9c6edb000002e002c1701&amp;view=CATALOG\">Cancellation &amp; Returns</a><a class=\"_1arVWX\" href=\"/helpcentre?catalog=55c9c8e2b0000023002c1702&amp;view=CATALOG\">FAQ</a><a class=\"_1arVWX\" href=\"https://seller.flipkart.com/fiv?otracker=undefined_footer_navlinks\">Report Infringement</a></div><div class=\"_2Brcj4\"><div class=\"_3-dnWo\">CONSUMER POLICY</div><a class=\"_1arVWX\" href=\"/pages/returnpolicy?otracker=undefined_footer_navlinks\">Return Policy</a><a class=\"_1arVWX\" href=\"/pages/terms?otracker=undefined_footer_navlinks\">Terms Of Use</a><a class=\"_1arVWX\" href=\"/pages/paymentsecurity?otracker=undefined_footer_navlinks\">Security</a><a class=\"_1arVWX\" href=\"/pages/privacypolicy?otracker=undefined_footer_navlinks\">Privacy</a><a class=\"_1arVWX\" href=\"/sitemap?otracker=undefined_footer_navlinks\">Sitemap</a><a class=\"_1arVWX\" href=\"/pages/grievance-redressal-mechanism?otracker=undefined_footer_navlinks\">Grievance Redressal</a><a class=\"_1arVWX\" href=\"/pages/ewaste-compliance-tnc?otracker=undefined_footer_navlinks\">EPR Compliance</a></div><div class=\"_2Brcj4\"><div class=\"_3-dnWo\">SOCIAL</div><a class=\"_1arVWX\" href=\"https://www.facebook.com/flipkart\">Facebook</a><a class=\"_1arVWX\" href=\"https://www.twitter.com/flipkart\">Twitter</a><a class=\"_1arVWX\" href=\"https://www.youtube.com/flipkart\">YouTube</a></div><div class=\"_2Brcj4 address\"><div class=\"_3JHi0r\"><div class=\"_3-dnWo\"><span>Mail Us:</span></div><div class=\"_1U1qnR\"><div class=\"_1LJS6T\"><div class=\"_2NKhZn _1U1qnR\"><p>Flipkart Internet Private Limited, </p>\n",
       "<p> Buildings Alyssa, Begonia &amp; </p>\n",
       "<p> Clove Embassy Tech Village, </p>\n",
       "<p> Outer Ring Road, Devarabeesanahalli Village, </p>\n",
       "<p> Bengaluru, 560103, </p>\n",
       "<p> Karnataka, India</p>\n",
       "</div></div></div></div></div><div class=\"_2Brcj4 address\"><div class=\"_3IT4e6\"><div class=\"_3-dnWo\"><span>Registered Office Address:</span></div><div class=\"_1U1qnR\"><div class=\"_1LJS6T\"><div class=\"_2NKhZn _1U1qnR\"><p>Flipkart Internet Private Limited, </p>\n",
       "<p> Buildings Alyssa, Begonia &amp; </p>\n",
       "<p> Clove Embassy Tech Village, </p>\n",
       "<p> Outer Ring Road, Devarabeesanahalli Village, </p>\n",
       "<p> Bengaluru, 560103, </p>\n",
       "<p> Karnataka, India </p>\n",
       "<p> CIN : U51109KA2012PTC066107 </p>\n",
       "<p> Telephone: <a href=\"tel:044-45614700\">044-45614700</a></p>\n",
       "</div></div></div></div></div></div><div><div class=\"_2uz0vJ\"><div><img src=\"data:image/svg+xml;base64,PHN2ZyB4bWxucz0iaHR0cDovL3d3dy53My5vcmcvMjAwMC9zdmciIHdpZHRoPSIxNiIgaGVpZ2h0PSIxNSIgdmlld0JveD0iMCAwIDE2IDE1Ij4KICAgIDxkZWZzPgogICAgICAgIDxsaW5lYXJHcmFkaWVudCBpZD0iYSIgeDE9IjAlIiB4Mj0iODYuODc2JSIgeTE9IjAlIiB5Mj0iODAuMjAyJSI+CiAgICAgICAgICAgIDxzdG9wIG9mZnNldD0iMCUiIHN0b3AtY29sb3I9IiNGRkQ4MDAiLz4KICAgICAgICAgICAgPHN0b3Agb2Zmc2V0PSIxMDAlIiBzdG9wLWNvbG9yPSIjRkZBRjAwIi8+CiAgICAgICAgPC9saW5lYXJHcmFkaWVudD4KICAgIDwvZGVmcz4KICAgIDxnIGZpbGw9Im5vbmUiIGZpbGwtcnVsZT0iZXZlbm9kZCI+CiAgICAgICAgPHBhdGggZD0iTS0yLTJoMjB2MjBILTJ6Ii8+CiAgICAgICAgPHBhdGggZmlsbD0idXJsKCNhKSIgZmlsbC1ydWxlPSJub256ZXJvIiBkPSJNMTUuOTMgNS42MTRoLTIuOTQ4VjQuMTRjMC0uODE4LS42NTUtMS40NzMtMS40NzMtMS40NzNIOC41NmMtLjgxNyAwLTEuNDczLjY1NS0xLjQ3MyAxLjQ3M3YxLjQ3NEg0LjE0Yy0uODE4IDAtMS40NjYuNjU2LTEuNDY2IDEuNDc0bC0uMDA3IDguMTA1YzAgLjgxOC42NTUgMS40NzQgMS40NzMgMS40NzRoMTEuNzljLjgxOCAwIDEuNDc0LS42NTYgMS40NzQtMS40NzRWNy4wODhjMC0uODE4LS42NTYtMS40NzQtMS40NzQtMS40NzR6bS00LjQyMSAwSDguNTZWNC4xNGgyLjk0OHYxLjQ3NHoiIHRyYW5zZm9ybT0idHJhbnNsYXRlKC0yIC0yKSIvPgogICAgPC9nPgo8L3N2Zz4K\"/><a href=\"https://seller.flipkart.com/?utm_source=fkwebsite&amp;utm_medium=websitedirect\"><span class=\"hDTmm5\">Become a Seller</span></a></div><div><img src=\"data:image/svg+xml;base64,PHN2ZyB4bWxucz0iaHR0cDovL3d3dy53My5vcmcvMjAwMC9zdmciIHdpZHRoPSIxNSIgaGVpZ2h0PSIxNSIgdmlld0JveD0iMCAwIDE1IDE1Ij4KICAgIDxkZWZzPgogICAgICAgIDxsaW5lYXJHcmFkaWVudCBpZD0iYSIgeDE9IjAlIiB4Mj0iODYuODc2JSIgeTE9IjAlIiB5Mj0iODAuMjAyJSI+CiAgICAgICAgICAgIDxzdG9wIG9mZnNldD0iMCUiIHN0b3AtY29sb3I9IiNGRkQ4MDAiLz4KICAgICAgICAgICAgPHN0b3Agb2Zmc2V0PSIxMDAlIiBzdG9wLWNvbG9yPSIjRkZBRjAwIi8+CiAgICAgICAgPC9saW5lYXJHcmFkaWVudD4KICAgIDwvZGVmcz4KICAgIDxnIGZpbGw9Im5vbmUiIGZpbGwtcnVsZT0iZXZlbm9kZCI+CiAgICAgICAgPHBhdGggZD0iTS0zLTNoMjB2MjBILTN6Ii8+CiAgICAgICAgPHBhdGggZmlsbD0idXJsKCNhKSIgZmlsbC1ydWxlPSJub256ZXJvIiBkPSJNMTAuNDkyIDNDNi4zNTMgMyAzIDYuMzYgMyAxMC41YzAgNC4xNCAzLjM1MyA3LjUgNy40OTIgNy41QzE0LjY0IDE4IDE4IDE0LjY0IDE4IDEwLjUgMTggNi4zNiAxNC42NCAzIDEwLjQ5MiAzem0zLjE4IDEyTDEwLjUgMTMuMDg4IDcuMzI3IDE1bC44NC0zLjYwN0w1LjM3IDguOTdsMy42OS0uMzE1TDEwLjUgNS4yNWwxLjQ0IDMuMzk4IDMuNjkuMzE1LTIuNzk4IDIuNDIyLjg0IDMuNjE1eiIgdHJhbnNmb3JtPSJ0cmFuc2xhdGUoLTMgLTMpIi8+CiAgICA8L2c+Cjwvc3ZnPgo=\"/><a href=\"https://brands.flipkart.com\"><span class=\"hDTmm5\">Advertise</span></a></div><div><img src=\"data:image/svg+xml;base64,PHN2ZyB4bWxucz0iaHR0cDovL3d3dy53My5vcmcvMjAwMC9zdmciIHdpZHRoPSIxOCIgaGVpZ2h0PSIxNyIgdmlld0JveD0iMCAwIDE4IDE3Ij4KICAgIDxkZWZzPgogICAgICAgIDxsaW5lYXJHcmFkaWVudCBpZD0iYSIgeDE9IjAlIiB4Mj0iODYuODc2JSIgeTE9IjAlIiB5Mj0iODAuMjAyJSI+CiAgICAgICAgICAgIDxzdG9wIG9mZnNldD0iMCUiIHN0b3AtY29sb3I9IiNGRkQ4MDAiLz4KICAgICAgICAgICAgPHN0b3Agb2Zmc2V0PSIxMDAlIiBzdG9wLWNvbG9yPSIjRkZBRjAwIi8+CiAgICAgICAgPC9saW5lYXJHcmFkaWVudD4KICAgIDwvZGVmcz4KICAgIDxnIGZpbGw9Im5vbmUiIGZpbGwtcnVsZT0iZXZlbm9kZCI+CiAgICAgICAgPHBhdGggZD0iTS0xLTFoMjB2MjBILTF6Ii8+CiAgICAgICAgPHBhdGggZmlsbD0idXJsKCNhKSIgZmlsbC1ydWxlPSJub256ZXJvIiBkPSJNMTYuNjY3IDVIMTQuODVjLjA5Mi0uMjU4LjE1LS41NDIuMTUtLjgzM2EyLjQ5NyAyLjQ5NyAwIDAgMC00LjU4My0xLjM3NUwxMCAzLjM1bC0uNDE3LS41NjdBMi41MSAyLjUxIDAgMCAwIDcuNSAxLjY2N2EyLjQ5NyAyLjQ5NyAwIDAgMC0yLjUgMi41YzAgLjI5MS4wNTguNTc1LjE1LjgzM0gzLjMzM2MtLjkyNSAwLTEuNjU4Ljc0Mi0xLjY1OCAxLjY2N2wtLjAwOCA5LjE2NkExLjY2IDEuNjYgMCAwIDAgMy4zMzMgMTcuNWgxMy4zMzRhMS42NiAxLjY2IDAgMCAwIDEuNjY2LTEuNjY3VjYuNjY3QTEuNjYgMS42NiAwIDAgMCAxNi42NjcgNXptMCA2LjY2N0gzLjMzM3YtNWg0LjIzNEw1LjgzMyA5LjAyNWwxLjM1Ljk3NSAxLjk4NC0yLjdMMTAgNi4xNjdsLjgzMyAxLjEzMyAxLjk4NCAyLjcgMS4zNS0uOTc1LTEuNzM0LTIuMzU4aDQuMjM0djV6IiB0cmFuc2Zvcm09InRyYW5zbGF0ZSgtMSAtMSkiLz4KICAgIDwvZz4KPC9zdmc+Cg==\"/><a href=\"/the-gift-card-store?otracker=undefined_footer_footer_navlinks\"><span class=\"hDTmm5\">Gift Cards</span></a></div><div><img src=\"data:image/svg+xml;base64,PHN2ZyB4bWxucz0iaHR0cDovL3d3dy53My5vcmcvMjAwMC9zdmciIHdpZHRoPSIxNSIgaGVpZ2h0PSIxNSIgdmlld0JveD0iMCAwIDE1IDE1Ij4KICAgIDxkZWZzPgogICAgICAgIDxsaW5lYXJHcmFkaWVudCBpZD0iYSIgeDE9IjAlIiB4Mj0iODYuODc2JSIgeTE9IjAlIiB5Mj0iODAuMjAyJSI+CiAgICAgICAgICAgIDxzdG9wIG9mZnNldD0iMCUiIHN0b3AtY29sb3I9IiNGRkQ4MDAiLz4KICAgICAgICAgICAgPHN0b3Agb2Zmc2V0PSIxMDAlIiBzdG9wLWNvbG9yPSIjRkZBRjAwIi8+CiAgICAgICAgPC9saW5lYXJHcmFkaWVudD4KICAgIDwvZGVmcz4KICAgIDxnIGZpbGw9Im5vbmUiIGZpbGwtcnVsZT0iZXZlbm9kZCI+CiAgICAgICAgPHBhdGggZD0iTS0yLTNoMjB2MjBILTJ6Ii8+CiAgICAgICAgPHBhdGggZmlsbD0idXJsKCNhKSIgZmlsbC1ydWxlPSJub256ZXJvIiBkPSJNOS41IDNDNS4zNiAzIDIgNi4zNiAyIDEwLjUgMiAxNC42NCA1LjM2IDE4IDkuNSAxOGM0LjE0IDAgNy41LTMuMzYgNy41LTcuNUMxNyA2LjM2IDEzLjY0IDMgOS41IDN6bS43NSAxMi43NWgtMS41di0xLjVoMS41djEuNXptMS41NTMtNS44MTNsLS42NzYuNjljLS41NC41NDgtLjg3Ny45OTgtLjg3NyAyLjEyM2gtMS41di0uMzc1YzAtLjgyNS4zMzgtMS41NzUuODc3LTIuMTIzbC45My0uOTQ1Yy4yNzgtLjI3LjQ0My0uNjQ1LjQ0My0xLjA1NyAwLS44MjUtLjY3NS0xLjUtMS41LTEuNVM4IDcuNDI1IDggOC4yNUg2LjVhMyAzIDAgMSAxIDYgMGMwIC42Ni0uMjcgMS4yNi0uNjk3IDEuNjg4eiIgdHJhbnNmb3JtPSJ0cmFuc2xhdGUoLTIgLTMpIi8+CiAgICA8L2c+Cjwvc3ZnPgo=\"/><a href=\"/helpcentre?otracker=undefined_footer_footer_navlinks\"><span class=\"hDTmm5\">Help Center</span></a></div><span class=\"z3ht-w\">© 2007-<!-- -->2023<!-- --> <span>Flipkart.com</span></span><img src=\"//static-assets-web.flixcart.com/fk-p-linchpin-web/fk-cp-zion/img/payment-method_69e7ec.svg\"/></div></div></div></div></footer><div class=\"_1EcK2J _38JCdA\"><div class=\"bra6U8\"><svg class=\"_2TdLiZ\" height=\"27\" viewbox=\"0 0 16 27\" width=\"16\" xmlns=\"http://www.w3.org/2000/svg\"><path class=\"_3ZKfA2\" d=\"M16 23.207L6.11 13.161 16 3.093 12.955 0 0 13.161l12.955 13.161z\" fill=\"#fff\"></path></svg><span>Back to top</span></div></div></div></div> <script id=\"jsonLD\" nonce=\"6969653920319942636\" type=\"application/ld+json\">[{\"@context\":\"http://schema.org\",\"@type\":\"Product\",\"aggregateRating\":{\"@type\":\"AggregateRating\",\"ratingValue\":4.3,\"reviewCount\":5846},\"brand\":{\"@type\":\"Brand\",\"name\":\"Lenovo\"},\"image\":\"http://rukmini1.flixcart.com/image/128/128/mobile/e/7/g/lenovo-p2-p2a42-original-imaepw3wmzkyxvdq.jpeg?q=70\",\"name\":\"Lenovo P2 (GREY / GRAPHITE GREY, 32 GB)\",\"offers\":{\"@type\":\"Offer\",\"price\":17999,\"priceCurrency\":\"INR\"}},{\"@context\":\"http://schema.org\",\"@type\":\"BreadcrumbList\",\"itemListElement\":[{\"@type\":\"ListItem\",\"item\":{\"@id\":\"https://www.flipkart.com/?otracker=product_breadCrumbs_Home\",\"name\":\"Home\"},\"position\":1},{\"@type\":\"ListItem\",\"item\":{\"@id\":\"https://www.flipkart.com/mobiles-accessories/pr?sid=tyy&marketplace=FLIPKART&otracker=product_breadCrumbs_Mobiles+%26+Accessories\",\"name\":\"Mobiles & Accessories\"},\"position\":2},{\"@type\":\"ListItem\",\"item\":{\"@id\":\"https://www.flipkart.com/mobiles/pr?sid=tyy,4io&marketplace=FLIPKART&otracker=product_breadCrumbs_Mobiles\",\"name\":\"Mobiles\"},\"position\":3},{\"@type\":\"ListItem\",\"item\":{\"@id\":\"https://www.flipkart.com/mobiles/lenovo~brand/pr?sid=tyy,4io&marketplace=FLIPKART&otracker=product_breadCrumbs_Lenovo+Mobiles\",\"name\":\"Lenovo Mobiles\"},\"position\":4},{\"@type\":\"ListItem\",\"item\":{\"@id\":\"https://www.flipkart.com/lenovo-p2-grey-graphite-grey-32-gb/p/itmeq5ygebzgqgfb?otracker=product_breadCrumbs_Lenovo+P2+%28GREY+%2F+GRAPHITE+GREY%2C+32+GB%29+%284+GB+RAM%29\",\"name\":\"Lenovo P2 (GREY / GRAPHITE GREY, 32 GB) (4 GB RAM)\"},\"position\":5}]}]</script> <script id=\"jsonLD\" nonce=\"6969653920319942636\" type=\"application/ld+json\">[{\"@context\":\"http://schema.org\",\"@type\":\"Product\",\"aggregateRating\":{\"@type\":\"AggregateRating\",\"ratingValue\":4.3,\"reviewCount\":5846},\"brand\":{\"@type\":\"Brand\",\"name\":\"Lenovo\"},\"image\":\"http://rukmini1.flixcart.com/image/128/128/mobile/e/7/g/lenovo-p2-p2a42-original-imaepw3wmzkyxvdq.jpeg?q=70\",\"name\":\"Lenovo P2 (GREY / GRAPHITE GREY, 32 GB)\",\"offers\":{\"@type\":\"Offer\",\"price\":17999,\"priceCurrency\":\"INR\"}},{\"@context\":\"http://schema.org\",\"@type\":\"BreadcrumbList\",\"itemListElement\":[{\"@type\":\"ListItem\",\"item\":{\"@id\":\"https://www.flipkart.com/?otracker=product_breadCrumbs_Home\",\"name\":\"Home\"},\"position\":1},{\"@type\":\"ListItem\",\"item\":{\"@id\":\"https://www.flipkart.com/mobiles-accessories/pr?sid=tyy&marketplace=FLIPKART&otracker=product_breadCrumbs_Mobiles+%26+Accessories\",\"name\":\"Mobiles & Accessories\"},\"position\":2},{\"@type\":\"ListItem\",\"item\":{\"@id\":\"https://www.flipkart.com/mobiles/pr?sid=tyy,4io&marketplace=FLIPKART&otracker=product_breadCrumbs_Mobiles\",\"name\":\"Mobiles\"},\"position\":3},{\"@type\":\"ListItem\",\"item\":{\"@id\":\"https://www.flipkart.com/mobiles/lenovo~brand/pr?sid=tyy,4io&marketplace=FLIPKART&otracker=product_breadCrumbs_Lenovo+Mobiles\",\"name\":\"Lenovo Mobiles\"},\"position\":4},{\"@type\":\"ListItem\",\"item\":{\"@id\":\"https://www.flipkart.com/lenovo-p2-grey-graphite-grey-32-gb/p/itmeq5ygebzgqgfb?otracker=product_breadCrumbs_Lenovo+P2+%28GREY+%2F+GRAPHITE+GREY%2C+32+GB%29+%284+GB+RAM%29\",\"name\":\"Lenovo P2 (GREY / GRAPHITE GREY, 32 GB) (4 GB RAM)\"},\"position\":5}]}]</script><script nonce=\"6969653920319942636\" type=\"application/ld+json\">{\n",
       "    \"@context\": \"http://schema.org\",\n",
       "    \"@type\": \"WebSite\",\n",
       "    \"url\": \"http://www.flipkart.com/\",\n",
       "    \"potentialAction\": [{\n",
       "        \"@type\": \"SearchAction\",\n",
       "        \"target\": \"http://www.flipkart.com/search?q={search_term_string}\",\n",
       "        \"query-input\": \"required name=search_term_string\"\n",
       "        },{\n",
       "        \"@type\": \"SearchAction\",\n",
       "        \"target\": \"android-app://com.flipkart.android/flipkart/de_sq_seg_-search.flipkart.com-_{search_term_string}\",\n",
       "        \"query-input\": \"required name=search_term_string\"\n",
       "    }]\n",
       "}</script><script id=\"is_script\" nonce=\"6969653920319942636\">window.__INITIAL_STATE__ = {};</script> <link data-chunk=\"NavMenu\" href=\"//static-assets-web.flixcart.com/fk-p-linchpin-web/fk-cp-zion/css/NavMenu.chunk.10ffe7.css\" rel=\"stylesheet\"/>\n",
       "<link data-chunk=\"MulwidgetBaseChunk\" href=\"//static-assets-web.flixcart.com/fk-p-linchpin-web/fk-cp-zion/css/MulwidgetBaseChunk.chunk.a340c6.css\" rel=\"stylesheet\"/>\n",
       "<link data-chunk=\"MerchandisingOMUWrapper\" href=\"//static-assets-web.flixcart.com/fk-p-linchpin-web/fk-cp-zion/css/MerchandisingOMUWrapper.chunk.2fdb8f.css\" rel=\"stylesheet\"/> <script id=\"__LOADABLE_REQUIRED_CHUNKS__\" type=\"application/json\">[128,124,0,119]</script><script id=\"__LOADABLE_REQUIRED_CHUNKS___ext\" type=\"application/json\">{\"namedChunks\":[\"NavMenu\",\"MulwidgetBaseChunk\",\"MerchandisingOMUWrapper\"]}</script>\n",
       "<script async=\"\" data-chunk=\"NavMenu\" src=\"//static-assets-web.flixcart.com/fk-p-linchpin-web/fk-cp-zion/js/NavMenu.chunk.678d93f9.js\"></script>\n",
       "<script async=\"\" data-chunk=\"MulwidgetBaseChunk\" src=\"//static-assets-web.flixcart.com/fk-p-linchpin-web/fk-cp-zion/js/MulwidgetBaseChunk.chunk.0b8bda34.js\"></script>\n",
       "<script async=\"\" data-chunk=\"MerchandisingOMUWrapper\" src=\"//static-assets-web.flixcart.com/fk-p-linchpin-web/fk-cp-zion/js/vendor.chunk.ca35aaa4.js\"></script>\n",
       "<script async=\"\" data-chunk=\"MerchandisingOMUWrapper\" src=\"//static-assets-web.flixcart.com/fk-p-linchpin-web/fk-cp-zion/js/MerchandisingOMUWrapper.chunk.b4632c64.js\"></script><script nonce=\"6969653920319942636\">window.omniture={tpv:[],tl:[]};window.omniture.trackPageView=function(){window.omniture.tpv.push(arguments)};window.omniture.trackLink=function(){window.omniture.tl.push(arguments)}\n",
       "\n",
       "    if(window.location.host === 'www.flipkart.com' || /\\.store\\.flipkart\\.com/i.test(window.location.host)){\n",
       "        window.s_account = \"flipkart-prd\"; //omniture account id\n",
       "    }else{\n",
       "        window.s_account = \"flipkart-prd-test\";\n",
       "    }\n",
       "    window.s_isDesktop = true;</script><script nonce=\"6969653920319942636\">function isMobile(){\n",
       "\t\tif (!!(navigator.userAgentData && navigator.userAgentData.mobile) || navigator.userAgent.indexOf(\"Mobile\") !== -1){\n",
       "\t\t\treturn true;\n",
       "\t\t}\n",
       "\t\telse {\n",
       "\t\t\treturn false;\n",
       "\t\t}\n",
       "\t}\n",
       "\n",
       "\tif ('serviceWorker' in navigator && !isMobile()) {\n",
       "\t\tnavigator.serviceWorker.register('/sw.js').then(function(registration) {\n",
       "\t\t\tconsole.log('ServiceWorker registration successful with scope: ', registration.scope);\n",
       "\t\t\tnavigator.onLine && navigator.serviceWorker.controller && navigator.serviceWorker.controller.postMessage('BANDWIDTH_COMPUTE');\n",
       "\t\t\tnavigator.serviceWorker.addEventListener('message', function (event) {\n",
       "\t\t\t\ttry {\n",
       "\t\t\t\t\tconst bandwidthData = JSON.parse(event.data);\n",
       "\t\t\t\t\tif (bandwidthData && bandwidthData.data) {\n",
       "\t\t\t\t\t\twindow.bandwidth = bandwidthData.data.downlink + '_' + bandwidthData.data.computeMethod + '_' + bandwidthData.data.effectiveType + '_' + bandwidthData.data.type;\n",
       "\t\t\t\t\t}\n",
       "\t\t\t\t}catch(err) {\n",
       "\t\t\t\t\tconsole.error('JSON.parse failed:', err);\n",
       "\t\t\t\t}\n",
       "\t\t\t});\n",
       "\t\t})\n",
       "\t\t.catch(function(err) {\n",
       "\t\t\tconsole.error('ServiceWorker registration failed: ', err);\n",
       "\t\t});\n",
       "\t} else if('serviceWorker' in navigator && isMobile()){\n",
       "        navigator.serviceWorker.getRegistration().then(function(registration) {\n",
       "            var serviceWorkerUnregistered=false;\n",
       "            if(registration) {\n",
       "                registration.unregister();\n",
       "                serviceWorkerUnregistered=true;\n",
       "            }\n",
       "            serviceWorkerUnregistered && window.location.reload();\n",
       "        });\n",
       "    }</script> <script async=\"\" defer=\"defer\" id=\"omni_script\" nonce=\"6969653920319942636\" src=\"///www/linchpin/batman-returns/omni/omni16.js\"></script> <script nonce=\"6969653920319942636\">window._pxAppId = 'PXgNtTli3A';</script><script async=\"\" nonce=\"6969653920319942636\" src=\"///px/gNtTli3A/init.js\"></script></body></html>"
      ]
     },
     "execution_count": 6,
     "metadata": {},
     "output_type": "execute_result"
    }
   ],
   "source": [
    "soup"
   ]
  },
  {
   "cell_type": "code",
   "execution_count": 12,
   "id": "a2be1cb5",
   "metadata": {},
   "outputs": [
    {
     "name": "stdout",
     "output_type": "stream",
     "text": [
      "Excellent phone with rich features. Good battery, Amoled screen, 5.5\" screen, Snapdragon 625 processor, 4 GB RAM what else. Camera is good for still photography but without image stabilization video quality jerks. On the whole it's 90 / 💯READ MORE\n",
      "\n",
      "\n",
      "The Lenovo P2 a good and proud successor of P1..Brought this smartphone on 13th morning and received on 15th afternoon for 13750rs with exchange and SBI credit card offersMy variant is Dark grey(which is preferable since the gold one has border which looks a bit cheap),4 GB Ram with 32gb inbuilt First look was enough to bring me in the aura this phone hasGood packaging from Flipkart Quick deliveryAndPaisa vasoolWhy I will sayPros1. Battery,mann... the 5100 mah battery,I used it he...READ MORE\n",
      "\n",
      "\n",
      "Been playing with it for the past few days. Overall a good product. Great battery life! Set an exemplary standard for every other vendor to follow. Wish Lenovo followed Google's standard of distributing monthly security updates.READ MORE\n",
      "\n",
      "\n",
      "Superb Device If You want some proof go to my channel and check the Lenovo P2 video \"Smart Reviews\"ProsBrighter and Vivid DisplaySuperb Audio output from speakerValue for money Use Open cam and your problem gonna solve ConsNot much Special cameraBetter cam than Redmi Note 4 and better battey and display and audio than Moto g5plusDonot ask about honor 6xREAD MORE\n",
      "\n",
      "\n",
      "Got Rs 2000/- discount on Lenovo P2 (4GB RAM Version) whose features (not the one mentioned under description section) are:- Android Nougat update with Lenovo Customized version is really awesome experience- Mobile is already fast (with 4 GB RAM) and after changing Window animation scale, Transition animation scale, and Animator duration scale to 0.5x after enabling developer mode it is really very very fast.- It comes with OTG Adopter, that means you can directly connect your usual pen...READ MORE\n",
      "\n",
      "\n",
      "Writing a review after a month of use .. absolutely fantastic phone .. Better than moto g5 plus and redmi note 4 at anytime . They are over hyped devices.(Have used all three phones) Battery : Exceptional battery life of 2 days of heavy usage and 3 to 4 days of normal usageAlso 1 hour charge gives you 2 days of usage no phone can do that .Camera : people say it's not good but it's fairly decent .. takes good quality photos is day light . Low light are little noisy but it's problem with al...READ MORE\n",
      "\n",
      "\n",
      "Good built in quality and wonderful battery life.The phone at times is slow but is a great one. Handles multi tasking well enough.I don't mind the cons because battery life is all what I need.Go for it. Worth it :)READ MORE\n",
      "\n",
      "\n",
      "Lenovo P2 is a nice phone for heavy smart phone users Pros: 1.Good display, audio & battery life2. smart processor Phone can't gets heated up even in heavy uses3. Very good feedback & response Cons: Simple lookREAD MORE\n",
      "\n",
      "\n",
      "Reviewing after 15 days of usesPros1. Battery: Good bettery.. last for 2 days easily2. Charger: Very fast charger.. charge for 1 hour gives you 2 days battery backup3. Display: Very good display with breight colour and nice contrast. Black is true black and white is generally off white. Thanks to Super AMOLED.Touch is also fine.4. Processer: Very efficient processor. Good gaming experiance. No heating.. lower power consumption. Thanks to 14 Nenometer technology.5. Sound: sound in speak...READ MORE\n",
      "\n",
      "\n",
      "Phone is really good in use. I am using it from past 30 hours and based on Battery status I can say battery can hold 2.5 day of juice with moderate use. Here are some points which can help others to buy or not to buy this phone. 1. Build quality is really gud. I am using gray one and I will say that it's really looks gud.     *** But I know everyone will use back case for safety and which will hide the charm of back :p2. Screen quality and touch response is another plus point here, thanks ...READ MORE\n",
      "\n",
      "\n"
     ]
    }
   ],
   "source": []
  },
  {
   "cell_type": "code",
   "execution_count": 8,
   "id": "19b78992",
   "metadata": {},
   "outputs": [
    {
     "data": {
      "text/plain": [
       "[<div class=\"t-ZTKy\"><div><div class=\"\">Excellent phone with rich features. Good battery, Amoled screen, 5.5\" screen, Snapdragon 625 processor, 4 GB RAM what else. Camera is good for still photography but without image stabilization video quality jerks. On the whole it's 90 / 💯</div><span class=\"_1H-bmy\"><span>READ MORE</span></span></div></div>,\n",
       " <div class=\"t-ZTKy\"><div><div class=\"\">The Lenovo P2 a good and proud successor of P1..<br/>Brought this smartphone on 13th morning and received on 15th afternoon for 13750rs with exchange and SBI credit card offers<br/>My variant is Dark grey(which is preferable since the gold one has border which looks a bit cheap),4 GB Ram with 32gb inbuilt <br/><br/>First look was enough to bring me in the aura this phone has<br/>Good packaging from Flipkart <br/>Quick delivery<br/>And<br/>Paisa vasool<br/>Why I will say<br/><br/>Pros<br/>1. Battery,mann... the 5100 mah battery,I used it he...</div><span class=\"_1BWGvX\"><span>READ MORE</span></span></div></div>,\n",
       " <div class=\"t-ZTKy\"><div><div class=\"\">Been playing with it for the past few days. Overall a good product. Great battery life! Set an exemplary standard for every other vendor to follow. Wish Lenovo followed Google's standard of distributing monthly security updates.</div><span class=\"_1H-bmy\"><span>READ MORE</span></span></div></div>,\n",
       " <div class=\"t-ZTKy\"><div><div class=\"\">Superb Device <br/>If You want some proof go to my channel and check the Lenovo P2 video \"Smart Reviews\"<br/><br/>Pros<br/>Brighter and Vivid Display<br/>Superb Audio output from speaker<br/>Value for money <br/>Use Open cam and your problem gonna solve <br/><br/>Cons<br/>Not much Special camera<br/><br/>Better cam than Redmi Note 4 and better battey and display and audio than Moto g5plus<br/>Donot ask about honor 6x</div><span class=\"_1H-bmy\"><span>READ MORE</span></span></div></div>,\n",
       " <div class=\"t-ZTKy\"><div><div class=\"\">Got Rs 2000/- discount on Lenovo P2 (4GB RAM Version) whose features (not the one mentioned under description section) are:<br/><br/>- Android Nougat update with Lenovo Customized version is really awesome experience<br/><br/>- Mobile is already fast (with 4 GB RAM) and after changing Window animation scale, Transition animation scale, and Animator duration scale to 0.5x after enabling developer mode it is really very very fast.<br/><br/>- It comes with OTG Adopter, that means you can directly connect your usual pen...</div><span class=\"_1BWGvX\"><span>READ MORE</span></span></div></div>,\n",
       " <div class=\"t-ZTKy\"><div><div class=\"\">Writing a review after a month of use .. absolutely fantastic phone .. Better than moto g5 plus and redmi note 4 at anytime . They are over hyped devices.(Have used all three phones)<br/><br/> Battery : Exceptional battery life of 2 days of heavy usage and 3 to 4 days of normal usage<br/>Also 1 hour charge gives you 2 days of usage no phone can do that .<br/>Camera : people say it's not good but it's fairly decent .. takes good quality photos is day light . Low light are little noisy but it's problem with al...</div><span class=\"_1BWGvX\"><span>READ MORE</span></span></div></div>,\n",
       " <div class=\"t-ZTKy\"><div><div class=\"\">Good built in quality and wonderful battery life.<br/>The phone at times is slow but is a great one. Handles multi tasking well enough.<br/><br/>I don't mind the cons because battery life is all what I need.<br/>Go for it. Worth it :)</div><span class=\"_1H-bmy\"><span>READ MORE</span></span></div></div>,\n",
       " <div class=\"t-ZTKy\"><div><div class=\"\">Lenovo P2 is a nice phone for heavy smart phone users <br/>Pros: <br/>1.Good display, audio &amp; battery life<br/>2. smart processor Phone can't gets heated up even in heavy uses<br/>3. Very good feedback &amp; response <br/><br/>Cons: <br/>Simple look</div><span class=\"_1H-bmy\"><span>READ MORE</span></span></div></div>,\n",
       " <div class=\"t-ZTKy\"><div><div class=\"\">Reviewing after 15 days of uses<br/><br/>Pros<br/>1. Battery: Good bettery.. last for 2 days easily<br/>2. Charger: Very fast charger.. charge for 1 hour gives you 2 days battery backup<br/>3. Display: Very good display with breight colour and nice contrast. Black is true black and white is generally off white. Thanks to Super AMOLED.Touch is also fine.<br/>4. Processer: Very efficient processor. Good gaming experiance. No heating.. lower power consumption. Thanks to 14 Nenometer technology.<br/>5. Sound: sound in speak...</div><span class=\"_1BWGvX\"><span>READ MORE</span></span></div></div>,\n",
       " <div class=\"t-ZTKy\"><div><div class=\"\">Phone is really good in use. I am using it from past 30 hours and based on Battery status I can say battery can hold 2.5 day of juice with moderate use. Here are some points which can help others to buy or not to buy this phone. <br/>1. Build quality is really gud. I am using gray one and I will say that it's really looks gud. <br/>    *** But I know everyone will use back case for safety and which will hide the charm of back :p<br/>2. Screen quality and touch response is another plus point here, thanks ...</div><span class=\"_1BWGvX\"><span>READ MORE</span></span></div></div>]"
      ]
     },
     "execution_count": 8,
     "metadata": {},
     "output_type": "execute_result"
    }
   ],
   "source": [
    "soup.select('[class=\"t-ZTKy\"]')\n",
    "# print(reviews)"
   ]
  },
  {
   "cell_type": "code",
   "execution_count": 7,
   "id": "9aa42788",
   "metadata": {},
   "outputs": [
    {
     "data": {
      "text/plain": [
       "[<div class=\"t-ZTKy\"><div><div class=\"\">Excellent phone with rich features. Good battery, Amoled screen, 5.5\" screen, Snapdragon 625 processor, 4 GB RAM what else. Camera is good for still photography but without image stabilization video quality jerks. On the whole it's 90 / 💯</div><span class=\"_1H-bmy\"><span>READ MORE</span></span></div></div>,\n",
       " <div class=\"t-ZTKy\"><div><div class=\"\">The Lenovo P2 a good and proud successor of P1..<br/>Brought this smartphone on 13th morning and received on 15th afternoon for 13750rs with exchange and SBI credit card offers<br/>My variant is Dark grey(which is preferable since the gold one has border which looks a bit cheap),4 GB Ram with 32gb inbuilt <br/><br/>First look was enough to bring me in the aura this phone has<br/>Good packaging from Flipkart <br/>Quick delivery<br/>And<br/>Paisa vasool<br/>Why I will say<br/><br/>Pros<br/>1. Battery,mann... the 5100 mah battery,I used it he...</div><span class=\"_1BWGvX\"><span>READ MORE</span></span></div></div>,\n",
       " <div class=\"t-ZTKy\"><div><div class=\"\">Been playing with it for the past few days. Overall a good product. Great battery life! Set an exemplary standard for every other vendor to follow. Wish Lenovo followed Google's standard of distributing monthly security updates.</div><span class=\"_1H-bmy\"><span>READ MORE</span></span></div></div>,\n",
       " <div class=\"t-ZTKy\"><div><div class=\"\">Superb Device <br/>If You want some proof go to my channel and check the Lenovo P2 video \"Smart Reviews\"<br/><br/>Pros<br/>Brighter and Vivid Display<br/>Superb Audio output from speaker<br/>Value for money <br/>Use Open cam and your problem gonna solve <br/><br/>Cons<br/>Not much Special camera<br/><br/>Better cam than Redmi Note 4 and better battey and display and audio than Moto g5plus<br/>Donot ask about honor 6x</div><span class=\"_1H-bmy\"><span>READ MORE</span></span></div></div>,\n",
       " <div class=\"t-ZTKy\"><div><div class=\"\">Got Rs 2000/- discount on Lenovo P2 (4GB RAM Version) whose features (not the one mentioned under description section) are:<br/><br/>- Android Nougat update with Lenovo Customized version is really awesome experience<br/><br/>- Mobile is already fast (with 4 GB RAM) and after changing Window animation scale, Transition animation scale, and Animator duration scale to 0.5x after enabling developer mode it is really very very fast.<br/><br/>- It comes with OTG Adopter, that means you can directly connect your usual pen...</div><span class=\"_1BWGvX\"><span>READ MORE</span></span></div></div>,\n",
       " <div class=\"t-ZTKy\"><div><div class=\"\">Writing a review after a month of use .. absolutely fantastic phone .. Better than moto g5 plus and redmi note 4 at anytime . They are over hyped devices.(Have used all three phones)<br/><br/> Battery : Exceptional battery life of 2 days of heavy usage and 3 to 4 days of normal usage<br/>Also 1 hour charge gives you 2 days of usage no phone can do that .<br/>Camera : people say it's not good but it's fairly decent .. takes good quality photos is day light . Low light are little noisy but it's problem with al...</div><span class=\"_1BWGvX\"><span>READ MORE</span></span></div></div>,\n",
       " <div class=\"t-ZTKy\"><div><div class=\"\">Good built in quality and wonderful battery life.<br/>The phone at times is slow but is a great one. Handles multi tasking well enough.<br/><br/>I don't mind the cons because battery life is all what I need.<br/>Go for it. Worth it :)</div><span class=\"_1H-bmy\"><span>READ MORE</span></span></div></div>,\n",
       " <div class=\"t-ZTKy\"><div><div class=\"\">Lenovo P2 is a nice phone for heavy smart phone users <br/>Pros: <br/>1.Good display, audio &amp; battery life<br/>2. smart processor Phone can't gets heated up even in heavy uses<br/>3. Very good feedback &amp; response <br/><br/>Cons: <br/>Simple look</div><span class=\"_1H-bmy\"><span>READ MORE</span></span></div></div>,\n",
       " <div class=\"t-ZTKy\"><div><div class=\"\">Reviewing after 15 days of uses<br/><br/>Pros<br/>1. Battery: Good bettery.. last for 2 days easily<br/>2. Charger: Very fast charger.. charge for 1 hour gives you 2 days battery backup<br/>3. Display: Very good display with breight colour and nice contrast. Black is true black and white is generally off white. Thanks to Super AMOLED.Touch is also fine.<br/>4. Processer: Very efficient processor. Good gaming experiance. No heating.. lower power consumption. Thanks to 14 Nenometer technology.<br/>5. Sound: sound in speak...</div><span class=\"_1BWGvX\"><span>READ MORE</span></span></div></div>,\n",
       " <div class=\"t-ZTKy\"><div><div class=\"\">Phone is really good in use. I am using it from past 30 hours and based on Battery status I can say battery can hold 2.5 day of juice with moderate use. Here are some points which can help others to buy or not to buy this phone. <br/>1. Build quality is really gud. I am using gray one and I will say that it's really looks gud. <br/>    *** But I know everyone will use back case for safety and which will hide the charm of back :p<br/>2. Screen quality and touch response is another plus point here, thanks ...</div><span class=\"_1BWGvX\"><span>READ MORE</span></span></div></div>]"
      ]
     },
     "execution_count": 7,
     "metadata": {},
     "output_type": "execute_result"
    }
   ],
   "source": [
    "soup.select('[class=\"t-ZTKy\"]')"
   ]
  },
  {
   "cell_type": "code",
   "execution_count": 9,
   "id": "c5cce748",
   "metadata": {},
   "outputs": [
    {
     "data": {
      "text/plain": [
       "<div class=\"t-ZTKy\"><div><div class=\"\">Excellent phone with rich features. Good battery, Amoled screen, 5.5\" screen, Snapdragon 625 processor, 4 GB RAM what else. Camera is good for still photography but without image stabilization video quality jerks. On the whole it's 90 / 💯</div><span class=\"_1H-bmy\"><span>READ MORE</span></span></div></div>"
      ]
     },
     "execution_count": 9,
     "metadata": {},
     "output_type": "execute_result"
    }
   ],
   "source": [
    "soup.select('[class=\"t-ZTKy\"]')[0]"
   ]
  },
  {
   "cell_type": "code",
   "execution_count": 10,
   "id": "41c84851",
   "metadata": {},
   "outputs": [
    {
     "data": {
      "text/plain": [
       "'Excellent phone with rich features. Good battery, Amoled screen, 5.5\" screen, Snapdragon 625 processor, 4 GB RAM what else. Camera is good for still photography but without image stabilization video quality jerks. On the whole it\\'s 90 / 💯READ MORE'"
      ]
     },
     "execution_count": 10,
     "metadata": {},
     "output_type": "execute_result"
    }
   ],
   "source": [
    "soup.select('[class=\"t-ZTKy\"]')[0].text"
   ]
  },
  {
   "cell_type": "code",
   "execution_count": 11,
   "id": "111192e2",
   "metadata": {},
   "outputs": [
    {
     "data": {
      "text/plain": [
       "<div class=\"t-ZTKy\"><div><div class=\"\">Excellent phone with rich features. Good battery, Amoled screen, 5.5\" screen, Snapdragon 625 processor, 4 GB RAM what else. Camera is good for still photography but without image stabilization video quality jerks. On the whole it's 90 / 💯</div><span class=\"_1H-bmy\"><span>READ MORE</span></span></div></div>"
      ]
     },
     "execution_count": 11,
     "metadata": {},
     "output_type": "execute_result"
    }
   ],
   "source": [
    "soup.select('[class=\"t-ZTKy\"]')[0]"
   ]
  },
  {
   "cell_type": "code",
   "execution_count": 12,
   "id": "cc3274c3",
   "metadata": {},
   "outputs": [
    {
     "data": {
      "text/plain": [
       "'Excellent phone with rich features. Good battery, Amoled screen, 5.5\" screen, Snapdragon 625 processor, 4 GB RAM what else. Camera is good for still photography but without image stabilization video quality jerks. On the whole it\\'s 90 / 💯READ MORE'"
      ]
     },
     "execution_count": 12,
     "metadata": {},
     "output_type": "execute_result"
    }
   ],
   "source": [
    "soup.select('[class=\"t-ZTKy\"]')[0].text"
   ]
  },
  {
   "cell_type": "code",
   "execution_count": 106,
   "id": "b3793fb7",
   "metadata": {},
   "outputs": [
    {
     "name": "stdout",
     "output_type": "stream",
     "text": [
      "The phone was very good the only bad thing is it's screen which is very fragile but that can be ignored by the power house feature (as I am a heavy user my phone goses 5 to 6 hours max but this Lenovo p2 was amazing to use) but the main problem is that it's replacement screen don't come under warnty it around 7500rs approx that also can be managed (cause it's had pretty good feature and performance after last update) but it's replacement screen not available at most of the service centre even...READ MORE\n",
      "Best In Class HardwareRevisiting after 6 months of use. Pros:1. Exceptional battery performance with a large battery + Fast-charging.  2. Great RAM management. Runs multiple apps with ease.3.Great screen and loud speakers.4. No heating issues or performance lags. 5. Despite Lenovo's infamy, it is providing security updates once every 3 months or so. Cons:1. Gaming experience is not that good. Despite SD625 it fails to provide a seamless experience.2. Camera performance sub-pa...READ MORE\n",
      "Also compared with Xiaomi Redmi Note 4.Pros:1. Very good build quality2. Battery lasts for easily > 2days3. Very similar to google stock android UI4. Not much bloatware. Xiaomi mobiles comes with many bloatwares.5. Not heavy in hand6. Gorilla glass 3  protection. Xiaomi redmi note 4 doesn't has this.7. Can act like powerbank8. Premium display with Super Amoled screen as like Galaxy S series and Oneplus phonesCons:1. Recieved 3GB RAM phone inside 4GB box. But flipkart corrected it...READ MORE\n",
      "Guys just go for this wonderful masterpiece..It's worth buying in offer period..Display is absolutely owesome..Speaker volume is good & louder..Battery & chargung is best in any class..No lagging No heating..Power saving mode is fantastically working for me..I just put it on power saving mode during night..It saves lot of battery..Dark theme looks crispy..Don't think just go for this..READ MORE\n",
      "I am rating this phone considering all imp parameters after 48 hours of usage..Pros:Look - Premium as its metal body Display - crisp and enhanced color as we see in samsung super amoled screensBattery - Phone received with 0% battery..Charged 26% in 20 mins which was impressive. although phone was new with not much running apps but i assume in future it may take 25 mins to charge 26%...Screen protector - provided with the box.. its glossy and does not block sharpness and brightness of t...READ MORE\n",
      "After using 4 months,Display 10-10Super amoled crystal clear n vibrant coloursBattery 10-105000mah works good for mewith heavy usage it last 1.5days once fully chargedPerformance 8-10All apps working fine n smoothI dont play games on phone but tried nfs no limits,taking time to load but running pretty smooth.once in a week i faced app crashed issue don't know why,maybe lots of app in multi task..so thats why 8-10 Camera 7-10You cant get everything on 1 phone with this price...READ MORE\n",
      "Most underrated mobile phone in this budget like its predecessor vibe P1. Lenovo's marketing is to blamed for this. Anyways, Received this device in a good packing and now writing initial review after using it for 5 days. Pros-Battery is impressive. It lasts for around 1.5 days with heavy uses. Battery charging speed is also very fast. Mobile display is vibrant. Loudspeaker is nice. I didn't face any issues in call quality as reported by few users. Android 7 is also working fine on my ...READ MORE\n",
      "I have been using this phone for the 3rd year now. The battery never disappointed till now. Even now, i only charge it once in 1 and a half day after using WhatsApp, Insta, Browsing, Camera whole day... With the last software update there are some problems like the Sims don't work if both are put together or sometimes the hotspot just doesn't start at all and so for these things I have to restart it or do some workaround. Even though sometimes the phone lags when a lot of apps are open and yo...READ MORE\n",
      "Best phone in best price . I am fully satisfied with the phone no issue. Thank you Lenovo for affordable price. Thank you Flipkart for giving exciting​ offers😊😀READ MORE\n",
      "After using 9 days till now no problem full smooth no lag and best thing is sound it have no dolby support but if you compare with dolby phones its sound has more depth of feel really awesomeAfter nougat upgrade i feel more stable and classy about this phone build and looks are too much premiumBut there is a fault in the screen of phone let me clear this if you apply any temper glass on your phone it gets raised by side and that looks ugly.... Overall i got it at 14k and is bang for the buck.READ MORE\n"
     ]
    }
   ],
   "source": [
    "for i in range(0,10):\n",
    "    print(soup.select('[class=\"t-ZTKy\"]')[i].text)\n"
   ]
  },
  {
   "cell_type": "code",
   "execution_count": 13,
   "id": "eaf3e046",
   "metadata": {},
   "outputs": [
    {
     "data": {
      "text/plain": [
       "[<div class=\"_2d4LTz\">4.3</div>]"
      ]
     },
     "execution_count": 13,
     "metadata": {},
     "output_type": "execute_result"
    }
   ],
   "source": [
    "soup.select('[class=\"_2d4LTz\"]')"
   ]
  },
  {
   "cell_type": "code",
   "execution_count": 108,
   "id": "39ac0827",
   "metadata": {},
   "outputs": [
    {
     "data": {
      "text/plain": [
       "[<div class=\"_2d4LTz\">4.3</div>]"
      ]
     },
     "execution_count": 108,
     "metadata": {},
     "output_type": "execute_result"
    }
   ],
   "source": []
  },
  {
   "cell_type": "code",
   "execution_count": 15,
   "id": "8a1a51b6",
   "metadata": {},
   "outputs": [
    {
     "data": {
      "text/plain": [
       "'4.3'"
      ]
     },
     "execution_count": 15,
     "metadata": {},
     "output_type": "execute_result"
    }
   ],
   "source": [
    "soup.select('[class=\"_2d4LTz\"]')[0].text"
   ]
  },
  {
   "cell_type": "code",
   "execution_count": 16,
   "id": "37343dc1",
   "metadata": {},
   "outputs": [
    {
     "data": {
      "text/plain": [
       "'5'"
      ]
     },
     "execution_count": 16,
     "metadata": {},
     "output_type": "execute_result"
    }
   ],
   "source": [
    "soup.select('[class=\"_3LWZlK _1BLPMq\"]')[0].text\n",
    "# indi_ratings"
   ]
  },
  {
   "cell_type": "code",
   "execution_count": 17,
   "id": "27fb3e79",
   "metadata": {},
   "outputs": [
    {
     "name": "stdout",
     "output_type": "stream",
     "text": [
      "5\n",
      "5\n",
      "5\n",
      "5\n",
      "5\n",
      "5\n",
      "4\n",
      "5\n",
      "5\n",
      "5\n"
     ]
    }
   ],
   "source": [
    "for i in range(0,10):\n",
    "    print(soup.select('[class=\"_3LWZlK _1BLPMq\"]')[i].text)\n",
    "    print"
   ]
  },
  {
   "cell_type": "code",
   "execution_count": 18,
   "id": "6e79bc13",
   "metadata": {},
   "outputs": [
    {
     "data": {
      "text/plain": [
       "'₹17,999'"
      ]
     },
     "execution_count": 18,
     "metadata": {},
     "output_type": "execute_result"
    }
   ],
   "source": [
    "soup.select('[class=\"_30jeq3 _16Jk6d\"]')[0].text"
   ]
  },
  {
   "cell_type": "code",
   "execution_count": 112,
   "id": "f5406701",
   "metadata": {},
   "outputs": [
    {
     "data": {
      "text/plain": [
       "'₹17,999'"
      ]
     },
     "execution_count": 112,
     "metadata": {},
     "output_type": "execute_result"
    }
   ],
   "source": []
  },
  {
   "cell_type": "code",
   "execution_count": 19,
   "id": "56d97ecf",
   "metadata": {},
   "outputs": [
    {
     "data": {
      "text/plain": [
       "[<div class=\"_3TT44I\"><div class=\"WT_FyS\"><div class=\"XUp0WS\"><span class=\"_3j4Zjq row\"><img class=\"_3HLfAg\" height=\"18\" src=\"https://rukminim1.flixcart.com/www/36/36/promos/06/09/2016/c22c9fc4-0555-4460-8401-bf5c28d7ba29.png?q=90\" width=\"18\"/><li class=\"_16eBzU col\"><span class=\"u8dYXW\">Bank Offer</span><span>10% off on Bank of Baroda Credit Card Transactions, up to ₹1,000 on orders of ₹8,000 and above</span><div class=\"Bv11UC _1qNw3R\"><span class=\"fGhUR2\">T&amp;C</span></div></li></span><span class=\"_3j4Zjq row\"><img class=\"_3HLfAg\" height=\"18\" src=\"https://rukminim1.flixcart.com/www/36/36/promos/06/09/2016/c22c9fc4-0555-4460-8401-bf5c28d7ba29.png?q=90\" width=\"18\"/><li class=\"_16eBzU col\"><span class=\"u8dYXW\">Bank Offer</span><span>Flat ₹1250  Discount on HDFC Bank Credit Card EMI Transactions on orders of ₹15,000 and above</span><div class=\"Bv11UC _1qNw3R\"><span class=\"fGhUR2\">T&amp;C</span></div></li></span><span class=\"_3j4Zjq row\"><img class=\"_3HLfAg\" height=\"18\" src=\"https://rukminim1.flixcart.com/www/36/36/promos/06/09/2016/c22c9fc4-0555-4460-8401-bf5c28d7ba29.png?q=90\" width=\"18\"/><li class=\"_16eBzU col\"><span class=\"u8dYXW\">Bank Offer</span><span>10% off on Bank of Baroda Credit Card EMI Transactions, up to ₹1,500 on orders of ₹8,000 and above</span><div class=\"Bv11UC _1qNw3R\"><span class=\"fGhUR2\">T&amp;C</span></div></li></span><span class=\"_3j4Zjq row\"><img class=\"_3HLfAg\" height=\"18\" src=\"https://rukminim1.flixcart.com/www/36/36/promos/06/09/2016/c22c9fc4-0555-4460-8401-bf5c28d7ba29.png?q=90\" width=\"18\"/><li class=\"_16eBzU col\"><span>Extra ₹4,999 Off on Hero Bikes &amp; Scooters on purchase of ₹80,000 or more</span><div class=\"Bv11UC _1qNw3R\"><span class=\"fGhUR2\">T&amp;C</span></div></li></span></div><button class=\"_1JIkBw\"><div class=\"row\"><div class=\"IMZJg1\"><span>View 11 more offers</span></div></div></button></div></div>]"
      ]
     },
     "execution_count": 19,
     "metadata": {},
     "output_type": "execute_result"
    }
   ],
   "source": [
    "soup.select('[class=\"_3TT44I\"]')"
   ]
  },
  {
   "cell_type": "code",
   "execution_count": 21,
   "id": "cad8c7dc",
   "metadata": {},
   "outputs": [
    {
     "data": {
      "text/plain": [
       "'Bank Offer10% off on Bank of Baroda Credit Card Transactions, up to ₹1,000 on orders of ₹8,000 and aboveT&CBank OfferFlat ₹1250  Discount on HDFC Bank Credit Card EMI Transactions on orders of ₹15,000 and aboveT&CBank Offer10% off on Bank of Baroda Credit Card EMI Transactions, up to ₹1,500 on orders of ₹8,000 and aboveT&CExtra ₹4,999 Off on Hero Bikes & Scooters on purchase of ₹80,000 or moreT&CView 11 more offers'"
      ]
     },
     "execution_count": 21,
     "metadata": {},
     "output_type": "execute_result"
    }
   ],
   "source": [
    "soup.select('[class=\"_3TT44I\"]')[0].text"
   ]
  },
  {
   "cell_type": "code",
   "execution_count": 25,
   "id": "cba24453",
   "metadata": {},
   "outputs": [
    {
     "data": {
      "text/plain": [
       "[<p class=\"_2sc7ZR _2V5EHH\">Suresh Menon</p>,\n",
       " <p class=\"_2sc7ZR _2V5EHH\">Suhas Salian</p>,\n",
       " <p class=\"_2sc7ZR _2V5EHH\">Srihari Vijayaraghavan</p>,\n",
       " <p class=\"_2sc7ZR _2V5EHH\">Susama Behera</p>,\n",
       " <p class=\"_2sc7ZR _2V5EHH\">Farooq Khan</p>,\n",
       " <p class=\"_2sc7ZR _2V5EHH\">Akshay Manerikar</p>,\n",
       " <p class=\"_2sc7ZR _2V5EHH\">Sandeep Kavety</p>,\n",
       " <p class=\"_2sc7ZR _2V5EHH\">Ojaswi Dewangan</p>,\n",
       " <p class=\"_2sc7ZR _2V5EHH\">Vikas Bhaleriwala</p>,\n",
       " <p class=\"_2sc7ZR _2V5EHH\">Ankit Nirwal</p>]"
      ]
     },
     "execution_count": 25,
     "metadata": {},
     "output_type": "execute_result"
    }
   ],
   "source": [
    "soup.select('[class=\"_2sc7ZR _2V5EHH\"]')"
   ]
  },
  {
   "cell_type": "code",
   "execution_count": 27,
   "id": "813333b2",
   "metadata": {},
   "outputs": [
    {
     "data": {
      "text/plain": [
       "[<p class=\"_2sc7ZR _2V5EHH\">Suresh Menon</p>,\n",
       " <p class=\"_2sc7ZR _2V5EHH\">Suhas Salian</p>,\n",
       " <p class=\"_2sc7ZR _2V5EHH\">Srihari Vijayaraghavan</p>,\n",
       " <p class=\"_2sc7ZR _2V5EHH\">Susama Behera</p>,\n",
       " <p class=\"_2sc7ZR _2V5EHH\">Farooq Khan</p>,\n",
       " <p class=\"_2sc7ZR _2V5EHH\">Akshay Manerikar</p>,\n",
       " <p class=\"_2sc7ZR _2V5EHH\">Sandeep Kavety</p>,\n",
       " <p class=\"_2sc7ZR _2V5EHH\">Ojaswi Dewangan</p>,\n",
       " <p class=\"_2sc7ZR _2V5EHH\">Vikas Bhaleriwala</p>,\n",
       " <p class=\"_2sc7ZR _2V5EHH\">Ankit Nirwal</p>]"
      ]
     },
     "execution_count": 27,
     "metadata": {},
     "output_type": "execute_result"
    }
   ],
   "source": [
    "soup.select('[class=\"_2sc7ZR _2V5EHH\"]')"
   ]
  },
  {
   "cell_type": "code",
   "execution_count": 28,
   "id": "4e1dbc95",
   "metadata": {},
   "outputs": [
    {
     "name": "stdout",
     "output_type": "stream",
     "text": [
      "Suresh Menon\n",
      "Suhas Salian\n",
      "Srihari Vijayaraghavan\n",
      "Susama Behera\n",
      "Farooq Khan\n",
      "Akshay Manerikar\n",
      "Sandeep Kavety\n",
      "Ojaswi Dewangan\n",
      "Vikas Bhaleriwala\n",
      "Ankit Nirwal\n"
     ]
    }
   ],
   "source": [
    "for i in range(0,10):\n",
    "    print(soup.select('[class=\"_2sc7ZR _2V5EHH\"]')[i].text)"
   ]
  },
  {
   "cell_type": "code",
   "execution_count": 133,
   "id": "a19074a2",
   "metadata": {},
   "outputs": [],
   "source": [
    "reviews=[]\n",
    "for i in range (1,5):\n",
    "        rq = requests.get(f'https://www.flipkart.com/lenovo-p2-grey-graphite-grey-32-gb/product-reviews/itmeq5ygebzgqgfb?pid=MOBEZFHHVD8KXE7G&lid=LSTMOBEZFHHVD8KXE7GB0OS6I&marketplace=FLIPKART&page={i}')\n",
    "\n",
    "        for j in range (0,10):\n",
    "            soup = bs4.BeautifulSoup(rq.text)\n",
    "            reviews.append(soup.select('[class = \"t-ZTKy\"]')[j].text)"
   ]
  },
  {
   "cell_type": "code",
   "execution_count": 134,
   "id": "690cd471",
   "metadata": {},
   "outputs": [
    {
     "name": "stdout",
     "output_type": "stream",
     "text": [
      "['Excellent phone with rich features. Good battery, Amoled screen, 5.5\" screen, Snapdragon 625 processor, 4 GB RAM what else. Camera is good for still photography but without image stabilization video quality jerks. On the whole it\\'s 90 / 💯READ MORE', 'The Lenovo P2 a good and proud successor of P1..Brought this smartphone on 13th morning and received on 15th afternoon for 13750rs with exchange and SBI credit card offersMy variant is Dark grey(which is preferable since the gold one has border which looks a bit cheap),4 GB Ram with 32gb inbuilt First look was enough to bring me in the aura this phone hasGood packaging from Flipkart Quick deliveryAndPaisa vasoolWhy I will sayPros1. Battery,mann... the 5100 mah battery,I used it he...READ MORE', \"Been playing with it for the past few days. Overall a good product. Great battery life! Set an exemplary standard for every other vendor to follow. Wish Lenovo followed Google's standard of distributing monthly security updates.READ MORE\", 'Superb Device If You want some proof go to my channel and check the Lenovo P2 video \"Smart Reviews\"ProsBrighter and Vivid DisplaySuperb Audio output from speakerValue for money Use Open cam and your problem gonna solve ConsNot much Special cameraBetter cam than Redmi Note 4 and better battey and display and audio than Moto g5plusDonot ask about honor 6xREAD MORE', 'Got Rs 2000/- discount on Lenovo P2 (4GB RAM Version) whose features (not the one mentioned under description section) are:- Android Nougat update with Lenovo Customized version is really awesome experience- Mobile is already fast (with 4 GB RAM) and after changing Window animation scale, Transition animation scale, and Animator duration scale to 0.5x after enabling developer mode it is really very very fast.- It comes with OTG Adopter, that means you can directly connect your usual pen...READ MORE', \"Writing a review after a month of use .. absolutely fantastic phone .. Better than moto g5 plus and redmi note 4 at anytime . They are over hyped devices.(Have used all three phones) Battery : Exceptional battery life of 2 days of heavy usage and 3 to 4 days of normal usageAlso 1 hour charge gives you 2 days of usage no phone can do that .Camera : people say it's not good but it's fairly decent .. takes good quality photos is day light . Low light are little noisy but it's problem with al...READ MORE\", \"Good built in quality and wonderful battery life.The phone at times is slow but is a great one. Handles multi tasking well enough.I don't mind the cons because battery life is all what I need.Go for it. Worth it :)READ MORE\", \"Lenovo P2 is a nice phone for heavy smart phone users Pros: 1.Good display, audio & battery life2. smart processor Phone can't gets heated up even in heavy uses3. Very good feedback & response Cons: Simple lookREAD MORE\", 'Reviewing after 15 days of usesPros1. Battery: Good bettery.. last for 2 days easily2. Charger: Very fast charger.. charge for 1 hour gives you 2 days battery backup3. Display: Very good display with breight colour and nice contrast. Black is true black and white is generally off white. Thanks to Super AMOLED.Touch is also fine.4. Processer: Very efficient processor. Good gaming experiance. No heating.. lower power consumption. Thanks to 14 Nenometer technology.5. Sound: sound in speak...READ MORE', \"Phone is really good in use. I am using it from past 30 hours and based on Battery status I can say battery can hold 2.5 day of juice with moderate use. Here are some points which can help others to buy or not to buy this phone. 1. Build quality is really gud. I am using gray one and I will say that it's really looks gud.     *** But I know everyone will use back case for safety and which will hide the charm of back :p2. Screen quality and touch response is another plus point here, thanks ...READ MORE\", 'Lenovo has focused on Battery , but forgot to focus on important requirement like * Network Connectivity - Unable to connect/Low Connectivity to network like BSNL , when the SIM is inserted in other phone that works well * Performance - It freezes * Back and Menu button would have made more sense when placed beside the home button instead of Screen .* I never trusted flipkart for its delivery & packaging -  This time the delivery was on time but Packaging was not good for which there wer...READ MORE', \"Good Battery life- 5100mAh Battery.I continuously used for 6 Hours and battery bar dropped drom 98 to 75.This Phone is best at battery. No complaints.Display - Large screen size(5'5 HD Display)But like other Lenovo phones ( Vibe K5 Note etc ), It lacks custom display mode, that is you can not customize colour display balance according to you, have to choose from Default mode and Vibrant (High saturation mode).But still no major issues with that.Camera -There is NO OPTION FOR CAMERA  SH...READ MORE\", 'Great phone. Within 1 month phone speakers turns into local old market radio. When sended to service center they declared the motherboard is real culprit. After 20 days they are playing all stupid games with us which most of the unprofessional service centre used to play with us before 15 years. Even Lenovo is not serious about this phone because it takes more than 20 days to change motherboard of their latest product.(Lenovo) Guys if you are not able to satisfy your customers with recently...READ MORE', 'Editing this review after 3 days of use Pros:1)Amoled display is clear vibrant battery friendly and makes viewing at different angles easy good daylight visibility 2) Almost stock android with few customisation by lenovo 3) Very good speaker for talking on phone very loud and clear. 4) very fast finger print sensor takes just half second to respond. Same button can be used as back and task killer button. 5) No heating at all 6) multitasking is smooth with 4GB Ram 7) SIM 2 slot is VOLT...READ MORE', \"Excellent phone. Been using it for over a week now. Pros and cons summarised as follows: Pros:- Super battery life. You really only need to charge this bad boy every 3 days if you're a light to moderate user. Presumably, heavy users need to charge it every alternate day. Charging is super fast as well.- Very premium finish on the phone. It looks and feels like a true flagship phone. I have it in gold and it looks very classy.- Gorgeous Super AMOLED screen similar to Samsung. Very bright ...READ MORE\", 'Mind blowingI have been really watching many reviews for devices for past many months, p2 ticked all right boxes for me like samoled display, excellent battery,speakers so I chose it and been using it for past 3 days. Let me share my experienceBuild : Excellent build quality back looks good and screen looks super awesome. Yes it is top notch but a bit bulky which u get use to.Display : been a nexus 6 user I only wanted super AMOLED display and this has a brilliant panel. Media consumpti...READ MORE', 'Hi folks.I know it will take a while for me to write this review as I am still thinking that where should I start from.Okay...Here we go....First things first.when I was doing all the research I came across 100 videos on you tube and I was still very confused about what to buy.I kept on searching and finally I made my mind to go with this one hell of a phone named \"Lenovo p2\" aka the battery monster...I ordered it on Flipkart and got it delivered within 3 days which was pretty impressive...No...READ MORE', 'I was also very confused between this phone, RedMi Note 4. Below is my honest review after using this phone for about 2 weeks. Pros:: (Competitor Advantage).1) *Monster Battery*. - 5100mAh - With moderate to slight heavy usage, screen on time (about 5hours), 4G internet and VOLTE always On and with No Gaming - It will easily last up to 2.5Days. 2)*Fast Charger* is provided in the box. This is customized only to be used with Lenovo P2. So, other qualcomm chargers are not useful. However,...READ MORE', \"After breaking My Nexus 6p Screen, I went on searching for a new smartphones. New 6p screen costs around 18k, so I thought of buying a new mid-range smartphone in that price segment and encountered with this mobile. I'm a heavy user who consumes lot of media, games, browsing etc on  a daily basis, So I needed a smartphone with a decent battery life and a big Screen Size. So I had P2,Mi max, Z2, Moto M, Honor 6x and On Nxt in my mind. I excluded Mi max for its oversize, Moto M, 6x, On Nxt for ...READ MORE\", \"Awesome phone ! Go for it !!Just got it yesterday, and believe me it's superb, every little aspect about this phone is marvellous. Touch is sensitive, display is crisp and vibrant thanks to Super AMOLED Display , multitasking has never been so easy. I am not intending to write a long paragraph or something, I would only like to say this is just a beast in every sense and the main focus point I would like to point out like everyone else has I'm their reviews the battery life just speechless....READ MORE\", \"First of all i am not the guy who looks like a hero and needs a selfie update to my social media.....people rate this phones camera bad because it is not good enough like oppo, vivo, etc.........R U an idiot, can't u see a difference between a camera phone and performance phones!!!!!by the guys this phone has a good camera...just u need to focus more that's all....battery can last 3 or 4 days if u just checks updates on the end of the day and take calls....it looks like a black matt styl...READ MORE\", 'Phone is excellent there is no any prblm in the phone.battery backup in full charge it gave 22hr of heavy usage,camera quality fine,cpu performance is impressive,speaker sound is clear and loud,there are many features for security and other helpful use,fingerprint works well...one thing you have to know that the card slot is hybrid which means you can able to insert one nano sim and one memory card or two nano sim but no memory card...but if you think that you could have the memory prblm then...READ MORE', \"Super quick fingerprint sensor, super fast camera, super clear images, super fast mobile ..... a must buy, just go for it and I'm sure you will fall in love with this mobileREAD MORE\", 'Sharing this after around 15 days of useBiggest problem - Lenovo is extremely bad in supporting its products through software updates. Android 7.1.2 version is really the best Android version so far. You can see on Lenovo forums for P2, they are not at all giving any more updates beyond 7.0. Another thing, certain phones have yellowish display. Even white color will appear yellowish but no body at all will help you later. See this also in fourms before your money is wasted.We all know b...READ MORE', 'Using this phone for almost 2 weeks now.. On time delivery by Flipkart1. The Phone is pretty good in terms of performance and looks.. By Feel of the phone it feels premium2. This is 5.5 inch phone, but looks compact and easily handled with one hand3. Display is fantastic, the color output is awesome, you will enjoy watching movies and videos4. Sound quality is fantastic5. Processor speed is awesome, experience no lags while playing games of multi tasking6. There is always 2Gigs of Ram f...READ MORE', 'Ive been using he lenovo p2, 4gb ram version for the past week and i am completely satisfied about the way it performs except for a few things. Listing a few things i like and a few things i dont.Things i like:1. Premium feel and look2. Doesnt feel heavy even with 5100mah huge battery. (i was using the vibe p1 before and it felt heavy in hand)3. The huge battery does its job well and holds up for 2 days even with heavy usage. 3 days should be easy with moderate usage.4. The speaker (voi...READ MORE', \"I've been using this phone for 2 months. Initially it was working fine, great battery backup, good multi-tasking, good display, average camera ( when I say average, it can take decent pictures in good lighting conditions, forget about low light conditions. Camera enthusiasts strictly stay away from this phone !!)Now Lenovo pushed Nougat update to the phone. Now it has become an absolute brick ! Just by opening whatsapp the phone hangs. Sometimes during call the caller app hangs and call disc...READ MORE\", \"One of the best battery phone available in market, I've been using it for 2 days still it got 50% of the battery left. Everything seems to be good, fast charging, battery backup, performance, display, fingerprint sensor, design, build quality, sound etc etc. But it seriously lacks to give good quality pictures taken from rear camera at low light, in daylight its good. Don't hesitate to buy if you are looking for a phone which has good battery backup...READ MORE\", \"If you are looking for a device with excellent AMOLED display quality, terrific battery life, and premium build, Lenovo P2 is for you.I have heard many say that the camera is bad. Well, it isn't bad. It's decent for this price range. It's certainly nothing like Honor 6x and Moto G5 Plus, but it's better than Redmi Note 4 and other Lenovo devices.Sound output from speaker is good. Not extremely\\u200b loud like the K4 Note, but it's satisfactory. Audio output from the headphone jack is wonderful...READ MORE\", 'This is an awesome phone as for as battery power is concerned. The power saver switch is wonderful. For an average user it is enough to charge once in three days. Other features are also very good. I have ordered this phone on 12th and got it on 13th and been using it with one charge only.READ MORE', \"The phone was very good the only bad thing is it's screen which is very fragile but that can be ignored by the power house feature (as I am a heavy user my phone goses 5 to 6 hours max but this Lenovo p2 was amazing to use) but the main problem is that it's replacement screen don't come under warnty it around 7500rs approx that also can be managed (cause it's had pretty good feature and performance after last update) but it's replacement screen not available at most of the service centre even...READ MORE\", \"Best In Class HardwareRevisiting after 6 months of use. Pros:1. Exceptional battery performance with a large battery + Fast-charging.  2. Great RAM management. Runs multiple apps with ease.3.Great screen and loud speakers.4. No heating issues or performance lags. 5. Despite Lenovo's infamy, it is providing security updates once every 3 months or so. Cons:1. Gaming experience is not that good. Despite SD625 it fails to provide a seamless experience.2. Camera performance sub-pa...READ MORE\", \"Also compared with Xiaomi Redmi Note 4.Pros:1. Very good build quality2. Battery lasts for easily > 2days3. Very similar to google stock android UI4. Not much bloatware. Xiaomi mobiles comes with many bloatwares.5. Not heavy in hand6. Gorilla glass 3  protection. Xiaomi redmi note 4 doesn't has this.7. Can act like powerbank8. Premium display with Super Amoled screen as like Galaxy S series and Oneplus phonesCons:1. Recieved 3GB RAM phone inside 4GB box. But flipkart corrected it...READ MORE\", \"Guys just go for this wonderful masterpiece..It's worth buying in offer period..Display is absolutely owesome..Speaker volume is good & louder..Battery & chargung is best in any class..No lagging No heating..Power saving mode is fantastically working for me..I just put it on power saving mode during night..It saves lot of battery..Dark theme looks crispy..Don't think just go for this..READ MORE\", 'I am rating this phone considering all imp parameters after 48 hours of usage..Pros:Look - Premium as its metal body Display - crisp and enhanced color as we see in samsung super amoled screensBattery - Phone received with 0% battery..Charged 26% in 20 mins which was impressive. although phone was new with not much running apps but i assume in future it may take 25 mins to charge 26%...Screen protector - provided with the box.. its glossy and does not block sharpness and brightness of t...READ MORE', \"After using 4 months,Display 10-10Super amoled crystal clear n vibrant coloursBattery 10-105000mah works good for mewith heavy usage it last 1.5days once fully chargedPerformance 8-10All apps working fine n smoothI dont play games on phone but tried nfs no limits,taking time to load but running pretty smooth.once in a week i faced app crashed issue don't know why,maybe lots of app in multi task..so thats why 8-10 Camera 7-10You cant get everything on 1 phone with this price...READ MORE\", \"Most underrated mobile phone in this budget like its predecessor vibe P1. Lenovo's marketing is to blamed for this. Anyways, Received this device in a good packing and now writing initial review after using it for 5 days. Pros-Battery is impressive. It lasts for around 1.5 days with heavy uses. Battery charging speed is also very fast. Mobile display is vibrant. Loudspeaker is nice. I didn't face any issues in call quality as reported by few users. Android 7 is also working fine on my ...READ MORE\", \"I have been using this phone for the 3rd year now. The battery never disappointed till now. Even now, i only charge it once in 1 and a half day after using WhatsApp, Insta, Browsing, Camera whole day... With the last software update there are some problems like the Sims don't work if both are put together or sometimes the hotspot just doesn't start at all and so for these things I have to restart it or do some workaround. Even though sometimes the phone lags when a lot of apps are open and yo...READ MORE\", 'Best phone in best price . I am fully satisfied with the phone no issue. Thank you Lenovo for affordable price. Thank you Flipkart for giving exciting\\u200b offers😊😀READ MORE', 'After using 9 days till now no problem full smooth no lag and best thing is sound it have no dolby support but if you compare with dolby phones its sound has more depth of feel really awesomeAfter nougat upgrade i feel more stable and classy about this phone build and looks are too much premiumBut there is a fault in the screen of phone let me clear this if you apply any temper glass on your phone it gets raised by side and that looks ugly.... Overall i got it at 14k and is bang for the buck.READ MORE']\n"
     ]
    }
   ],
   "source": [
    "print(reviews)"
   ]
  },
  {
   "cell_type": "code",
   "execution_count": 136,
   "id": "9a5eced0",
   "metadata": {},
   "outputs": [],
   "source": [
    "name=[]\n",
    "for i in range (1,5):\n",
    "    rq = requests.get(f'https://www.flipkart.com/lenovo-p2-grey-graphite-grey-32-gb/product-reviews/itmeq5ygebzgqgfb?pid=MOBEZFHHVD8KXE7G&lid=LSTMOBEZFHHVD8KXE7GB0OS6I&marketplace=FLIPKART&page={i}')\n",
    "    for j in range (0,10):\n",
    "        soup = bs4.BeautifulSoup(rq.text)\n",
    "        name.append(soup.select('[class = \"_2sc7ZR _2V5EHH\"]')[j].text)"
   ]
  },
  {
   "cell_type": "code",
   "execution_count": 137,
   "id": "f2515b46",
   "metadata": {},
   "outputs": [
    {
     "data": {
      "text/plain": [
       "['Suresh Menon',\n",
       " 'Suhas Salian',\n",
       " 'Srihari Vijayaraghavan',\n",
       " 'Susama Behera',\n",
       " 'Farooq Khan',\n",
       " 'Akshay Manerikar',\n",
       " 'Sandeep Kavety',\n",
       " 'Ojaswi Dewangan',\n",
       " 'Vikas Bhaleriwala',\n",
       " 'Ankit Nirwal',\n",
       " 'SANTOSH KUMAR MOHANTY',\n",
       " 'Flipkart Customer',\n",
       " 'Bharat Sammi',\n",
       " 'PRADIP JOSHI',\n",
       " 'Veena Singhal',\n",
       " 'Flipkart Customer',\n",
       " 'Rakesh  Roshan',\n",
       " 'shivanandana hegde',\n",
       " 'Swaroop Pandurangi',\n",
       " 'R.S Akhil',\n",
       " 'Prathamesh Khairnar',\n",
       " 'amit Wadnerkar',\n",
       " 'VIVEK SATYANI',\n",
       " 'Flipkart Customer',\n",
       " 'Ravi Hugar',\n",
       " 'Ben Sam Jacob',\n",
       " 'Nithin',\n",
       " 'Akash Karmakar',\n",
       " 'Sreeraj Baburaj',\n",
       " 'Flipkart Customer',\n",
       " 'Puneet Choudhary',\n",
       " 'KUNAL MAHAJAN',\n",
       " 'anand naik',\n",
       " 'Amol  Kasliwal',\n",
       " 'Flipkart Customer',\n",
       " 'Flipkart Customer',\n",
       " 'Flipkart Customer',\n",
       " 'Harsh',\n",
       " 'Aniket Deshmukh',\n",
       " 'Nilesh Kumar rana']"
      ]
     },
     "execution_count": 137,
     "metadata": {},
     "output_type": "execute_result"
    }
   ],
   "source": [
    "name"
   ]
  },
  {
   "cell_type": "code",
   "execution_count": 139,
   "id": "e7dac988",
   "metadata": {},
   "outputs": [],
   "source": [
    "df = dict(zip(review, name))"
   ]
  },
  {
   "cell_type": "code",
   "execution_count": 146,
   "id": "348f7b0b",
   "metadata": {},
   "outputs": [
    {
     "data": {
      "text/html": [
       "<div>\n",
       "<style scoped>\n",
       "    .dataframe tbody tr th:only-of-type {\n",
       "        vertical-align: middle;\n",
       "    }\n",
       "\n",
       "    .dataframe tbody tr th {\n",
       "        vertical-align: top;\n",
       "    }\n",
       "\n",
       "    .dataframe thead th {\n",
       "        text-align: right;\n",
       "    }\n",
       "</style>\n",
       "<table border=\"1\" class=\"dataframe\">\n",
       "  <thead>\n",
       "    <tr style=\"text-align: right;\">\n",
       "      <th></th>\n",
       "      <th>0</th>\n",
       "    </tr>\n",
       "  </thead>\n",
       "  <tbody>\n",
       "    <tr>\n",
       "      <th>Excellent phone with rich features. Good battery, Amoled screen, 5.5\" screen, Snapdragon 625 processor, 4 GB RAM what else. Camera is good for still photography but without image stabilization video quality jerks. On the whole it's 90 / 💯READ MORE</th>\n",
       "      <td>Suresh Menon</td>\n",
       "    </tr>\n",
       "    <tr>\n",
       "      <th>The Lenovo P2 a good and proud successor of P1..Brought this smartphone on 13th morning and received on 15th afternoon for 13750rs with exchange and SBI credit card offersMy variant is Dark grey(which is preferable since the gold one has border which looks a bit cheap),4 GB Ram with 32gb inbuilt First look was enough to bring me in the aura this phone hasGood packaging from Flipkart Quick deliveryAndPaisa vasoolWhy I will sayPros1. Battery,mann... the 5100 mah battery,I used it he...READ MORE</th>\n",
       "      <td>Suhas Salian</td>\n",
       "    </tr>\n",
       "    <tr>\n",
       "      <th>Been playing with it for the past few days. Overall a good product. Great battery life! Set an exemplary standard for every other vendor to follow. Wish Lenovo followed Google's standard of distributing monthly security updates.READ MORE</th>\n",
       "      <td>Srihari Vijayaraghavan</td>\n",
       "    </tr>\n",
       "    <tr>\n",
       "      <th>Superb Device If You want some proof go to my channel and check the Lenovo P2 video \"Smart Reviews\"ProsBrighter and Vivid DisplaySuperb Audio output from speakerValue for money Use Open cam and your problem gonna solve ConsNot much Special cameraBetter cam than Redmi Note 4 and better battey and display and audio than Moto g5plusDonot ask about honor 6xREAD MORE</th>\n",
       "      <td>Susama Behera</td>\n",
       "    </tr>\n",
       "    <tr>\n",
       "      <th>Got Rs 2000/- discount on Lenovo P2 (4GB RAM Version) whose features (not the one mentioned under description section) are:- Android Nougat update with Lenovo Customized version is really awesome experience- Mobile is already fast (with 4 GB RAM) and after changing Window animation scale, Transition animation scale, and Animator duration scale to 0.5x after enabling developer mode it is really very very fast.- It comes with OTG Adopter, that means you can directly connect your usual pen...READ MORE</th>\n",
       "      <td>Farooq Khan</td>\n",
       "    </tr>\n",
       "    <tr>\n",
       "      <th>Writing a review after a month of use .. absolutely fantastic phone .. Better than moto g5 plus and redmi note 4 at anytime . They are over hyped devices.(Have used all three phones) Battery : Exceptional battery life of 2 days of heavy usage and 3 to 4 days of normal usageAlso 1 hour charge gives you 2 days of usage no phone can do that .Camera : people say it's not good but it's fairly decent .. takes good quality photos is day light . Low light are little noisy but it's problem with al...READ MORE</th>\n",
       "      <td>Akshay Manerikar</td>\n",
       "    </tr>\n",
       "    <tr>\n",
       "      <th>Good built in quality and wonderful battery life.The phone at times is slow but is a great one. Handles multi tasking well enough.I don't mind the cons because battery life is all what I need.Go for it. Worth it :)READ MORE</th>\n",
       "      <td>Sandeep Kavety</td>\n",
       "    </tr>\n",
       "    <tr>\n",
       "      <th>Lenovo P2 is a nice phone for heavy smart phone users Pros: 1.Good display, audio &amp; battery life2. smart processor Phone can't gets heated up even in heavy uses3. Very good feedback &amp; response Cons: Simple lookREAD MORE</th>\n",
       "      <td>Ojaswi Dewangan</td>\n",
       "    </tr>\n",
       "    <tr>\n",
       "      <th>Reviewing after 15 days of usesPros1. Battery: Good bettery.. last for 2 days easily2. Charger: Very fast charger.. charge for 1 hour gives you 2 days battery backup3. Display: Very good display with breight colour and nice contrast. Black is true black and white is generally off white. Thanks to Super AMOLED.Touch is also fine.4. Processer: Very efficient processor. Good gaming experiance. No heating.. lower power consumption. Thanks to 14 Nenometer technology.5. Sound: sound in speak...READ MORE</th>\n",
       "      <td>Vikas Bhaleriwala</td>\n",
       "    </tr>\n",
       "    <tr>\n",
       "      <th>Phone is really good in use. I am using it from past 30 hours and based on Battery status I can say battery can hold 2.5 day of juice with moderate use. Here are some points which can help others to buy or not to buy this phone. 1. Build quality is really gud. I am using gray one and I will say that it's really looks gud.     *** But I know everyone will use back case for safety and which will hide the charm of back :p2. Screen quality and touch response is another plus point here, thanks ...READ MORE</th>\n",
       "      <td>Ankit Nirwal</td>\n",
       "    </tr>\n",
       "    <tr>\n",
       "      <th>Lenovo has focused on Battery , but forgot to focus on important requirement like * Network Connectivity - Unable to connect/Low Connectivity to network like BSNL , when the SIM is inserted in other phone that works well * Performance - It freezes * Back and Menu button would have made more sense when placed beside the home button instead of Screen .* I never trusted flipkart for its delivery &amp; packaging -  This time the delivery was on time but Packaging was not good for which there wer...READ MORE</th>\n",
       "      <td>SANTOSH KUMAR MOHANTY</td>\n",
       "    </tr>\n",
       "    <tr>\n",
       "      <th>Good Battery life- 5100mAh Battery.I continuously used for 6 Hours and battery bar dropped drom 98 to 75.This Phone is best at battery. No complaints.Display - Large screen size(5'5 HD Display)But like other Lenovo phones ( Vibe K5 Note etc ), It lacks custom display mode, that is you can not customize colour display balance according to you, have to choose from Default mode and Vibrant (High saturation mode).But still no major issues with that.Camera -There is NO OPTION FOR CAMERA  SH...READ MORE</th>\n",
       "      <td>Flipkart Customer</td>\n",
       "    </tr>\n",
       "    <tr>\n",
       "      <th>Great phone. Within 1 month phone speakers turns into local old market radio. When sended to service center they declared the motherboard is real culprit. After 20 days they are playing all stupid games with us which most of the unprofessional service centre used to play with us before 15 years. Even Lenovo is not serious about this phone because it takes more than 20 days to change motherboard of their latest product.(Lenovo) Guys if you are not able to satisfy your customers with recently...READ MORE</th>\n",
       "      <td>Bharat Sammi</td>\n",
       "    </tr>\n",
       "    <tr>\n",
       "      <th>Editing this review after 3 days of use Pros:1)Amoled display is clear vibrant battery friendly and makes viewing at different angles easy good daylight visibility 2) Almost stock android with few customisation by lenovo 3) Very good speaker for talking on phone very loud and clear. 4) very fast finger print sensor takes just half second to respond. Same button can be used as back and task killer button. 5) No heating at all 6) multitasking is smooth with 4GB Ram 7) SIM 2 slot is VOLT...READ MORE</th>\n",
       "      <td>PRADIP JOSHI</td>\n",
       "    </tr>\n",
       "    <tr>\n",
       "      <th>Excellent phone. Been using it for over a week now. Pros and cons summarised as follows: Pros:- Super battery life. You really only need to charge this bad boy every 3 days if you're a light to moderate user. Presumably, heavy users need to charge it every alternate day. Charging is super fast as well.- Very premium finish on the phone. It looks and feels like a true flagship phone. I have it in gold and it looks very classy.- Gorgeous Super AMOLED screen similar to Samsung. Very bright ...READ MORE</th>\n",
       "      <td>Veena Singhal</td>\n",
       "    </tr>\n",
       "    <tr>\n",
       "      <th>Mind blowingI have been really watching many reviews for devices for past many months, p2 ticked all right boxes for me like samoled display, excellent battery,speakers so I chose it and been using it for past 3 days. Let me share my experienceBuild : Excellent build quality back looks good and screen looks super awesome. Yes it is top notch but a bit bulky which u get use to.Display : been a nexus 6 user I only wanted super AMOLED display and this has a brilliant panel. Media consumpti...READ MORE</th>\n",
       "      <td>Flipkart Customer</td>\n",
       "    </tr>\n",
       "    <tr>\n",
       "      <th>Hi folks.I know it will take a while for me to write this review as I am still thinking that where should I start from.Okay...Here we go....First things first.when I was doing all the research I came across 100 videos on you tube and I was still very confused about what to buy.I kept on searching and finally I made my mind to go with this one hell of a phone named \"Lenovo p2\" aka the battery monster...I ordered it on Flipkart and got it delivered within 3 days which was pretty impressive...No...READ MORE</th>\n",
       "      <td>Rakesh  Roshan</td>\n",
       "    </tr>\n",
       "    <tr>\n",
       "      <th>I was also very confused between this phone, RedMi Note 4. Below is my honest review after using this phone for about 2 weeks. Pros:: (Competitor Advantage).1) *Monster Battery*. - 5100mAh - With moderate to slight heavy usage, screen on time (about 5hours), 4G internet and VOLTE always On and with No Gaming - It will easily last up to 2.5Days. 2)*Fast Charger* is provided in the box. This is customized only to be used with Lenovo P2. So, other qualcomm chargers are not useful. However,...READ MORE</th>\n",
       "      <td>shivanandana hegde</td>\n",
       "    </tr>\n",
       "    <tr>\n",
       "      <th>After breaking My Nexus 6p Screen, I went on searching for a new smartphones. New 6p screen costs around 18k, so I thought of buying a new mid-range smartphone in that price segment and encountered with this mobile. I'm a heavy user who consumes lot of media, games, browsing etc on  a daily basis, So I needed a smartphone with a decent battery life and a big Screen Size. So I had P2,Mi max, Z2, Moto M, Honor 6x and On Nxt in my mind. I excluded Mi max for its oversize, Moto M, 6x, On Nxt for ...READ MORE</th>\n",
       "      <td>Swaroop Pandurangi</td>\n",
       "    </tr>\n",
       "    <tr>\n",
       "      <th>Awesome phone ! Go for it !!Just got it yesterday, and believe me it's superb, every little aspect about this phone is marvellous. Touch is sensitive, display is crisp and vibrant thanks to Super AMOLED Display , multitasking has never been so easy. I am not intending to write a long paragraph or something, I would only like to say this is just a beast in every sense and the main focus point I would like to point out like everyone else has I'm their reviews the battery life just speechless....READ MORE</th>\n",
       "      <td>R.S Akhil</td>\n",
       "    </tr>\n",
       "    <tr>\n",
       "      <th>First of all i am not the guy who looks like a hero and needs a selfie update to my social media.....people rate this phones camera bad because it is not good enough like oppo, vivo, etc.........R U an idiot, can't u see a difference between a camera phone and performance phones!!!!!by the guys this phone has a good camera...just u need to focus more that's all....battery can last 3 or 4 days if u just checks updates on the end of the day and take calls....it looks like a black matt styl...READ MORE</th>\n",
       "      <td>Prathamesh Khairnar</td>\n",
       "    </tr>\n",
       "    <tr>\n",
       "      <th>Phone is excellent there is no any prblm in the phone.battery backup in full charge it gave 22hr of heavy usage,camera quality fine,cpu performance is impressive,speaker sound is clear and loud,there are many features for security and other helpful use,fingerprint works well...one thing you have to know that the card slot is hybrid which means you can able to insert one nano sim and one memory card or two nano sim but no memory card...but if you think that you could have the memory prblm then...READ MORE</th>\n",
       "      <td>amit Wadnerkar</td>\n",
       "    </tr>\n",
       "    <tr>\n",
       "      <th>Super quick fingerprint sensor, super fast camera, super clear images, super fast mobile ..... a must buy, just go for it and I'm sure you will fall in love with this mobileREAD MORE</th>\n",
       "      <td>VIVEK SATYANI</td>\n",
       "    </tr>\n",
       "    <tr>\n",
       "      <th>Sharing this after around 15 days of useBiggest problem - Lenovo is extremely bad in supporting its products through software updates. Android 7.1.2 version is really the best Android version so far. You can see on Lenovo forums for P2, they are not at all giving any more updates beyond 7.0. Another thing, certain phones have yellowish display. Even white color will appear yellowish but no body at all will help you later. See this also in fourms before your money is wasted.We all know b...READ MORE</th>\n",
       "      <td>Flipkart Customer</td>\n",
       "    </tr>\n",
       "    <tr>\n",
       "      <th>Using this phone for almost 2 weeks now.. On time delivery by Flipkart1. The Phone is pretty good in terms of performance and looks.. By Feel of the phone it feels premium2. This is 5.5 inch phone, but looks compact and easily handled with one hand3. Display is fantastic, the color output is awesome, you will enjoy watching movies and videos4. Sound quality is fantastic5. Processor speed is awesome, experience no lags while playing games of multi tasking6. There is always 2Gigs of Ram f...READ MORE</th>\n",
       "      <td>Ravi Hugar</td>\n",
       "    </tr>\n",
       "    <tr>\n",
       "      <th>Ive been using he lenovo p2, 4gb ram version for the past week and i am completely satisfied about the way it performs except for a few things. Listing a few things i like and a few things i dont.Things i like:1. Premium feel and look2. Doesnt feel heavy even with 5100mah huge battery. (i was using the vibe p1 before and it felt heavy in hand)3. The huge battery does its job well and holds up for 2 days even with heavy usage. 3 days should be easy with moderate usage.4. The speaker (voi...READ MORE</th>\n",
       "      <td>Ben Sam Jacob</td>\n",
       "    </tr>\n",
       "    <tr>\n",
       "      <th>I've been using this phone for 2 months. Initially it was working fine, great battery backup, good multi-tasking, good display, average camera ( when I say average, it can take decent pictures in good lighting conditions, forget about low light conditions. Camera enthusiasts strictly stay away from this phone !!)Now Lenovo pushed Nougat update to the phone. Now it has become an absolute brick ! Just by opening whatsapp the phone hangs. Sometimes during call the caller app hangs and call disc...READ MORE</th>\n",
       "      <td>Nithin</td>\n",
       "    </tr>\n",
       "    <tr>\n",
       "      <th>One of the best battery phone available in market, I've been using it for 2 days still it got 50% of the battery left. Everything seems to be good, fast charging, battery backup, performance, display, fingerprint sensor, design, build quality, sound etc etc. But it seriously lacks to give good quality pictures taken from rear camera at low light, in daylight its good. Don't hesitate to buy if you are looking for a phone which has good battery backup...READ MORE</th>\n",
       "      <td>Akash Karmakar</td>\n",
       "    </tr>\n",
       "    <tr>\n",
       "      <th>If you are looking for a device with excellent AMOLED display quality, terrific battery life, and premium build, Lenovo P2 is for you.I have heard many say that the camera is bad. Well, it isn't bad. It's decent for this price range. It's certainly nothing like Honor 6x and Moto G5 Plus, but it's better than Redmi Note 4 and other Lenovo devices.Sound output from speaker is good. Not extremely​ loud like the K4 Note, but it's satisfactory. Audio output from the headphone jack is wonderful...READ MORE</th>\n",
       "      <td>Sreeraj Baburaj</td>\n",
       "    </tr>\n",
       "    <tr>\n",
       "      <th>This is an awesome phone as for as battery power is concerned. The power saver switch is wonderful. For an average user it is enough to charge once in three days. Other features are also very good. I have ordered this phone on 12th and got it on 13th and been using it with one charge only.READ MORE</th>\n",
       "      <td>Flipkart Customer</td>\n",
       "    </tr>\n",
       "    <tr>\n",
       "      <th>The phone was very good the only bad thing is it's screen which is very fragile but that can be ignored by the power house feature (as I am a heavy user my phone goses 5 to 6 hours max but this Lenovo p2 was amazing to use) but the main problem is that it's replacement screen don't come under warnty it around 7500rs approx that also can be managed (cause it's had pretty good feature and performance after last update) but it's replacement screen not available at most of the service centre even...READ MORE</th>\n",
       "      <td>Puneet Choudhary</td>\n",
       "    </tr>\n",
       "    <tr>\n",
       "      <th>Best In Class HardwareRevisiting after 6 months of use. Pros:1. Exceptional battery performance with a large battery + Fast-charging.  2. Great RAM management. Runs multiple apps with ease.3.Great screen and loud speakers.4. No heating issues or performance lags. 5. Despite Lenovo's infamy, it is providing security updates once every 3 months or so. Cons:1. Gaming experience is not that good. Despite SD625 it fails to provide a seamless experience.2. Camera performance sub-pa...READ MORE</th>\n",
       "      <td>KUNAL MAHAJAN</td>\n",
       "    </tr>\n",
       "    <tr>\n",
       "      <th>Also compared with Xiaomi Redmi Note 4.Pros:1. Very good build quality2. Battery lasts for easily &gt; 2days3. Very similar to google stock android UI4. Not much bloatware. Xiaomi mobiles comes with many bloatwares.5. Not heavy in hand6. Gorilla glass 3  protection. Xiaomi redmi note 4 doesn't has this.7. Can act like powerbank8. Premium display with Super Amoled screen as like Galaxy S series and Oneplus phonesCons:1. Recieved 3GB RAM phone inside 4GB box. But flipkart corrected it...READ MORE</th>\n",
       "      <td>anand naik</td>\n",
       "    </tr>\n",
       "    <tr>\n",
       "      <th>Guys just go for this wonderful masterpiece..It's worth buying in offer period..Display is absolutely owesome..Speaker volume is good &amp; louder..Battery &amp; chargung is best in any class..No lagging No heating..Power saving mode is fantastically working for me..I just put it on power saving mode during night..It saves lot of battery..Dark theme looks crispy..Don't think just go for this..READ MORE</th>\n",
       "      <td>Amol  Kasliwal</td>\n",
       "    </tr>\n",
       "    <tr>\n",
       "      <th>I am rating this phone considering all imp parameters after 48 hours of usage..Pros:Look - Premium as its metal body Display - crisp and enhanced color as we see in samsung super amoled screensBattery - Phone received with 0% battery..Charged 26% in 20 mins which was impressive. although phone was new with not much running apps but i assume in future it may take 25 mins to charge 26%...Screen protector - provided with the box.. its glossy and does not block sharpness and brightness of t...READ MORE</th>\n",
       "      <td>Flipkart Customer</td>\n",
       "    </tr>\n",
       "    <tr>\n",
       "      <th>After using 4 months,Display 10-10Super amoled crystal clear n vibrant coloursBattery 10-105000mah works good for mewith heavy usage it last 1.5days once fully chargedPerformance 8-10All apps working fine n smoothI dont play games on phone but tried nfs no limits,taking time to load but running pretty smooth.once in a week i faced app crashed issue don't know why,maybe lots of app in multi task..so thats why 8-10 Camera 7-10You cant get everything on 1 phone with this price...READ MORE</th>\n",
       "      <td>Flipkart Customer</td>\n",
       "    </tr>\n",
       "    <tr>\n",
       "      <th>Most underrated mobile phone in this budget like its predecessor vibe P1. Lenovo's marketing is to blamed for this. Anyways, Received this device in a good packing and now writing initial review after using it for 5 days. Pros-Battery is impressive. It lasts for around 1.5 days with heavy uses. Battery charging speed is also very fast. Mobile display is vibrant. Loudspeaker is nice. I didn't face any issues in call quality as reported by few users. Android 7 is also working fine on my ...READ MORE</th>\n",
       "      <td>Flipkart Customer</td>\n",
       "    </tr>\n",
       "    <tr>\n",
       "      <th>I have been using this phone for the 3rd year now. The battery never disappointed till now. Even now, i only charge it once in 1 and a half day after using WhatsApp, Insta, Browsing, Camera whole day... With the last software update there are some problems like the Sims don't work if both are put together or sometimes the hotspot just doesn't start at all and so for these things I have to restart it or do some workaround. Even though sometimes the phone lags when a lot of apps are open and yo...READ MORE</th>\n",
       "      <td>Harsh</td>\n",
       "    </tr>\n",
       "    <tr>\n",
       "      <th>Best phone in best price . I am fully satisfied with the phone no issue. Thank you Lenovo for affordable price. Thank you Flipkart for giving exciting​ offers😊😀READ MORE</th>\n",
       "      <td>Aniket Deshmukh</td>\n",
       "    </tr>\n",
       "    <tr>\n",
       "      <th>After using 9 days till now no problem full smooth no lag and best thing is sound it have no dolby support but if you compare with dolby phones its sound has more depth of feel really awesomeAfter nougat upgrade i feel more stable and classy about this phone build and looks are too much premiumBut there is a fault in the screen of phone let me clear this if you apply any temper glass on your phone it gets raised by side and that looks ugly.... Overall i got it at 14k and is bang for the buck.READ MORE</th>\n",
       "      <td>Nilesh Kumar rana</td>\n",
       "    </tr>\n",
       "  </tbody>\n",
       "</table>\n",
       "</div>"
      ],
      "text/plain": [
       "                                                                         0\n",
       "Excellent phone with rich features. Good batter...            Suresh Menon\n",
       "The Lenovo P2 a good and proud successor of P1....            Suhas Salian\n",
       "Been playing with it for the past few days. Ove...  Srihari Vijayaraghavan\n",
       "Superb Device If You want some proof go to my c...           Susama Behera\n",
       "Got Rs 2000/- discount on Lenovo P2 (4GB RAM Ve...             Farooq Khan\n",
       "Writing a review after a month of use .. absolu...        Akshay Manerikar\n",
       "Good built in quality and wonderful battery lif...          Sandeep Kavety\n",
       "Lenovo P2 is a nice phone for heavy smart phone...         Ojaswi Dewangan\n",
       "Reviewing after 15 days of usesPros1. Battery: ...       Vikas Bhaleriwala\n",
       "Phone is really good in use. I am using it from...            Ankit Nirwal\n",
       "Lenovo has focused on Battery , but forgot to f...   SANTOSH KUMAR MOHANTY\n",
       "Good Battery life- 5100mAh Battery.I continuous...       Flipkart Customer\n",
       "Great phone. Within 1 month phone speakers turn...            Bharat Sammi\n",
       "Editing this review after 3 days of use Pros:1)...            PRADIP JOSHI\n",
       "Excellent phone. Been using it for over a week ...           Veena Singhal\n",
       "Mind blowingI have been really watching many re...       Flipkart Customer\n",
       "Hi folks.I know it will take a while for me to ...          Rakesh  Roshan\n",
       "I was also very confused between this phone, Re...      shivanandana hegde\n",
       "After breaking My Nexus 6p Screen, I went on se...      Swaroop Pandurangi\n",
       "Awesome phone ! Go for it !!Just got it yesterd...               R.S Akhil\n",
       "First of all i am not the guy who looks like a ...     Prathamesh Khairnar\n",
       "Phone is excellent there is no any prblm in the...          amit Wadnerkar\n",
       "Super quick fingerprint sensor, super fast came...           VIVEK SATYANI\n",
       "Sharing this after around 15 days of useBiggest...       Flipkart Customer\n",
       "Using this phone for almost 2 weeks now.. On ti...              Ravi Hugar\n",
       "Ive been using he lenovo p2, 4gb ram version fo...           Ben Sam Jacob\n",
       "I've been using this phone for 2 months. Initia...                  Nithin\n",
       "One of the best battery phone available in mark...          Akash Karmakar\n",
       "If you are looking for a device with excellent ...         Sreeraj Baburaj\n",
       "This is an awesome phone as for as battery powe...       Flipkart Customer\n",
       "The phone was very good the only bad thing is i...        Puneet Choudhary\n",
       "Best In Class HardwareRevisiting after 6 months...           KUNAL MAHAJAN\n",
       "Also compared with Xiaomi Redmi Note 4.Pros:1. ...              anand naik\n",
       "Guys just go for this wonderful masterpiece..It...          Amol  Kasliwal\n",
       "I am rating this phone considering all imp para...       Flipkart Customer\n",
       "After using 4 months,Display 10-10Super amoled ...       Flipkart Customer\n",
       "Most underrated mobile phone in this budget lik...       Flipkart Customer\n",
       "I have been using this phone for the 3rd year n...                   Harsh\n",
       "Best phone in best price . I am fully satisfied...         Aniket Deshmukh\n",
       "After using 9 days till now no problem full smo...       Nilesh Kumar rana"
      ]
     },
     "execution_count": 146,
     "metadata": {},
     "output_type": "execute_result"
    }
   ],
   "source": [
    "data1 =  pd.DataFrame.from_dict(df,orient='index')\n",
    "data1"
   ]
  },
  {
   "cell_type": "code",
   "execution_count": 141,
   "id": "379067a8",
   "metadata": {},
   "outputs": [],
   "source": [
    "data1.to_csv('phone1.csv')"
   ]
  },
  {
   "cell_type": "code",
   "execution_count": 142,
   "id": "9467f161",
   "metadata": {},
   "outputs": [],
   "source": [
    "import os"
   ]
  },
  {
   "cell_type": "code",
   "execution_count": 143,
   "id": "778d910a",
   "metadata": {},
   "outputs": [
    {
     "data": {
      "text/plain": [
       "'C:\\\\Users\\\\aishn'"
      ]
     },
     "execution_count": 143,
     "metadata": {},
     "output_type": "execute_result"
    }
   ],
   "source": [
    "pwd"
   ]
  },
  {
   "cell_type": "code",
   "execution_count": 144,
   "id": "c4697425",
   "metadata": {},
   "outputs": [
    {
     "data": {
      "text/html": [
       "<div>\n",
       "<style scoped>\n",
       "    .dataframe tbody tr th:only-of-type {\n",
       "        vertical-align: middle;\n",
       "    }\n",
       "\n",
       "    .dataframe tbody tr th {\n",
       "        vertical-align: top;\n",
       "    }\n",
       "\n",
       "    .dataframe thead th {\n",
       "        text-align: right;\n",
       "    }\n",
       "</style>\n",
       "<table border=\"1\" class=\"dataframe\">\n",
       "  <thead>\n",
       "    <tr style=\"text-align: right;\">\n",
       "      <th></th>\n",
       "      <th>Unnamed: 0</th>\n",
       "      <th>0</th>\n",
       "    </tr>\n",
       "  </thead>\n",
       "  <tbody>\n",
       "    <tr>\n",
       "      <th>0</th>\n",
       "      <td>Excellent phone with rich features. Good batte...</td>\n",
       "      <td>Suresh Menon</td>\n",
       "    </tr>\n",
       "    <tr>\n",
       "      <th>1</th>\n",
       "      <td>The Lenovo P2 a good and proud successor of P1...</td>\n",
       "      <td>Suhas Salian</td>\n",
       "    </tr>\n",
       "    <tr>\n",
       "      <th>2</th>\n",
       "      <td>Been playing with it for the past few days. Ov...</td>\n",
       "      <td>Srihari Vijayaraghavan</td>\n",
       "    </tr>\n",
       "    <tr>\n",
       "      <th>3</th>\n",
       "      <td>Superb Device If You want some proof go to my ...</td>\n",
       "      <td>Susama Behera</td>\n",
       "    </tr>\n",
       "    <tr>\n",
       "      <th>4</th>\n",
       "      <td>Got Rs 2000/- discount on Lenovo P2 (4GB RAM V...</td>\n",
       "      <td>Farooq Khan</td>\n",
       "    </tr>\n",
       "    <tr>\n",
       "      <th>5</th>\n",
       "      <td>Writing a review after a month of use .. absol...</td>\n",
       "      <td>Akshay Manerikar</td>\n",
       "    </tr>\n",
       "    <tr>\n",
       "      <th>6</th>\n",
       "      <td>Good built in quality and wonderful battery li...</td>\n",
       "      <td>Sandeep Kavety</td>\n",
       "    </tr>\n",
       "    <tr>\n",
       "      <th>7</th>\n",
       "      <td>Lenovo P2 is a nice phone for heavy smart phon...</td>\n",
       "      <td>Ojaswi Dewangan</td>\n",
       "    </tr>\n",
       "    <tr>\n",
       "      <th>8</th>\n",
       "      <td>Reviewing after 15 days of usesPros1. Battery:...</td>\n",
       "      <td>Vikas Bhaleriwala</td>\n",
       "    </tr>\n",
       "    <tr>\n",
       "      <th>9</th>\n",
       "      <td>Phone is really good in use. I am using it fro...</td>\n",
       "      <td>Ankit Nirwal</td>\n",
       "    </tr>\n",
       "    <tr>\n",
       "      <th>10</th>\n",
       "      <td>Lenovo has focused on Battery , but forgot to ...</td>\n",
       "      <td>SANTOSH KUMAR MOHANTY</td>\n",
       "    </tr>\n",
       "    <tr>\n",
       "      <th>11</th>\n",
       "      <td>Good Battery life- 5100mAh Battery.I continuou...</td>\n",
       "      <td>Flipkart Customer</td>\n",
       "    </tr>\n",
       "    <tr>\n",
       "      <th>12</th>\n",
       "      <td>Great phone. Within 1 month phone speakers tur...</td>\n",
       "      <td>Bharat Sammi</td>\n",
       "    </tr>\n",
       "    <tr>\n",
       "      <th>13</th>\n",
       "      <td>Editing this review after 3 days of use Pros:1...</td>\n",
       "      <td>PRADIP JOSHI</td>\n",
       "    </tr>\n",
       "    <tr>\n",
       "      <th>14</th>\n",
       "      <td>Excellent phone. Been using it for over a week...</td>\n",
       "      <td>Veena Singhal</td>\n",
       "    </tr>\n",
       "    <tr>\n",
       "      <th>15</th>\n",
       "      <td>Mind blowingI have been really watching many r...</td>\n",
       "      <td>Flipkart Customer</td>\n",
       "    </tr>\n",
       "    <tr>\n",
       "      <th>16</th>\n",
       "      <td>Hi folks.I know it will take a while for me to...</td>\n",
       "      <td>Rakesh  Roshan</td>\n",
       "    </tr>\n",
       "    <tr>\n",
       "      <th>17</th>\n",
       "      <td>I was also very confused between this phone, R...</td>\n",
       "      <td>shivanandana hegde</td>\n",
       "    </tr>\n",
       "    <tr>\n",
       "      <th>18</th>\n",
       "      <td>After breaking My Nexus 6p Screen, I went on s...</td>\n",
       "      <td>Swaroop Pandurangi</td>\n",
       "    </tr>\n",
       "    <tr>\n",
       "      <th>19</th>\n",
       "      <td>Awesome phone ! Go for it !!Just got it yester...</td>\n",
       "      <td>R.S Akhil</td>\n",
       "    </tr>\n",
       "    <tr>\n",
       "      <th>20</th>\n",
       "      <td>First of all i am not the guy who looks like a...</td>\n",
       "      <td>Prathamesh Khairnar</td>\n",
       "    </tr>\n",
       "    <tr>\n",
       "      <th>21</th>\n",
       "      <td>Phone is excellent there is no any prblm in th...</td>\n",
       "      <td>amit Wadnerkar</td>\n",
       "    </tr>\n",
       "    <tr>\n",
       "      <th>22</th>\n",
       "      <td>Super quick fingerprint sensor, super fast cam...</td>\n",
       "      <td>VIVEK SATYANI</td>\n",
       "    </tr>\n",
       "    <tr>\n",
       "      <th>23</th>\n",
       "      <td>Sharing this after around 15 days of useBigges...</td>\n",
       "      <td>Flipkart Customer</td>\n",
       "    </tr>\n",
       "    <tr>\n",
       "      <th>24</th>\n",
       "      <td>Using this phone for almost 2 weeks now.. On t...</td>\n",
       "      <td>Ravi Hugar</td>\n",
       "    </tr>\n",
       "    <tr>\n",
       "      <th>25</th>\n",
       "      <td>Ive been using he lenovo p2, 4gb ram version f...</td>\n",
       "      <td>Ben Sam Jacob</td>\n",
       "    </tr>\n",
       "    <tr>\n",
       "      <th>26</th>\n",
       "      <td>I've been using this phone for 2 months. Initi...</td>\n",
       "      <td>Nithin</td>\n",
       "    </tr>\n",
       "    <tr>\n",
       "      <th>27</th>\n",
       "      <td>One of the best battery phone available in mar...</td>\n",
       "      <td>Akash Karmakar</td>\n",
       "    </tr>\n",
       "    <tr>\n",
       "      <th>28</th>\n",
       "      <td>If you are looking for a device with excellent...</td>\n",
       "      <td>Sreeraj Baburaj</td>\n",
       "    </tr>\n",
       "    <tr>\n",
       "      <th>29</th>\n",
       "      <td>This is an awesome phone as for as battery pow...</td>\n",
       "      <td>Flipkart Customer</td>\n",
       "    </tr>\n",
       "    <tr>\n",
       "      <th>30</th>\n",
       "      <td>The phone was very good the only bad thing is ...</td>\n",
       "      <td>Puneet Choudhary</td>\n",
       "    </tr>\n",
       "    <tr>\n",
       "      <th>31</th>\n",
       "      <td>Best In Class HardwareRevisiting after 6 month...</td>\n",
       "      <td>KUNAL MAHAJAN</td>\n",
       "    </tr>\n",
       "    <tr>\n",
       "      <th>32</th>\n",
       "      <td>Also compared with Xiaomi Redmi Note 4.Pros:1....</td>\n",
       "      <td>anand naik</td>\n",
       "    </tr>\n",
       "    <tr>\n",
       "      <th>33</th>\n",
       "      <td>Guys just go for this wonderful masterpiece..I...</td>\n",
       "      <td>Amol  Kasliwal</td>\n",
       "    </tr>\n",
       "    <tr>\n",
       "      <th>34</th>\n",
       "      <td>I am rating this phone considering all imp par...</td>\n",
       "      <td>Flipkart Customer</td>\n",
       "    </tr>\n",
       "    <tr>\n",
       "      <th>35</th>\n",
       "      <td>After using 4 months,Display 10-10Super amoled...</td>\n",
       "      <td>Flipkart Customer</td>\n",
       "    </tr>\n",
       "    <tr>\n",
       "      <th>36</th>\n",
       "      <td>Most underrated mobile phone in this budget li...</td>\n",
       "      <td>Flipkart Customer</td>\n",
       "    </tr>\n",
       "    <tr>\n",
       "      <th>37</th>\n",
       "      <td>I have been using this phone for the 3rd year ...</td>\n",
       "      <td>Harsh</td>\n",
       "    </tr>\n",
       "    <tr>\n",
       "      <th>38</th>\n",
       "      <td>Best phone in best price . I am fully satisfie...</td>\n",
       "      <td>Aniket Deshmukh</td>\n",
       "    </tr>\n",
       "    <tr>\n",
       "      <th>39</th>\n",
       "      <td>After using 9 days till now no problem full sm...</td>\n",
       "      <td>Nilesh Kumar rana</td>\n",
       "    </tr>\n",
       "  </tbody>\n",
       "</table>\n",
       "</div>"
      ],
      "text/plain": [
       "                                           Unnamed: 0                       0\n",
       "0   Excellent phone with rich features. Good batte...            Suresh Menon\n",
       "1   The Lenovo P2 a good and proud successor of P1...            Suhas Salian\n",
       "2   Been playing with it for the past few days. Ov...  Srihari Vijayaraghavan\n",
       "3   Superb Device If You want some proof go to my ...           Susama Behera\n",
       "4   Got Rs 2000/- discount on Lenovo P2 (4GB RAM V...             Farooq Khan\n",
       "5   Writing a review after a month of use .. absol...        Akshay Manerikar\n",
       "6   Good built in quality and wonderful battery li...          Sandeep Kavety\n",
       "7   Lenovo P2 is a nice phone for heavy smart phon...         Ojaswi Dewangan\n",
       "8   Reviewing after 15 days of usesPros1. Battery:...       Vikas Bhaleriwala\n",
       "9   Phone is really good in use. I am using it fro...            Ankit Nirwal\n",
       "10  Lenovo has focused on Battery , but forgot to ...   SANTOSH KUMAR MOHANTY\n",
       "11  Good Battery life- 5100mAh Battery.I continuou...       Flipkart Customer\n",
       "12  Great phone. Within 1 month phone speakers tur...            Bharat Sammi\n",
       "13  Editing this review after 3 days of use Pros:1...            PRADIP JOSHI\n",
       "14  Excellent phone. Been using it for over a week...           Veena Singhal\n",
       "15  Mind blowingI have been really watching many r...       Flipkart Customer\n",
       "16  Hi folks.I know it will take a while for me to...          Rakesh  Roshan\n",
       "17  I was also very confused between this phone, R...      shivanandana hegde\n",
       "18  After breaking My Nexus 6p Screen, I went on s...      Swaroop Pandurangi\n",
       "19  Awesome phone ! Go for it !!Just got it yester...               R.S Akhil\n",
       "20  First of all i am not the guy who looks like a...     Prathamesh Khairnar\n",
       "21  Phone is excellent there is no any prblm in th...          amit Wadnerkar\n",
       "22  Super quick fingerprint sensor, super fast cam...           VIVEK SATYANI\n",
       "23  Sharing this after around 15 days of useBigges...       Flipkart Customer\n",
       "24  Using this phone for almost 2 weeks now.. On t...              Ravi Hugar\n",
       "25  Ive been using he lenovo p2, 4gb ram version f...           Ben Sam Jacob\n",
       "26  I've been using this phone for 2 months. Initi...                  Nithin\n",
       "27  One of the best battery phone available in mar...          Akash Karmakar\n",
       "28  If you are looking for a device with excellent...         Sreeraj Baburaj\n",
       "29  This is an awesome phone as for as battery pow...       Flipkart Customer\n",
       "30  The phone was very good the only bad thing is ...        Puneet Choudhary\n",
       "31  Best In Class HardwareRevisiting after 6 month...           KUNAL MAHAJAN\n",
       "32  Also compared with Xiaomi Redmi Note 4.Pros:1....              anand naik\n",
       "33  Guys just go for this wonderful masterpiece..I...          Amol  Kasliwal\n",
       "34  I am rating this phone considering all imp par...       Flipkart Customer\n",
       "35  After using 4 months,Display 10-10Super amoled...       Flipkart Customer\n",
       "36  Most underrated mobile phone in this budget li...       Flipkart Customer\n",
       "37  I have been using this phone for the 3rd year ...                   Harsh\n",
       "38  Best phone in best price . I am fully satisfie...         Aniket Deshmukh\n",
       "39  After using 9 days till now no problem full sm...       Nilesh Kumar rana"
      ]
     },
     "execution_count": 144,
     "metadata": {},
     "output_type": "execute_result"
    }
   ],
   "source": [
    "dfdata = pd.read_csv('phone1.csv')\n",
    "dfdata"
   ]
  },
  {
   "cell_type": "code",
   "execution_count": null,
   "id": "e1531257",
   "metadata": {},
   "outputs": [],
   "source": [
    "#\n"
   ]
  }
 ],
 "metadata": {
  "kernelspec": {
   "display_name": "Python 3 (ipykernel)",
   "language": "python",
   "name": "python3"
  },
  "language_info": {
   "codemirror_mode": {
    "name": "ipython",
    "version": 3
   },
   "file_extension": ".py",
   "mimetype": "text/x-python",
   "name": "python",
   "nbconvert_exporter": "python",
   "pygments_lexer": "ipython3",
   "version": "3.9.13"
  }
 },
 "nbformat": 4,
 "nbformat_minor": 5
}
